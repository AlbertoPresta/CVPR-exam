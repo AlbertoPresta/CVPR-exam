{
 "cells": [
  {
   "cell_type": "markdown",
   "metadata": {},
   "source": [
    "# OVERVIEW\n",
    "\n",
    "In this second part, as I just said, I will try to improve my results by building different cnn with differet characteristics. As I said before, my main goal is to improve test accuracy, first of all, i perform  data augmentation in order to have more data to train my network; we will see that just doing this stuff improves a lot our results. the details of data augmentation are described in the pdf and in the function dedicated to data aumentation, which is stored in a file call \"utils\". \n",
    "\n"
   ]
  },
  {
   "cell_type": "code",
   "execution_count": 14,
   "metadata": {},
   "outputs": [],
   "source": [
    "#CELL DEDICATED TO IMPORT PACKAGES USEFULL FOR OUR PURPOSES\n",
    "import numpy as np\n",
    "import matplotlib.pyplot as plt\n",
    "import PIL\n",
    "from keras.models import Sequential\n",
    "from keras.layers import Dense\n",
    "import os\n",
    "import cv2\n",
    "from keras.utils import to_categorical\n",
    "from keras import optimizers\n",
    "from keras import initializers\n",
    "from keras.callbacks import EarlyStopping\n",
    "from keras.callbacks import History\n",
    "from keras.layers.normalization import BatchNormalization\n",
    "from keras.utils import plot_model\n",
    "from sklearn.metrics import confusion_matrix\n",
    "\n",
    "from keras.layers import Conv2D,Flatten,Dropout, MaxPooling2D,AveragePooling2D\n",
    "\n",
    "import import_ipynb\n",
    "import utils\n",
    "\n"
   ]
  },
  {
   "cell_type": "code",
   "execution_count": 15,
   "metadata": {},
   "outputs": [],
   "source": [
    "# SOME IMPORTANT GLOBAL VARIABLE\n",
    "labels = [\"Bedroom\",\"Coast\",\"Forest\",\"HighWay\",\"Industrial\",\"InsideCity\",\"Kitchen\",\"LivingRoom\",\"Mountain\",\"Office\",\"OpenCountry\",\"Store\",\"Street\",\"Suburb\",\"TallBuilding\"]\n",
    "train_dir = '../images/train/'\n",
    "test_dir = '../images/test/'\n"
   ]
  },
  {
   "cell_type": "code",
   "execution_count": 16,
   "metadata": {},
   "outputs": [],
   "source": [
    "#creation of  initial data\n",
    "#train data\n",
    "list_of_images = utils.list_of_path(labels,train_dir)\n",
    "train_data,train_labels= utils.read_and_process_images(list_of_images)\n",
    "\n",
    "#test data\n",
    "list_of_images_test = utils.list_of_path(labels,test_dir)\n",
    "test_data,test_labels = utils.read_and_process_images(list_of_images_test)\n"
   ]
  },
  {
   "cell_type": "markdown",
   "metadata": {},
   "source": [
    "# DATA AUGMENTATION \n",
    "\n",
    "In order to try to achieve a better result, first of all we will try to augment our available data by performing a left-to-right tranformation and cropping. Details of how function \"data_augmentation\" works are in the presentation paper and in the function"
   ]
  },
  {
   "cell_type": "code",
   "execution_count": 17,
   "metadata": {},
   "outputs": [],
   "source": [
    "# augmented train data with left-to-right reflection and cropping-->\n",
    "train_data_aug,train_labels_aug = utils.data_augmentation(train_data,train_labels,cropping=True,crop_y=14,crop_x=14)\n",
    "test_data_aug, test_labels_aug = utils.data_augmentation(test_data,test_labels,cropping=True,crop_y=14,crop_x=14)"
   ]
  },
  {
   "cell_type": "code",
   "execution_count": 18,
   "metadata": {},
   "outputs": [],
   "source": [
    "# reshape the data in order to make them feasible \n",
    "train_data_aug = train_data_aug.reshape(train_data_aug.shape[0],train_data_aug.shape[1],train_data_aug.shape[2],1)\n",
    "test_data_aug = test_data_aug.reshape(test_data_aug.shape[0],test_data_aug.shape[1],test_data_aug.shape[2],1)"
   ]
  },
  {
   "cell_type": "code",
   "execution_count": 19,
   "metadata": {},
   "outputs": [],
   "source": [
    "# create one-note-encoding to make labels feasible for the cnn\n",
    "test_labels_dummy = to_categorical(test_labels,15)\n",
    "train_labels_dummy_aug = to_categorical(train_labels_aug,15)\n",
    "test_labels_dummy_aug = to_categorical(test_labels_aug,15)"
   ]
  },
  {
   "cell_type": "markdown",
   "metadata": {},
   "source": [
    "# CREATION OF THE CNN \n",
    "\n",
    "FIrstly we will try to simply apply the same cnn that we build in the previus part of the exercise and see how the solution gets improved (remember: test_accuracy~0.33)"
   ]
  },
  {
   "cell_type": "code",
   "execution_count": 20,
   "metadata": {},
   "outputs": [
    {
     "data": {
      "text/plain": [
       "(8955,)"
      ]
     },
     "execution_count": 20,
     "metadata": {},
     "output_type": "execute_result"
    }
   ],
   "source": [
    "test_labels_aug.shape"
   ]
  },
  {
   "cell_type": "code",
   "execution_count": 21,
   "metadata": {},
   "outputs": [],
   "source": [
    "sgd = optimizers.SGD(momentum=0.9,nesterov=True,decay = 1e-6, lr = 0.01)\n",
    "norm = initializers.RandomNormal(mean=0.0, stddev=0.01, seed=None)"
   ]
  },
  {
   "cell_type": "code",
   "execution_count": 22,
   "metadata": {},
   "outputs": [],
   "source": [
    "\n",
    "model = Sequential()\n",
    "#first convolutional layer\n",
    "model.add(Conv2D(filters=8,kernel_size=3,padding = 'valid',activation='relu',input_shape=(64,64,1)))\n",
    "model.add(MaxPooling2D(pool_size=2,strides=2))\n",
    "\n",
    "#secondo convolutional layer\n",
    "model.add(Conv2D(filters=16,kernel_size=3,strides=2,padding='valid',activation='relu',input_shape=(64,64,1)))\n",
    "model.add(MaxPooling2D(pool_size=2,strides=2))\n",
    "\n",
    "#third convolutional layer\n",
    "model.add(Conv2D(filters=32,kernel_size=3,padding='valid',activation='relu',input_shape=(64,64,1)))\n",
    "model.add(Flatten())\n",
    "model.add(Dense(15,activation='relu',kernel_initializer=norm,bias_initializer='zeros'))\n",
    "model.add(Dense(15,activation='softmax'))\n",
    "\n",
    "#classification output\n",
    "model.compile(loss='categorical_crossentropy',optimizer=sgd,metrics = ['accuracy'])\n",
    "\n",
    "\n",
    "\n"
   ]
  },
  {
   "cell_type": "code",
   "execution_count": 23,
   "metadata": {
    "scrolled": true
   },
   "outputs": [
    {
     "name": "stdout",
     "output_type": "stream",
     "text": [
      "Train on 3600 samples, validate on 900 samples\n",
      "Epoch 1/100\n",
      "3600/3600 [==============================] - 3s 859us/step - loss: 2.7086 - accuracy: 0.0667 - val_loss: 2.7059 - val_accuracy: 0.0822\n",
      "Epoch 2/100\n",
      "3600/3600 [==============================] - 3s 863us/step - loss: 2.7051 - accuracy: 0.0747 - val_loss: 2.6993 - val_accuracy: 0.0756\n",
      "Epoch 3/100\n",
      "3600/3600 [==============================] - 3s 833us/step - loss: 2.6921 - accuracy: 0.0942 - val_loss: 2.6783 - val_accuracy: 0.1000\n",
      "Epoch 4/100\n",
      "3600/3600 [==============================] - 3s 889us/step - loss: 2.6418 - accuracy: 0.1236 - val_loss: 2.6116 - val_accuracy: 0.1078\n",
      "Epoch 5/100\n",
      "3600/3600 [==============================] - 3s 852us/step - loss: 2.4864 - accuracy: 0.1936 - val_loss: 2.3858 - val_accuracy: 0.2456\n",
      "Epoch 6/100\n",
      "3600/3600 [==============================] - 3s 811us/step - loss: 2.3117 - accuracy: 0.2528 - val_loss: 2.2567 - val_accuracy: 0.2467\n",
      "Epoch 7/100\n",
      "3600/3600 [==============================] - 3s 827us/step - loss: 2.1627 - accuracy: 0.2914 - val_loss: 2.4670 - val_accuracy: 0.2078\n",
      "Epoch 8/100\n",
      "3600/3600 [==============================] - 3s 893us/step - loss: 2.0097 - accuracy: 0.3328 - val_loss: 1.9945 - val_accuracy: 0.3656\n",
      "Epoch 9/100\n",
      "3600/3600 [==============================] - 3s 815us/step - loss: 1.8585 - accuracy: 0.3872 - val_loss: 2.0405 - val_accuracy: 0.3200\n",
      "Epoch 10/100\n",
      "3600/3600 [==============================] - 3s 825us/step - loss: 1.7170 - accuracy: 0.4278 - val_loss: 1.7032 - val_accuracy: 0.4156\n",
      "Epoch 11/100\n",
      "3600/3600 [==============================] - 3s 851us/step - loss: 1.5730 - accuracy: 0.4719 - val_loss: 1.5583 - val_accuracy: 0.4644\n",
      "Epoch 12/100\n",
      "3600/3600 [==============================] - 3s 832us/step - loss: 1.4362 - accuracy: 0.5136 - val_loss: 1.5990 - val_accuracy: 0.4633\n",
      "Epoch 13/100\n",
      "3600/3600 [==============================] - 3s 777us/step - loss: 1.3395 - accuracy: 0.5522 - val_loss: 1.4056 - val_accuracy: 0.5178\n",
      "Epoch 14/100\n",
      "3600/3600 [==============================] - 3s 802us/step - loss: 1.2124 - accuracy: 0.5889 - val_loss: 1.4072 - val_accuracy: 0.5133\n",
      "Epoch 15/100\n",
      "3600/3600 [==============================] - 3s 805us/step - loss: 1.1000 - accuracy: 0.6192 - val_loss: 1.3982 - val_accuracy: 0.5344\n",
      "Epoch 16/100\n",
      "3600/3600 [==============================] - 3s 761us/step - loss: 1.0150 - accuracy: 0.6469 - val_loss: 1.3647 - val_accuracy: 0.5367\n",
      "Epoch 17/100\n",
      "3600/3600 [==============================] - 3s 766us/step - loss: 0.9292 - accuracy: 0.6781 - val_loss: 1.8409 - val_accuracy: 0.4367\n",
      "Epoch 18/100\n",
      "3600/3600 [==============================] - 3s 827us/step - loss: 0.8746 - accuracy: 0.6961 - val_loss: 1.4947 - val_accuracy: 0.5367\n",
      "Epoch 19/100\n",
      "3600/3600 [==============================] - 3s 805us/step - loss: 0.7835 - accuracy: 0.7264 - val_loss: 1.7561 - val_accuracy: 0.4922\n",
      "Epoch 20/100\n",
      "3600/3600 [==============================] - 3s 823us/step - loss: 0.7131 - accuracy: 0.7481 - val_loss: 1.4902 - val_accuracy: 0.5511\n",
      "Epoch 21/100\n",
      "3600/3600 [==============================] - 3s 857us/step - loss: 0.6916 - accuracy: 0.7625 - val_loss: 1.6473 - val_accuracy: 0.5544\n",
      "Epoch 22/100\n",
      "3600/3600 [==============================] - 3s 797us/step - loss: 0.5729 - accuracy: 0.7925 - val_loss: 1.7322 - val_accuracy: 0.5378\n",
      "Epoch 23/100\n",
      "3600/3600 [==============================] - 3s 806us/step - loss: 0.5093 - accuracy: 0.8178 - val_loss: 1.6940 - val_accuracy: 0.5511\n"
     ]
    },
    {
     "data": {
      "text/plain": [
       "<keras.callbacks.callbacks.History at 0x1a983b8f60>"
      ]
     },
     "execution_count": 23,
     "metadata": {},
     "output_type": "execute_result"
    }
   ],
   "source": [
    "history = History()\n",
    "earlyStopping = EarlyStopping(min_delta=0.10,patience = 10)\n",
    "\n",
    "\n",
    "model.fit(train_data_aug,train_labels_dummy_aug,batch_size=32,epochs=100,validation_split=0.20,shuffle=True,callbacks=[earlyStopping,history])\n"
   ]
  },
  {
   "cell_type": "code",
   "execution_count": 24,
   "metadata": {},
   "outputs": [
    {
     "name": "stdout",
     "output_type": "stream",
     "text": [
      "8955/8955 [==============================] - 3s 356us/step\n"
     ]
    },
    {
     "data": {
      "text/plain": [
       "[2.326505197112884, 0.46845337748527527]"
      ]
     },
     "execution_count": 24,
     "metadata": {},
     "output_type": "execute_result"
    }
   ],
   "source": [
    "model.evaluate(test_data_aug,test_labels_dummy_aug)"
   ]
  },
  {
   "cell_type": "code",
   "execution_count": 34,
   "metadata": {},
   "outputs": [
    {
     "data": {
      "text/plain": [
       "(8955, 15)"
      ]
     },
     "execution_count": 34,
     "metadata": {},
     "output_type": "execute_result"
    }
   ],
   "source": [
    "v = model.predict_proba(test_data_aug)\n",
    "v.shape"
   ]
  },
  {
   "cell_type": "code",
   "execution_count": null,
   "metadata": {},
   "outputs": [],
   "source": [
    "plt.title(\"validation loss\")\n",
    "plt.xlabel(\"epochs\")\n",
    "plt.ylabel(\"loss\")\n",
    "plt.plot(history.history['val_loss'])\n",
    "plt.grid()\n",
    "plt.savefig(\"images_point_two/val_loss_data_augmentation_only.jpg\")"
   ]
  },
  {
   "cell_type": "code",
   "execution_count": null,
   "metadata": {},
   "outputs": [],
   "source": []
  },
  {
   "cell_type": "code",
   "execution_count": null,
   "metadata": {},
   "outputs": [],
   "source": [
    "plt.title(\"validation accuracy\")\n",
    "plt.xlabel(\"epochs\")\n",
    "plt.ylabel(\"accuracy\")\n",
    "plt.plot(history.history['val_accuracy'])\n",
    "plt.grid()\n",
    "plt.savefig(\"images_point_two/val_acc_data_augmentation_only.jpg\")"
   ]
  },
  {
   "cell_type": "code",
   "execution_count": null,
   "metadata": {},
   "outputs": [],
   "source": [
    "plt.title(\" accuracy\")\n",
    "plt.xlabel(\"epochs\")\n",
    "plt.ylabel(\"accuracy\")\n",
    "plt.plot(history.history['accuracy'])\n",
    "plt.grid()\n",
    "plt.savefig(\"images_point_two/acc_data_augmentation_only.jpg\")"
   ]
  },
  {
   "cell_type": "code",
   "execution_count": null,
   "metadata": {},
   "outputs": [],
   "source": [
    "plt.title(\"loss\")\n",
    "plt.xlabel(\"epochs\")\n",
    "plt.ylabel(\"accuracy\")\n",
    "plt.plot(history.history['loss'])\n",
    "plt.savefig(\"images_point_two/loss_data_augmentation_only.jpg\")\n",
    "plt.grid()"
   ]
  },
  {
   "cell_type": "code",
   "execution_count": null,
   "metadata": {},
   "outputs": [],
   "source": [
    "from keras.utils import plot_model\n",
    "print(\"My Custom CNN Network:\")\n",
    "plot_model(model, to_file='Images_point_one/custom-cnn.png', show_shapes=True, show_layer_names=True)"
   ]
  },
  {
   "cell_type": "markdown",
   "metadata": {},
   "source": [
    "## OBSERVATION \n",
    "\n",
    "Only with the augmentation of data, we reach a better results in terms of test accuracy (we pass fro 0.33 to 0.44): what to do now? We can try to perform:\n",
    "\n",
    "-BatchNormalization\n",
    "\n",
    "-Add Dropout\n",
    "\n",
    "-Change structure of the CNN, for example by introducing convolutional layer or by changing the size of filters\n",
    "\n",
    "\n",
    "Our aim is to reach a results better than 0.60"
   ]
  },
  {
   "cell_type": "code",
   "execution_count": 9,
   "metadata": {},
   "outputs": [],
   "source": [
    "# I wrote a generic function in which I preservre the main structure of the cnn built in the first part of the exercise\n",
    "#but I add the possibility to add two dropout layer (choosing alse the dropout_rate) and 3 batch layer after performing\n",
    "#relu \n",
    "adam = optimizers.Adam()\n",
    "def cnn(optim,kernel_sz,batch = False, Drop = False, Dropout_rate = 0):\n",
    "    np.random.seed(9)\n",
    "    model = Sequential()\n",
    "    #first convolutional layer\n",
    "    model.add(Conv2D(filters=8,kernel_size=kernel_sz,padding = 'valid',activation='relu',input_shape=(64,64,1)))\n",
    "    if(batch ==True):\n",
    "        model.add(BatchNormalization(axis = 1))\n",
    "    model.add(MaxPooling2D(pool_size=2,strides=2))\n",
    "    if(Drop==True):\n",
    "        model.add(Dropout(Dropout_rate))\n",
    "\n",
    "    #secondo convolutional layer\n",
    "    model.add(Conv2D(filters=16,kernel_size=kernel_sz,strides=2,padding='valid',activation='relu',input_shape=(64,64,1)))\n",
    "    if(batch==True):\n",
    "        model.add(BatchNormalization(axis = 1))\n",
    "    model.add(MaxPooling2D(pool_size=2,strides=2))\n",
    "    if(Drop==True):\n",
    "        model.add(Dropout(Dropout_rate))\n",
    "\n",
    "    #third convolutional layer\n",
    "    model.add(Conv2D(filters=32,kernel_size=kernel_sz,padding='valid',activation='relu',input_shape=(64,64,1)))\n",
    "    model.add(Flatten())\n",
    "    model.add(Dense(15,activation='relu',kernel_initializer=norm,bias_initializer='zeros'))\n",
    "    if(batch==True):\n",
    "        model.add(BatchNormalization(axis = 1))\n",
    "    model.add(Dense(15,activation='softmax'))\n",
    "\n",
    "    #classification output\n",
    "    model.compile(loss='categorical_crossentropy',optimizer= optim,metrics = ['accuracy'])\n",
    "    return model\n",
    "\n",
    "\n",
    "def cnn_2():\n",
    "    np.random.seed(9)\n",
    "    model = Sequential()\n",
    "    #first convolutional layer\n",
    "    model.add(Conv2D(filters=8,kernel_size=(3,3),padding = 'valid',activation='relu',input_shape=(64,64,1)))\n",
    "    \n",
    "    model.add(BatchNormalization(axis = 1))\n",
    "    model.add(MaxPooling2D(pool_size=2,strides=2))\n",
    "    \n",
    "    model.add(Dropout(0.3))\n",
    "\n",
    "    #secondo convolutional layer\n",
    "    model.add(Conv2D(filters=16,kernel_size=(3,3),strides=2,padding='valid',activation='relu',input_shape=(64,64,1)))\n",
    "   \n",
    "    model.add(BatchNormalization(axis = 1))\n",
    "    model.add(MaxPooling2D(pool_size=2,strides=2))\n",
    "    \n",
    "    model.add(Dropout(0.3))\n",
    "\n",
    "    #third convolutional layer\n",
    "    model.add(Conv2D(filters=32,kernel_size=(3,3),padding='valid',activation='relu',input_shape=(64,64,1)))\n",
    "    model.add(Flatten())\n",
    "    model.add(Dense(15,activation='relu',kernel_initializer=norm,bias_initializer='zeros'))\n",
    "    \n",
    "    model.add(BatchNormalization(axis = 1))\n",
    "    model.add(Dense(15,activation='softmax'))\n",
    "\n",
    "    #classification output\n",
    "    model.compile(loss='categorical_crossentropy',optimizer= adam,metrics = ['accuracy'])\n",
    "    return model\n",
    "    \n",
    "    "
   ]
  },
  {
   "cell_type": "code",
   "execution_count": null,
   "metadata": {},
   "outputs": [],
   "source": [
    "#model_2: respect to the originale model, I just add dropout (with rate 0.5) and batchnormalization \n",
    "model_2 = cnn(adam,3,batch=True,Drop=True,Dropout_rate=0.5)"
   ]
  },
  {
   "cell_type": "code",
   "execution_count": null,
   "metadata": {},
   "outputs": [],
   "source": [
    "\n",
    "history_2 = History()\n",
    "earlyStopping_2 = EarlyStopping(min_delta=0.10,patience = 10)\n",
    "\n",
    "\n",
    "model_2.fit(train_data_aug,train_labels_dummy_aug,batch_size=32,epochs=100,validation_split=0.20,shuffle=True,callbacks=[earlyStopping_2,history_2])\n"
   ]
  },
  {
   "cell_type": "code",
   "execution_count": null,
   "metadata": {},
   "outputs": [],
   "source": [
    " model_2.evaluate(test_data_aug,test_labels_dummy_aug)"
   ]
  },
  {
   "cell_type": "code",
   "execution_count": null,
   "metadata": {},
   "outputs": [],
   "source": [
    "# cofunsion matrix of model with batch normalization and dropout \n",
    "y_pred = model.predict_classes(test_data_aug)\n",
    "cm = confusion_matrix(test_labels_aug,y_pred)\n",
    "utils.plot_confusion_matrix(cm,labels,\"point_two_dropout_batch\",\"images_point_two/\",normalize=True)"
   ]
  },
  {
   "cell_type": "code",
   "execution_count": 13,
   "metadata": {},
   "outputs": [
    {
     "ename": "NameError",
     "evalue": "name 'history_2' is not defined",
     "output_type": "error",
     "traceback": [
      "\u001b[0;31m---------------------------------------------------------------------------\u001b[0m",
      "\u001b[0;31mNameError\u001b[0m                                 Traceback (most recent call last)",
      "\u001b[0;32m<ipython-input-13-efb96d2e3eea>\u001b[0m in \u001b[0;36m<module>\u001b[0;34m\u001b[0m\n\u001b[1;32m      2\u001b[0m \u001b[0mplt\u001b[0m\u001b[0;34m.\u001b[0m\u001b[0mxlabel\u001b[0m\u001b[0;34m(\u001b[0m\u001b[0;34m\"epochs\"\u001b[0m\u001b[0;34m)\u001b[0m\u001b[0;34m\u001b[0m\u001b[0;34m\u001b[0m\u001b[0m\n\u001b[1;32m      3\u001b[0m \u001b[0mplt\u001b[0m\u001b[0;34m.\u001b[0m\u001b[0mylabel\u001b[0m\u001b[0;34m(\u001b[0m\u001b[0;34m\"val-loss\"\u001b[0m\u001b[0;34m)\u001b[0m\u001b[0;34m\u001b[0m\u001b[0;34m\u001b[0m\u001b[0m\n\u001b[0;32m----> 4\u001b[0;31m \u001b[0mplt\u001b[0m\u001b[0;34m.\u001b[0m\u001b[0mplot\u001b[0m\u001b[0;34m(\u001b[0m\u001b[0mhistory_2\u001b[0m\u001b[0;34m.\u001b[0m\u001b[0mhistory\u001b[0m\u001b[0;34m[\u001b[0m\u001b[0;34m'val_loss'\u001b[0m\u001b[0;34m]\u001b[0m\u001b[0;34m)\u001b[0m\u001b[0;34m\u001b[0m\u001b[0;34m\u001b[0m\u001b[0m\n\u001b[0m\u001b[1;32m      5\u001b[0m \u001b[0mplt\u001b[0m\u001b[0;34m.\u001b[0m\u001b[0mgrid\u001b[0m\u001b[0;34m(\u001b[0m\u001b[0;34m)\u001b[0m\u001b[0;34m\u001b[0m\u001b[0;34m\u001b[0m\u001b[0m\n\u001b[1;32m      6\u001b[0m \u001b[0mplt\u001b[0m\u001b[0;34m.\u001b[0m\u001b[0msavefig\u001b[0m\u001b[0;34m(\u001b[0m\u001b[0;34m\"images_point_two/validation_loss_dropout_batch.jpg\"\u001b[0m\u001b[0;34m)\u001b[0m\u001b[0;34m\u001b[0m\u001b[0;34m\u001b[0m\u001b[0m\n",
      "\u001b[0;31mNameError\u001b[0m: name 'history_2' is not defined"
     ]
    },
    {
     "data": {
      "image/png": "[encoded data removed]",
      "text/plain": [
       "<Figure size 432x288 with 1 Axes>"
      ]
     },
     "metadata": {
      "needs_background": "light"
     },
     "output_type": "display_data"
    }
   ],
   "source": [
    "plt.title(\"validation loss\")\n",
    "plt.xlabel(\"epochs\")\n",
    "plt.ylabel(\"val-loss\")\n",
    "plt.plot(history_2.history['val_loss'])\n",
    "plt.grid()\n",
    "plt.savefig(\"images_point_two/validation_loss_dropout_batch.jpg\")"
   ]
  },
  {
   "cell_type": "code",
   "execution_count": null,
   "metadata": {},
   "outputs": [],
   "source": [
    "plt.title(\"validation accuracy\")\n",
    "plt.xlabel(\"epochs\")\n",
    "plt.ylabel(\"accuracy\")\n",
    "plt.plot(history_2.history['val_accuracy'])\n",
    "plt.grid()\n",
    "plt.savefig(\"images_point_two/validation_accuracy_dropout_batch.jpg\")"
   ]
  },
  {
   "cell_type": "code",
   "execution_count": null,
   "metadata": {},
   "outputs": [],
   "source": [
    "plt.title(\" accuracy\")\n",
    "plt.xlabel(\"epochs\")\n",
    "plt.ylabel(\"accuracy\")\n",
    "plt.plot(history_2.history['accuracy'])\n",
    "plt.grid()\n",
    "plt.savefig(\"images_point_two/accuracy_dropout_batch.jpg\")"
   ]
  },
  {
   "cell_type": "code",
   "execution_count": null,
   "metadata": {},
   "outputs": [],
   "source": [
    "plt.title(\"Loss\")\n",
    "plt.xlabel(\"epochs\")\n",
    "plt.ylabel(\"accuracy\")\n",
    "plt.plot(history_2.history['loss'])\n",
    "plt.grid()\n",
    "plt.savefig(\"images_point_two/loss_dropout_batch.jpg\")"
   ]
  },
  {
   "cell_type": "code",
   "execution_count": null,
   "metadata": {},
   "outputs": [],
   "source": [
    "#change onglu the size of the kernels--> structures are always the same as the first convolutional network \n",
    "model_3 = cnn(adam,5,batch=True,Drop=True,Dropout_rate=0.3)"
   ]
  },
  {
   "cell_type": "code",
   "execution_count": null,
   "metadata": {
    "scrolled": false
   },
   "outputs": [],
   "source": [
    "history_3 = History()\n",
    "earlyStopping_3 = EarlyStopping(min_delta=0.10,patience = 10)\n",
    "model_3.fit(train_data_aug,train_labels_dummy_aug,batch_size=32,epochs=100,validation_split=0.15,shuffle=True,callbacks=[earlyStopping_3,history_3])\n"
   ]
  },
  {
   "cell_type": "code",
   "execution_count": null,
   "metadata": {},
   "outputs": [],
   "source": [
    "model_3.evaluate(test_data_aug,test_labels_dummy_aug)\n"
   ]
  },
  {
   "cell_type": "code",
   "execution_count": null,
   "metadata": {},
   "outputs": [],
   "source": [
    "plot_model(model_3,show_shapes=True, show_layer_names=True)"
   ]
  },
  {
   "cell_type": "markdown",
   "metadata": {},
   "source": [
    "# ENSEMBLE OF NETWORK \n",
    "\n",
    "In the following cells I wrote two functions in order to perform the so called \"ensemble of network\".\n",
    "\n",
    "-In the first function I train n times a cnn and I perform a prediction on test data in terms of probabilistic distribution along the 15 different classes.\n",
    "\n",
    "-In the second class I perform the mean along the different obtained results"
   ]
  },
  {
   "cell_type": "code",
   "execution_count": 136,
   "metadata": {},
   "outputs": [],
   "source": [
    "\n",
    "def ensemble_of_network(mod,iteration,train_data, train_labels,test_data):\n",
    "    history = History()\n",
    "    earlyStopping = EarlyStopping(min_delta=0.10,patience = 10)\n",
    "    prediction = np.zeros((test_data.shape[0],15))\n",
    "    loss = []\n",
    "    validation_loss = []\n",
    "    validation_acc = []\n",
    "    acc = []\n",
    "    pred_voting = []\n",
    "    for i in range(iteration):\n",
    "        model_temp = mod()\n",
    "        model_temp.fit(train_data,train_labels,batch_size=32,epochs=100,validation_split=0.15,shuffle=True,callbacks=[earlyStopping,history])\n",
    "        prediction = prediction + model_temp.predict_proba(test_data)\n",
    "        pred_voting.append(model_temp.predict_classes(test_data))\n",
    "        loss.append(history.history['loss'])\n",
    "        validation_loss.append(history.history['val_loss'])\n",
    "        validation_acc.append(history.history['val_accuracy'])\n",
    "        acc.append(history.history['accuracy'])\n",
    "    \n",
    "    prediction = prediction/iteration\n",
    "    \n",
    "    return prediction,pred_voting,validation_acc,acc,validation_loss,loss\n",
    "    \n",
    "        \n",
    "def calculate_accuracy(prediction,test_labels):\n",
    "    total = test_labels.shape[0]\n",
    "    cont = 0\n",
    "    for i in range(len(prediction)):\n",
    "        if(np.argmax(prediction[i])==test_labels[i]):\n",
    "            cont = cont + 1\n",
    "        else: \n",
    "            \n",
    "            \n",
    "            continue \n",
    "    res = cont/total\n",
    "    return res \n",
    "\n",
    "##################################################################################\n",
    "def determ_prediction(pred,test_lab):\n",
    "    res = np.zeros(len(pred[0]))\n",
    "    for i in range(len(pred[0])):\n",
    "        cont = np.zeros(15)\n",
    "        #viaggio per le immagini\n",
    "        for j in range(len(pred)):\n",
    "            #viaggio per i tentativi di cnn\n",
    "            \n",
    "            cont[pred[j][i]]+=1\n",
    "        \n",
    "        maxi = np.argmax(cont)\n",
    "        res[i] = maxi\n",
    "        \n",
    "    return res\n",
    "    \n",
    "\n",
    "def calulate_accuracy_with_voting(pred,test_labels):\n",
    "    total = test_labels.shape[0]\n",
    "    cont = 0\n",
    "    for i in range(len(pred)):\n",
    "        if(pred[i]==test_labels[i]):\n",
    "            cont = cont +1\n",
    "        else:\n",
    "            continue\n",
    "    res = cont/total\n",
    "    return res\n",
    "        \n",
    "# il VOTING FA SCHIFO AHAAHAHAHAHAAHAHAHA FORSE HO SBAGLIATO QUALCOSA NEL CODICE, MA NON PENSO "
   ]
  },
  {
   "cell_type": "code",
   "execution_count": 129,
   "metadata": {},
   "outputs": [
    {
     "name": "stdout",
     "output_type": "stream",
     "text": [
      "Train on 3825 samples, validate on 675 samples\n",
      "Epoch 1/100\n",
      "3825/3825 [==============================] - 7s 2ms/step - loss: 2.5821 - accuracy: 0.1605 - val_loss: 3.2186 - val_accuracy: 0.0607\n",
      "Epoch 2/100\n",
      "3825/3825 [==============================] - 6s 2ms/step - loss: 2.2877 - accuracy: 0.2664 - val_loss: 3.1362 - val_accuracy: 0.0859\n",
      "Epoch 3/100\n",
      "3825/3825 [==============================] - 7s 2ms/step - loss: 2.0704 - accuracy: 0.3388 - val_loss: 3.0570 - val_accuracy: 0.0874\n",
      "Epoch 4/100\n",
      "3825/3825 [==============================] - 7s 2ms/step - loss: 1.9170 - accuracy: 0.3888 - val_loss: 2.5254 - val_accuracy: 0.1881\n",
      "Epoch 5/100\n",
      "3825/3825 [==============================] - 6s 2ms/step - loss: 1.7866 - accuracy: 0.4282 - val_loss: 1.9498 - val_accuracy: 0.3156\n",
      "Epoch 6/100\n",
      "3825/3825 [==============================] - 7s 2ms/step - loss: 1.6409 - accuracy: 0.4654 - val_loss: 2.5380 - val_accuracy: 0.2430\n",
      "Epoch 7/100\n",
      "3825/3825 [==============================] - 7s 2ms/step - loss: 1.5497 - accuracy: 0.4931 - val_loss: 1.7865 - val_accuracy: 0.4044\n",
      "Epoch 8/100\n",
      "3825/3825 [==============================] - 7s 2ms/step - loss: 1.4330 - accuracy: 0.5383 - val_loss: 1.7930 - val_accuracy: 0.4074\n",
      "Epoch 9/100\n",
      "3825/3825 [==============================] - 7s 2ms/step - loss: 1.3561 - accuracy: 0.5501 - val_loss: 2.1165 - val_accuracy: 0.3733\n",
      "Epoch 10/100\n",
      "3825/3825 [==============================] - 7s 2ms/step - loss: 1.3111 - accuracy: 0.5673 - val_loss: 1.5647 - val_accuracy: 0.4696\n",
      "Epoch 11/100\n",
      "3825/3825 [==============================] - 7s 2ms/step - loss: 1.2360 - accuracy: 0.5827 - val_loss: 1.4388 - val_accuracy: 0.5007\n",
      "Epoch 12/100\n",
      "3825/3825 [==============================] - 7s 2ms/step - loss: 1.1836 - accuracy: 0.6120 - val_loss: 1.6787 - val_accuracy: 0.4563\n",
      "Epoch 13/100\n",
      "3825/3825 [==============================] - 7s 2ms/step - loss: 1.1298 - accuracy: 0.6241 - val_loss: 1.4011 - val_accuracy: 0.5200\n",
      "Epoch 14/100\n",
      "3825/3825 [==============================] - 7s 2ms/step - loss: 1.0749 - accuracy: 0.6374 - val_loss: 1.4782 - val_accuracy: 0.5200\n",
      "Epoch 15/100\n",
      "3825/3825 [==============================] - 7s 2ms/step - loss: 1.0698 - accuracy: 0.6397 - val_loss: 1.3621 - val_accuracy: 0.5304\n",
      "Epoch 16/100\n",
      "3825/3825 [==============================] - 7s 2ms/step - loss: 1.0427 - accuracy: 0.6434 - val_loss: 1.2454 - val_accuracy: 0.5985\n",
      "Epoch 17/100\n",
      "3825/3825 [==============================] - 7s 2ms/step - loss: 0.9971 - accuracy: 0.6604 - val_loss: 1.2063 - val_accuracy: 0.6030\n",
      "Epoch 18/100\n",
      "3825/3825 [==============================] - 7s 2ms/step - loss: 0.9530 - accuracy: 0.6782 - val_loss: 1.2135 - val_accuracy: 0.5970\n",
      "Epoch 19/100\n",
      "3825/3825 [==============================] - 7s 2ms/step - loss: 0.9593 - accuracy: 0.6795 - val_loss: 1.5275 - val_accuracy: 0.5141\n",
      "Epoch 20/100\n",
      "3825/3825 [==============================] - 7s 2ms/step - loss: 0.9242 - accuracy: 0.6886 - val_loss: 1.3781 - val_accuracy: 0.5630\n",
      "Epoch 21/100\n",
      "3825/3825 [==============================] - 7s 2ms/step - loss: 0.8806 - accuracy: 0.7027 - val_loss: 1.6363 - val_accuracy: 0.4933\n",
      "Epoch 22/100\n",
      "3825/3825 [==============================] - 7s 2ms/step - loss: 0.8951 - accuracy: 0.6975 - val_loss: 2.0499 - val_accuracy: 0.4178\n",
      "Epoch 23/100\n",
      "3825/3825 [==============================] - 7s 2ms/step - loss: 0.8325 - accuracy: 0.7210 - val_loss: 1.0607 - val_accuracy: 0.6370\n",
      "Epoch 24/100\n",
      "3825/3825 [==============================] - 7s 2ms/step - loss: 0.8408 - accuracy: 0.7140 - val_loss: 1.3995 - val_accuracy: 0.5630\n",
      "Epoch 25/100\n",
      "3825/3825 [==============================] - 7s 2ms/step - loss: 0.8143 - accuracy: 0.7258 - val_loss: 1.3993 - val_accuracy: 0.5541\n",
      "Epoch 26/100\n",
      "3825/3825 [==============================] - 7s 2ms/step - loss: 0.7790 - accuracy: 0.7341 - val_loss: 1.5312 - val_accuracy: 0.5600\n",
      "Epoch 27/100\n",
      "3825/3825 [==============================] - 7s 2ms/step - loss: 0.8048 - accuracy: 0.7208 - val_loss: 1.2338 - val_accuracy: 0.5852\n",
      "Epoch 28/100\n",
      "3825/3825 [==============================] - 6s 2ms/step - loss: 0.7969 - accuracy: 0.7203 - val_loss: 1.8265 - val_accuracy: 0.4622\n",
      "Epoch 29/100\n",
      "3825/3825 [==============================] - 7s 2ms/step - loss: 0.7494 - accuracy: 0.7420 - val_loss: 1.1128 - val_accuracy: 0.6341\n",
      "Epoch 30/100\n",
      "3825/3825 [==============================] - 6s 2ms/step - loss: 0.7571 - accuracy: 0.7346 - val_loss: 1.1036 - val_accuracy: 0.6356\n",
      "Epoch 31/100\n",
      "3825/3825 [==============================] - 7s 2ms/step - loss: 0.7282 - accuracy: 0.7514 - val_loss: 1.1444 - val_accuracy: 0.6341\n",
      "Epoch 32/100\n",
      "3825/3825 [==============================] - 7s 2ms/step - loss: 0.7019 - accuracy: 0.7616 - val_loss: 1.0475 - val_accuracy: 0.6385\n",
      "Epoch 33/100\n",
      "3825/3825 [==============================] - 7s 2ms/step - loss: 0.7023 - accuracy: 0.7537 - val_loss: 1.1718 - val_accuracy: 0.6267\n",
      "Train on 3825 samples, validate on 675 samples\n",
      "Epoch 1/100\n",
      "3825/3825 [==============================] - 7s 2ms/step - loss: 2.4907 - accuracy: 0.1956 - val_loss: 3.0542 - val_accuracy: 0.0711\n",
      "Epoch 2/100\n",
      "3825/3825 [==============================] - 7s 2ms/step - loss: 2.1497 - accuracy: 0.3103 - val_loss: 3.4871 - val_accuracy: 0.0741\n",
      "Epoch 3/100\n",
      "3825/3825 [==============================] - 7s 2ms/step - loss: 1.9394 - accuracy: 0.3820 - val_loss: 3.0499 - val_accuracy: 0.1363\n",
      "Epoch 4/100\n",
      "3825/3825 [==============================] - 6s 2ms/step - loss: 1.7413 - accuracy: 0.4353 - val_loss: 3.3157 - val_accuracy: 0.1644\n",
      "Epoch 5/100\n",
      "3825/3825 [==============================] - 6s 2ms/step - loss: 1.5787 - accuracy: 0.4824 - val_loss: 2.0695 - val_accuracy: 0.3007\n",
      "Epoch 6/100\n",
      "3825/3825 [==============================] - 7s 2ms/step - loss: 1.4705 - accuracy: 0.5182 - val_loss: 1.9383 - val_accuracy: 0.3600\n",
      "Epoch 7/100\n",
      "3825/3825 [==============================] - 6s 2ms/step - loss: 1.3842 - accuracy: 0.5433 - val_loss: 1.5277 - val_accuracy: 0.4667\n",
      "Epoch 8/100\n",
      "3825/3825 [==============================] - 7s 2ms/step - loss: 1.3046 - accuracy: 0.5616 - val_loss: 1.6535 - val_accuracy: 0.4444\n",
      "Epoch 9/100\n",
      "3825/3825 [==============================] - 6s 2ms/step - loss: 1.2524 - accuracy: 0.5856 - val_loss: 1.3695 - val_accuracy: 0.5348\n",
      "Epoch 10/100\n",
      "3825/3825 [==============================] - 7s 2ms/step - loss: 1.1950 - accuracy: 0.5990 - val_loss: 1.2662 - val_accuracy: 0.5600\n",
      "Epoch 11/100\n",
      "3825/3825 [==============================] - 7s 2ms/step - loss: 1.1423 - accuracy: 0.6110 - val_loss: 1.2822 - val_accuracy: 0.5407\n",
      "Epoch 12/100\n",
      "3825/3825 [==============================] - 7s 2ms/step - loss: 1.0850 - accuracy: 0.6248 - val_loss: 1.3076 - val_accuracy: 0.5541\n",
      "Epoch 13/100\n",
      "3825/3825 [==============================] - 7s 2ms/step - loss: 1.0479 - accuracy: 0.6379 - val_loss: 1.1632 - val_accuracy: 0.6015\n",
      "Epoch 14/100\n",
      "3825/3825 [==============================] - 7s 2ms/step - loss: 0.9965 - accuracy: 0.6607 - val_loss: 1.0678 - val_accuracy: 0.6193\n",
      "Epoch 15/100\n",
      "3825/3825 [==============================] - 6s 2ms/step - loss: 0.9678 - accuracy: 0.6630 - val_loss: 1.1221 - val_accuracy: 0.6119\n",
      "Epoch 16/100\n",
      "3825/3825 [==============================] - 6s 2ms/step - loss: 0.9430 - accuracy: 0.6850 - val_loss: 1.0661 - val_accuracy: 0.6341\n",
      "Epoch 17/100\n",
      "3825/3825 [==============================] - 7s 2ms/step - loss: 0.9138 - accuracy: 0.6865 - val_loss: 1.0331 - val_accuracy: 0.6533\n",
      "Epoch 18/100\n",
      "3825/3825 [==============================] - 7s 2ms/step - loss: 0.8979 - accuracy: 0.6899 - val_loss: 1.0383 - val_accuracy: 0.6459\n",
      "Epoch 19/100\n",
      "3825/3825 [==============================] - 7s 2ms/step - loss: 0.8685 - accuracy: 0.6946 - val_loss: 1.2521 - val_accuracy: 0.5763\n",
      "Epoch 20/100\n",
      "3825/3825 [==============================] - 6s 2ms/step - loss: 0.8309 - accuracy: 0.7221 - val_loss: 1.1359 - val_accuracy: 0.6015\n",
      "Epoch 21/100\n",
      "3825/3825 [==============================] - 7s 2ms/step - loss: 0.8349 - accuracy: 0.7145 - val_loss: 0.9704 - val_accuracy: 0.6607\n",
      "Epoch 22/100\n",
      "3825/3825 [==============================] - 7s 2ms/step - loss: 0.7990 - accuracy: 0.7258 - val_loss: 0.9723 - val_accuracy: 0.6519\n",
      "Epoch 23/100\n"
     ]
    },
    {
     "name": "stdout",
     "output_type": "stream",
     "text": [
      "3825/3825 [==============================] - 6s 2ms/step - loss: 0.8129 - accuracy: 0.7085 - val_loss: 1.0790 - val_accuracy: 0.6370\n",
      "Epoch 24/100\n",
      "3825/3825 [==============================] - 6s 2ms/step - loss: 0.7614 - accuracy: 0.7357 - val_loss: 1.0552 - val_accuracy: 0.6311\n",
      "Epoch 25/100\n",
      "3825/3825 [==============================] - 6s 1ms/step - loss: 0.7543 - accuracy: 0.7315 - val_loss: 0.9214 - val_accuracy: 0.6726\n",
      "Epoch 26/100\n",
      "3825/3825 [==============================] - 6s 2ms/step - loss: 0.7246 - accuracy: 0.7587 - val_loss: 0.9468 - val_accuracy: 0.6741\n",
      "Epoch 27/100\n",
      "3825/3825 [==============================] - 6s 2ms/step - loss: 0.7385 - accuracy: 0.7380 - val_loss: 0.8919 - val_accuracy: 0.6859\n",
      "Epoch 28/100\n",
      "3825/3825 [==============================] - 6s 2ms/step - loss: 0.7418 - accuracy: 0.7438 - val_loss: 0.9578 - val_accuracy: 0.6726\n",
      "Epoch 29/100\n",
      "3825/3825 [==============================] - 6s 1ms/step - loss: 0.7028 - accuracy: 0.7529 - val_loss: 0.9291 - val_accuracy: 0.6681\n",
      "Epoch 30/100\n",
      "3825/3825 [==============================] - 6s 1ms/step - loss: 0.6747 - accuracy: 0.7692 - val_loss: 0.9744 - val_accuracy: 0.6667\n",
      "Epoch 31/100\n",
      "3825/3825 [==============================] - 6s 2ms/step - loss: 0.6713 - accuracy: 0.7658 - val_loss: 0.9561 - val_accuracy: 0.6726\n",
      "Epoch 32/100\n",
      "3825/3825 [==============================] - 6s 2ms/step - loss: 0.6591 - accuracy: 0.7707 - val_loss: 0.9801 - val_accuracy: 0.6637\n",
      "Epoch 33/100\n",
      "3825/3825 [==============================] - 6s 2ms/step - loss: 0.6856 - accuracy: 0.7626 - val_loss: 0.9932 - val_accuracy: 0.6622\n",
      "Epoch 34/100\n",
      "3825/3825 [==============================] - 6s 2ms/step - loss: 0.6563 - accuracy: 0.7681 - val_loss: 0.8444 - val_accuracy: 0.7052\n",
      "Epoch 35/100\n",
      "3825/3825 [==============================] - 6s 2ms/step - loss: 0.6410 - accuracy: 0.7765 - val_loss: 0.9362 - val_accuracy: 0.6844\n",
      "Train on 3825 samples, validate on 675 samples\n",
      "Epoch 1/100\n",
      "3825/3825 [==============================] - 7s 2ms/step - loss: 2.4373 - accuracy: 0.2225 - val_loss: 2.8997 - val_accuracy: 0.0593\n",
      "Epoch 2/100\n",
      "3825/3825 [==============================] - 6s 2ms/step - loss: 2.0707 - accuracy: 0.3378 - val_loss: 3.0941 - val_accuracy: 0.1170\n",
      "Epoch 3/100\n",
      "3825/3825 [==============================] - 6s 1ms/step - loss: 1.8345 - accuracy: 0.4078 - val_loss: 3.3164 - val_accuracy: 0.1393\n",
      "Epoch 4/100\n",
      "3825/3825 [==============================] - 6s 2ms/step - loss: 1.6397 - accuracy: 0.4803 - val_loss: 2.7484 - val_accuracy: 0.2415\n",
      "Epoch 5/100\n",
      "3825/3825 [==============================] - 6s 1ms/step - loss: 1.4928 - accuracy: 0.5234 - val_loss: 2.4631 - val_accuracy: 0.2652\n",
      "Epoch 6/100\n",
      "3825/3825 [==============================] - 6s 1ms/step - loss: 1.3949 - accuracy: 0.5451 - val_loss: 1.5273 - val_accuracy: 0.4637\n",
      "Epoch 7/100\n",
      "3825/3825 [==============================] - 6s 2ms/step - loss: 1.2987 - accuracy: 0.5775 - val_loss: 1.4062 - val_accuracy: 0.5289\n",
      "Epoch 8/100\n",
      "3825/3825 [==============================] - 6s 2ms/step - loss: 1.2288 - accuracy: 0.5958 - val_loss: 1.4326 - val_accuracy: 0.5067\n",
      "Epoch 9/100\n",
      "3825/3825 [==============================] - 6s 1ms/step - loss: 1.1550 - accuracy: 0.6139 - val_loss: 1.2903 - val_accuracy: 0.5467\n",
      "Epoch 10/100\n",
      "3825/3825 [==============================] - 6s 2ms/step - loss: 1.1190 - accuracy: 0.6212 - val_loss: 1.2556 - val_accuracy: 0.5689\n",
      "Epoch 11/100\n",
      "3825/3825 [==============================] - 6s 2ms/step - loss: 1.0585 - accuracy: 0.6492 - val_loss: 1.3839 - val_accuracy: 0.5496\n",
      "Epoch 12/100\n",
      "3825/3825 [==============================] - 6s 1ms/step - loss: 1.0080 - accuracy: 0.6729 - val_loss: 1.1135 - val_accuracy: 0.6074\n",
      "Epoch 13/100\n",
      "3825/3825 [==============================] - 6s 2ms/step - loss: 0.9723 - accuracy: 0.6711 - val_loss: 1.1492 - val_accuracy: 0.6104\n",
      "Epoch 14/100\n",
      "3825/3825 [==============================] - 6s 2ms/step - loss: 0.9288 - accuracy: 0.6826 - val_loss: 1.0743 - val_accuracy: 0.6193\n",
      "Epoch 15/100\n",
      "3825/3825 [==============================] - 6s 2ms/step - loss: 0.8972 - accuracy: 0.7001 - val_loss: 1.0324 - val_accuracy: 0.6563\n",
      "Epoch 16/100\n",
      "3825/3825 [==============================] - 6s 2ms/step - loss: 0.8873 - accuracy: 0.6897 - val_loss: 1.1177 - val_accuracy: 0.6119\n",
      "Epoch 17/100\n",
      "3825/3825 [==============================] - 6s 1ms/step - loss: 0.8731 - accuracy: 0.7069 - val_loss: 1.0038 - val_accuracy: 0.6667\n",
      "Epoch 18/100\n",
      "3825/3825 [==============================] - 6s 2ms/step - loss: 0.7997 - accuracy: 0.7352 - val_loss: 1.2273 - val_accuracy: 0.5748\n",
      "Epoch 19/100\n",
      "3825/3825 [==============================] - 7s 2ms/step - loss: 0.8021 - accuracy: 0.7325 - val_loss: 1.0801 - val_accuracy: 0.6474\n",
      "Epoch 20/100\n",
      "3825/3825 [==============================] - 6s 2ms/step - loss: 0.7728 - accuracy: 0.7339 - val_loss: 0.9124 - val_accuracy: 0.6770\n",
      "Epoch 21/100\n",
      "3825/3825 [==============================] - 6s 2ms/step - loss: 0.7537 - accuracy: 0.7404 - val_loss: 0.9899 - val_accuracy: 0.6504\n",
      "Epoch 22/100\n",
      "3825/3825 [==============================] - 6s 2ms/step - loss: 0.7520 - accuracy: 0.7422 - val_loss: 1.2986 - val_accuracy: 0.5807\n",
      "Epoch 23/100\n",
      "3825/3825 [==============================] - 6s 2ms/step - loss: 0.7595 - accuracy: 0.7388 - val_loss: 1.2641 - val_accuracy: 0.6000\n",
      "Epoch 24/100\n",
      "3825/3825 [==============================] - 6s 2ms/step - loss: 0.6940 - accuracy: 0.7665 - val_loss: 1.0155 - val_accuracy: 0.6637\n",
      "Epoch 25/100\n",
      "3825/3825 [==============================] - 6s 2ms/step - loss: 0.6917 - accuracy: 0.7587 - val_loss: 0.9396 - val_accuracy: 0.6756\n",
      "Epoch 26/100\n",
      "3825/3825 [==============================] - 6s 2ms/step - loss: 0.6847 - accuracy: 0.7600 - val_loss: 0.9525 - val_accuracy: 0.6785\n",
      "Epoch 27/100\n",
      "3825/3825 [==============================] - 6s 2ms/step - loss: 0.6805 - accuracy: 0.7600 - val_loss: 0.9295 - val_accuracy: 0.6830\n",
      "Train on 3825 samples, validate on 675 samples\n",
      "Epoch 1/100\n",
      "3825/3825 [==============================] - 6s 2ms/step - loss: 2.5204 - accuracy: 0.1733 - val_loss: 3.3192 - val_accuracy: 0.0681\n",
      "Epoch 2/100\n",
      "3825/3825 [==============================] - 6s 2ms/step - loss: 2.2026 - accuracy: 0.2902 - val_loss: 3.4955 - val_accuracy: 0.0681\n",
      "Epoch 3/100\n",
      "3825/3825 [==============================] - 6s 1ms/step - loss: 2.0076 - accuracy: 0.3590 - val_loss: 3.0908 - val_accuracy: 0.0993\n",
      "Epoch 4/100\n",
      "3825/3825 [==============================] - 6s 2ms/step - loss: 1.8434 - accuracy: 0.4084 - val_loss: 2.6498 - val_accuracy: 0.1748\n",
      "Epoch 5/100\n",
      "3825/3825 [==============================] - 6s 2ms/step - loss: 1.6759 - accuracy: 0.4599 - val_loss: 2.0952 - val_accuracy: 0.3170\n",
      "Epoch 6/100\n",
      "3825/3825 [==============================] - 6s 2ms/step - loss: 1.5415 - accuracy: 0.5012 - val_loss: 1.6037 - val_accuracy: 0.4444\n",
      "Epoch 7/100\n",
      "3825/3825 [==============================] - 6s 2ms/step - loss: 1.4310 - accuracy: 0.5380 - val_loss: 1.6540 - val_accuracy: 0.4341\n",
      "Epoch 8/100\n",
      "3825/3825 [==============================] - 22s 6ms/step - loss: 1.3537 - accuracy: 0.5516 - val_loss: 1.4209 - val_accuracy: 0.5156\n",
      "Epoch 9/100\n",
      "3825/3825 [==============================] - 9s 2ms/step - loss: 1.2748 - accuracy: 0.5692 - val_loss: 1.7673 - val_accuracy: 0.4281\n",
      "Epoch 10/100\n",
      "3825/3825 [==============================] - 8s 2ms/step - loss: 1.2280 - accuracy: 0.5932 - val_loss: 1.3753 - val_accuracy: 0.5067\n",
      "Epoch 11/100\n",
      "3825/3825 [==============================] - 8s 2ms/step - loss: 1.1676 - accuracy: 0.6097 - val_loss: 1.2552 - val_accuracy: 0.5570\n",
      "Epoch 12/100\n",
      "3825/3825 [==============================] - 8s 2ms/step - loss: 1.1147 - accuracy: 0.6227 - val_loss: 1.3191 - val_accuracy: 0.5733\n",
      "Epoch 13/100\n",
      "3825/3825 [==============================] - 8s 2ms/step - loss: 1.0701 - accuracy: 0.6397 - val_loss: 1.2786 - val_accuracy: 0.5644\n",
      "Epoch 14/100\n",
      "3825/3825 [==============================] - 8s 2ms/step - loss: 1.0373 - accuracy: 0.6447 - val_loss: 1.1103 - val_accuracy: 0.6267\n",
      "Epoch 15/100\n",
      "3825/3825 [==============================] - 8s 2ms/step - loss: 1.0101 - accuracy: 0.6586 - val_loss: 1.4774 - val_accuracy: 0.5126\n",
      "Epoch 16/100\n"
     ]
    },
    {
     "name": "stdout",
     "output_type": "stream",
     "text": [
      "3825/3825 [==============================] - 7s 2ms/step - loss: 0.9945 - accuracy: 0.6570 - val_loss: 1.3240 - val_accuracy: 0.5511\n",
      "Epoch 17/100\n",
      "3825/3825 [==============================] - 7s 2ms/step - loss: 0.9491 - accuracy: 0.6769 - val_loss: 1.2165 - val_accuracy: 0.6000\n",
      "Epoch 18/100\n",
      "3825/3825 [==============================] - 7s 2ms/step - loss: 0.9078 - accuracy: 0.6865 - val_loss: 1.1256 - val_accuracy: 0.6341\n",
      "Epoch 19/100\n",
      "3825/3825 [==============================] - 7s 2ms/step - loss: 0.9137 - accuracy: 0.6831 - val_loss: 1.0715 - val_accuracy: 0.6356\n",
      "Epoch 20/100\n",
      "3825/3825 [==============================] - 7s 2ms/step - loss: 0.8887 - accuracy: 0.6884 - val_loss: 1.1150 - val_accuracy: 0.6074\n",
      "Epoch 21/100\n",
      "3825/3825 [==============================] - 6s 2ms/step - loss: 0.8633 - accuracy: 0.7108 - val_loss: 1.0468 - val_accuracy: 0.6504\n",
      "Epoch 22/100\n",
      "3825/3825 [==============================] - 7s 2ms/step - loss: 0.8392 - accuracy: 0.7124 - val_loss: 1.2020 - val_accuracy: 0.5970\n",
      "Epoch 23/100\n",
      "3825/3825 [==============================] - 7s 2ms/step - loss: 0.8254 - accuracy: 0.7150 - val_loss: 1.2030 - val_accuracy: 0.5941\n",
      "Epoch 24/100\n",
      "3825/3825 [==============================] - 7s 2ms/step - loss: 0.8249 - accuracy: 0.7103 - val_loss: 1.1072 - val_accuracy: 0.6504\n",
      "Train on 3825 samples, validate on 675 samples\n",
      "Epoch 1/100\n",
      "3825/3825 [==============================] - 7s 2ms/step - loss: 2.4666 - accuracy: 0.2000 - val_loss: 3.6877 - val_accuracy: 0.0889\n",
      "Epoch 2/100\n",
      "3825/3825 [==============================] - 6s 2ms/step - loss: 2.0800 - accuracy: 0.3268 - val_loss: 5.0340 - val_accuracy: 0.0993\n",
      "Epoch 3/100\n",
      "3825/3825 [==============================] - 6s 2ms/step - loss: 1.8434 - accuracy: 0.4031 - val_loss: 5.3516 - val_accuracy: 0.0859\n",
      "Epoch 4/100\n",
      "3825/3825 [==============================] - 6s 2ms/step - loss: 1.6296 - accuracy: 0.4732 - val_loss: 4.1435 - val_accuracy: 0.0993\n",
      "Epoch 5/100\n",
      "3825/3825 [==============================] - 7s 2ms/step - loss: 1.4542 - accuracy: 0.5258 - val_loss: 2.0564 - val_accuracy: 0.3630\n",
      "Epoch 6/100\n",
      "3825/3825 [==============================] - 6s 2ms/step - loss: 1.3391 - accuracy: 0.5587 - val_loss: 1.4222 - val_accuracy: 0.5319\n",
      "Epoch 7/100\n",
      "3825/3825 [==============================] - 6s 2ms/step - loss: 1.2528 - accuracy: 0.5825 - val_loss: 1.3125 - val_accuracy: 0.5600\n",
      "Epoch 8/100\n",
      "3825/3825 [==============================] - 6s 2ms/step - loss: 1.1791 - accuracy: 0.6060 - val_loss: 1.3532 - val_accuracy: 0.5511\n",
      "Epoch 9/100\n",
      "3825/3825 [==============================] - 7s 2ms/step - loss: 1.1218 - accuracy: 0.6243 - val_loss: 1.6163 - val_accuracy: 0.4978\n",
      "Epoch 10/100\n",
      "3825/3825 [==============================] - 6s 2ms/step - loss: 1.0642 - accuracy: 0.6434 - val_loss: 1.2115 - val_accuracy: 0.5867\n",
      "Epoch 11/100\n",
      "3825/3825 [==============================] - 6s 2ms/step - loss: 1.0272 - accuracy: 0.6523 - val_loss: 1.2134 - val_accuracy: 0.6030\n",
      "Epoch 12/100\n",
      "3825/3825 [==============================] - 6s 2ms/step - loss: 0.9644 - accuracy: 0.6716 - val_loss: 1.2535 - val_accuracy: 0.5956\n",
      "Epoch 13/100\n",
      "3825/3825 [==============================] - 6s 2ms/step - loss: 0.9284 - accuracy: 0.6871 - val_loss: 1.2191 - val_accuracy: 0.5970\n",
      "Epoch 14/100\n",
      "3825/3825 [==============================] - 6s 2ms/step - loss: 0.9014 - accuracy: 0.6978 - val_loss: 1.0495 - val_accuracy: 0.6296\n",
      "Epoch 15/100\n",
      "3825/3825 [==============================] - 6s 2ms/step - loss: 0.8784 - accuracy: 0.6965 - val_loss: 1.1517 - val_accuracy: 0.6207\n",
      "Epoch 16/100\n",
      "3825/3825 [==============================] - 6s 2ms/step - loss: 0.8524 - accuracy: 0.7056 - val_loss: 1.2666 - val_accuracy: 0.6059\n",
      "Epoch 17/100\n",
      "3825/3825 [==============================] - 6s 2ms/step - loss: 0.8433 - accuracy: 0.7163 - val_loss: 1.0171 - val_accuracy: 0.6593\n",
      "Epoch 18/100\n",
      "3825/3825 [==============================] - 6s 2ms/step - loss: 0.8210 - accuracy: 0.7145 - val_loss: 1.2188 - val_accuracy: 0.5659\n",
      "Epoch 19/100\n",
      "3825/3825 [==============================] - 6s 2ms/step - loss: 0.7801 - accuracy: 0.7359 - val_loss: 1.0782 - val_accuracy: 0.6370\n",
      "Epoch 20/100\n",
      "3825/3825 [==============================] - 6s 2ms/step - loss: 0.7660 - accuracy: 0.7336 - val_loss: 1.3850 - val_accuracy: 0.5659\n",
      "Epoch 21/100\n",
      "3825/3825 [==============================] - 6s 2ms/step - loss: 0.7509 - accuracy: 0.7422 - val_loss: 1.1189 - val_accuracy: 0.6326\n",
      "Epoch 22/100\n",
      "3825/3825 [==============================] - 6s 2ms/step - loss: 0.7466 - accuracy: 0.7336 - val_loss: 0.9446 - val_accuracy: 0.6785\n",
      "Epoch 23/100\n",
      "3825/3825 [==============================] - 6s 2ms/step - loss: 0.7176 - accuracy: 0.7516 - val_loss: 1.1541 - val_accuracy: 0.6193\n",
      "Epoch 24/100\n",
      "3825/3825 [==============================] - 6s 2ms/step - loss: 0.6955 - accuracy: 0.7631 - val_loss: 1.0935 - val_accuracy: 0.6548\n",
      "Epoch 25/100\n",
      "3825/3825 [==============================] - 6s 2ms/step - loss: 0.7009 - accuracy: 0.7563 - val_loss: 0.9443 - val_accuracy: 0.6889\n",
      "Epoch 26/100\n",
      "3825/3825 [==============================] - 6s 1ms/step - loss: 0.6844 - accuracy: 0.7707 - val_loss: 1.1081 - val_accuracy: 0.6459\n",
      "Epoch 27/100\n",
      "3825/3825 [==============================] - 6s 2ms/step - loss: 0.6957 - accuracy: 0.7571 - val_loss: 0.9827 - val_accuracy: 0.6667\n",
      "Epoch 28/100\n",
      "3825/3825 [==============================] - 6s 2ms/step - loss: 0.6699 - accuracy: 0.7723 - val_loss: 0.9398 - val_accuracy: 0.6948\n",
      "Epoch 29/100\n",
      "3825/3825 [==============================] - 6s 2ms/step - loss: 0.6621 - accuracy: 0.7694 - val_loss: 0.8480 - val_accuracy: 0.7007\n",
      "Epoch 30/100\n",
      "3825/3825 [==============================] - 6s 2ms/step - loss: 0.6406 - accuracy: 0.7783 - val_loss: 0.9777 - val_accuracy: 0.6519\n",
      "Epoch 31/100\n",
      "3825/3825 [==============================] - 6s 2ms/step - loss: 0.6434 - accuracy: 0.7770 - val_loss: 1.1568 - val_accuracy: 0.6430\n",
      "Epoch 32/100\n",
      "3825/3825 [==============================] - 6s 2ms/step - loss: 0.6414 - accuracy: 0.7775 - val_loss: 1.0079 - val_accuracy: 0.6622\n",
      "Train on 3825 samples, validate on 675 samples\n",
      "Epoch 1/100\n",
      "3825/3825 [==============================] - 7s 2ms/step - loss: 2.5363 - accuracy: 0.1901 - val_loss: 2.7403 - val_accuracy: 0.0756\n",
      "Epoch 2/100\n",
      "3825/3825 [==============================] - 6s 2ms/step - loss: 2.2579 - accuracy: 0.2742 - val_loss: 3.2088 - val_accuracy: 0.0681\n",
      "Epoch 3/100\n",
      "3825/3825 [==============================] - 7s 2ms/step - loss: 1.9539 - accuracy: 0.3749 - val_loss: 3.0758 - val_accuracy: 0.1259\n",
      "Epoch 4/100\n",
      "3825/3825 [==============================] - 6s 2ms/step - loss: 1.7251 - accuracy: 0.4492 - val_loss: 2.7281 - val_accuracy: 0.1911\n",
      "Epoch 5/100\n",
      "3825/3825 [==============================] - 6s 2ms/step - loss: 1.5720 - accuracy: 0.4962 - val_loss: 1.8738 - val_accuracy: 0.3496\n",
      "Epoch 6/100\n",
      "3825/3825 [==============================] - 7s 2ms/step - loss: 1.4423 - accuracy: 0.5407 - val_loss: 1.7949 - val_accuracy: 0.4000\n",
      "Epoch 7/100\n",
      "3825/3825 [==============================] - 6s 2ms/step - loss: 1.3450 - accuracy: 0.5603 - val_loss: 1.5197 - val_accuracy: 0.4785\n",
      "Epoch 8/100\n",
      "3825/3825 [==============================] - 6s 2ms/step - loss: 1.2714 - accuracy: 0.5830 - val_loss: 1.6025 - val_accuracy: 0.4459\n",
      "Epoch 9/100\n",
      "3825/3825 [==============================] - 6s 2ms/step - loss: 1.1942 - accuracy: 0.6099 - val_loss: 1.3860 - val_accuracy: 0.5200\n",
      "Epoch 10/100\n",
      "3825/3825 [==============================] - 6s 2ms/step - loss: 1.1369 - accuracy: 0.6188 - val_loss: 1.3409 - val_accuracy: 0.5230\n",
      "Epoch 11/100\n",
      "3825/3825 [==============================] - 6s 2ms/step - loss: 1.0910 - accuracy: 0.6363 - val_loss: 1.4440 - val_accuracy: 0.5200\n",
      "Epoch 12/100\n",
      "3825/3825 [==============================] - 6s 2ms/step - loss: 1.0498 - accuracy: 0.6570 - val_loss: 1.3690 - val_accuracy: 0.5289\n",
      "Epoch 13/100\n",
      "3825/3825 [==============================] - 6s 2ms/step - loss: 0.9901 - accuracy: 0.6771 - val_loss: 1.4327 - val_accuracy: 0.5185\n",
      "Epoch 14/100\n",
      "3825/3825 [==============================] - 6s 2ms/step - loss: 0.9480 - accuracy: 0.6847 - val_loss: 1.0766 - val_accuracy: 0.6193\n",
      "Epoch 15/100\n",
      "3825/3825 [==============================] - 6s 2ms/step - loss: 0.9517 - accuracy: 0.6750 - val_loss: 1.4562 - val_accuracy: 0.5230\n"
     ]
    },
    {
     "name": "stdout",
     "output_type": "stream",
     "text": [
      "Epoch 16/100\n",
      "3825/3825 [==============================] - 6s 2ms/step - loss: 0.9119 - accuracy: 0.6847 - val_loss: 1.2043 - val_accuracy: 0.5985\n",
      "Epoch 17/100\n",
      "3825/3825 [==============================] - 6s 2ms/step - loss: 0.8655 - accuracy: 0.7093 - val_loss: 1.2890 - val_accuracy: 0.5748\n",
      "Epoch 18/100\n",
      "3825/3825 [==============================] - 6s 1ms/step - loss: 0.8456 - accuracy: 0.7108 - val_loss: 1.1483 - val_accuracy: 0.5956\n",
      "Epoch 19/100\n",
      "3825/3825 [==============================] - 6s 2ms/step - loss: 0.8388 - accuracy: 0.7158 - val_loss: 1.1046 - val_accuracy: 0.6207\n",
      "Epoch 20/100\n",
      "3825/3825 [==============================] - 6s 2ms/step - loss: 0.8175 - accuracy: 0.7252 - val_loss: 1.0643 - val_accuracy: 0.6326\n",
      "Epoch 21/100\n",
      "3825/3825 [==============================] - 6s 2ms/step - loss: 0.7829 - accuracy: 0.7331 - val_loss: 1.3408 - val_accuracy: 0.5481\n",
      "Epoch 22/100\n",
      "3825/3825 [==============================] - 6s 2ms/step - loss: 0.7730 - accuracy: 0.7339 - val_loss: 1.0392 - val_accuracy: 0.6370\n",
      "Epoch 23/100\n",
      "3825/3825 [==============================] - 6s 2ms/step - loss: 0.7472 - accuracy: 0.7430 - val_loss: 1.2848 - val_accuracy: 0.5793\n",
      "Epoch 24/100\n",
      "3825/3825 [==============================] - 6s 2ms/step - loss: 0.7424 - accuracy: 0.7430 - val_loss: 0.9637 - val_accuracy: 0.6785\n",
      "Epoch 25/100\n",
      "3825/3825 [==============================] - 6s 2ms/step - loss: 0.7181 - accuracy: 0.7524 - val_loss: 1.0281 - val_accuracy: 0.6474\n",
      "Epoch 26/100\n",
      "3825/3825 [==============================] - 6s 2ms/step - loss: 0.7070 - accuracy: 0.7508 - val_loss: 1.2665 - val_accuracy: 0.5822\n",
      "Epoch 27/100\n",
      "3825/3825 [==============================] - 6s 2ms/step - loss: 0.6799 - accuracy: 0.7720 - val_loss: 0.9454 - val_accuracy: 0.6859\n",
      "Epoch 28/100\n",
      "3825/3825 [==============================] - 6s 2ms/step - loss: 0.6811 - accuracy: 0.7626 - val_loss: 1.0805 - val_accuracy: 0.6489\n",
      "Epoch 29/100\n",
      "3825/3825 [==============================] - 6s 1ms/step - loss: 0.6874 - accuracy: 0.7618 - val_loss: 1.1219 - val_accuracy: 0.6489\n",
      "Epoch 30/100\n",
      "3825/3825 [==============================] - 6s 2ms/step - loss: 0.6637 - accuracy: 0.7759 - val_loss: 1.1041 - val_accuracy: 0.6356\n",
      "Epoch 31/100\n",
      "3825/3825 [==============================] - 6s 2ms/step - loss: 0.6333 - accuracy: 0.7848 - val_loss: 1.1611 - val_accuracy: 0.6356\n",
      "Epoch 32/100\n",
      "3825/3825 [==============================] - 6s 2ms/step - loss: 0.6354 - accuracy: 0.7786 - val_loss: 1.0120 - val_accuracy: 0.6696\n",
      "Epoch 33/100\n",
      "3825/3825 [==============================] - 6s 2ms/step - loss: 0.6289 - accuracy: 0.7916 - val_loss: 1.1978 - val_accuracy: 0.6326\n",
      "Epoch 34/100\n",
      "3825/3825 [==============================] - 6s 1ms/step - loss: 0.6120 - accuracy: 0.7890 - val_loss: 0.9991 - val_accuracy: 0.6681\n",
      "Train on 3825 samples, validate on 675 samples\n",
      "Epoch 1/100\n",
      "3825/3825 [==============================] - 7s 2ms/step - loss: 2.4990 - accuracy: 0.2058 - val_loss: 2.8281 - val_accuracy: 0.0741\n",
      "Epoch 2/100\n",
      "3825/3825 [==============================] - 6s 1ms/step - loss: 2.1763 - accuracy: 0.3116 - val_loss: 2.9199 - val_accuracy: 0.0948\n",
      "Epoch 3/100\n",
      "3825/3825 [==============================] - 6s 2ms/step - loss: 1.9429 - accuracy: 0.3793 - val_loss: 2.6593 - val_accuracy: 0.1941\n",
      "Epoch 4/100\n",
      "3825/3825 [==============================] - 6s 2ms/step - loss: 1.7276 - accuracy: 0.4593 - val_loss: 2.4237 - val_accuracy: 0.2756\n",
      "Epoch 5/100\n",
      "3825/3825 [==============================] - 6s 2ms/step - loss: 1.5663 - accuracy: 0.4993 - val_loss: 2.1441 - val_accuracy: 0.3378\n",
      "Epoch 6/100\n",
      "3825/3825 [==============================] - 6s 2ms/step - loss: 1.4306 - accuracy: 0.5414 - val_loss: 1.4867 - val_accuracy: 0.5096\n",
      "Epoch 7/100\n",
      "3825/3825 [==============================] - 6s 1ms/step - loss: 1.3418 - accuracy: 0.5537 - val_loss: 1.4846 - val_accuracy: 0.4993\n",
      "Epoch 8/100\n",
      "3825/3825 [==============================] - 6s 1ms/step - loss: 1.2704 - accuracy: 0.5825 - val_loss: 1.6304 - val_accuracy: 0.4637\n",
      "Epoch 9/100\n",
      "3825/3825 [==============================] - 6s 2ms/step - loss: 1.2073 - accuracy: 0.5966 - val_loss: 1.3876 - val_accuracy: 0.5526\n",
      "Epoch 10/100\n",
      "3825/3825 [==============================] - 7s 2ms/step - loss: 1.1723 - accuracy: 0.6183 - val_loss: 1.3584 - val_accuracy: 0.5333\n",
      "Epoch 11/100\n",
      "3825/3825 [==============================] - 6s 2ms/step - loss: 1.0879 - accuracy: 0.6371 - val_loss: 1.4708 - val_accuracy: 0.5170\n",
      "Epoch 12/100\n",
      "3825/3825 [==============================] - 5s 1ms/step - loss: 1.0597 - accuracy: 0.6494 - val_loss: 1.4446 - val_accuracy: 0.5096\n",
      "Epoch 13/100\n",
      "3825/3825 [==============================] - 6s 2ms/step - loss: 1.0330 - accuracy: 0.6520 - val_loss: 1.2804 - val_accuracy: 0.5719\n",
      "Epoch 14/100\n",
      "3825/3825 [==============================] - 6s 1ms/step - loss: 0.9725 - accuracy: 0.6805 - val_loss: 1.0940 - val_accuracy: 0.6074\n",
      "Epoch 15/100\n",
      "3825/3825 [==============================] - 6s 2ms/step - loss: 0.9658 - accuracy: 0.6735 - val_loss: 1.3124 - val_accuracy: 0.5319\n",
      "Epoch 16/100\n",
      "3825/3825 [==============================] - 531s 139ms/step - loss: 0.9352 - accuracy: 0.6902 - val_loss: 1.1879 - val_accuracy: 0.6104\n",
      "Epoch 17/100\n",
      "3825/3825 [==============================] - 9s 2ms/step - loss: 0.9113 - accuracy: 0.6959 - val_loss: 1.0438 - val_accuracy: 0.6652\n",
      "Epoch 18/100\n",
      "3825/3825 [==============================] - 10s 3ms/step - loss: 0.8467 - accuracy: 0.7200 - val_loss: 1.2691 - val_accuracy: 0.5733\n",
      "Epoch 19/100\n",
      "3825/3825 [==============================] - 7s 2ms/step - loss: 0.8568 - accuracy: 0.7103 - val_loss: 1.1297 - val_accuracy: 0.6044\n",
      "Epoch 20/100\n",
      "3825/3825 [==============================] - 7s 2ms/step - loss: 0.8363 - accuracy: 0.7127 - val_loss: 1.0137 - val_accuracy: 0.6385\n",
      "Epoch 21/100\n",
      "3825/3825 [==============================] - 7s 2ms/step - loss: 0.8114 - accuracy: 0.7331 - val_loss: 0.9959 - val_accuracy: 0.6607\n",
      "Epoch 22/100\n",
      "3825/3825 [==============================] - 9s 2ms/step - loss: 0.8060 - accuracy: 0.7234 - val_loss: 1.2274 - val_accuracy: 0.5852\n",
      "Epoch 23/100\n",
      "3825/3825 [==============================] - 9s 2ms/step - loss: 0.7667 - accuracy: 0.7320 - val_loss: 1.0752 - val_accuracy: 0.6281\n",
      "Epoch 24/100\n",
      "3825/3825 [==============================] - 7s 2ms/step - loss: 0.7515 - accuracy: 0.7404 - val_loss: 1.1128 - val_accuracy: 0.6133\n",
      "Train on 3825 samples, validate on 675 samples\n",
      "Epoch 1/100\n",
      "3825/3825 [==============================] - 10s 3ms/step - loss: 2.6089 - accuracy: 0.1420 - val_loss: 3.3638 - val_accuracy: 0.0681\n",
      "Epoch 2/100\n",
      "3825/3825 [==============================] - 14s 4ms/step - loss: 2.3108 - accuracy: 0.2643 - val_loss: 3.5588 - val_accuracy: 0.0919\n",
      "Epoch 3/100\n",
      "3825/3825 [==============================] - 7s 2ms/step - loss: 1.9849 - accuracy: 0.3422 - val_loss: 3.3858 - val_accuracy: 0.1407\n",
      "Epoch 4/100\n",
      "3825/3825 [==============================] - 8s 2ms/step - loss: 1.8039 - accuracy: 0.3838 - val_loss: 2.9118 - val_accuracy: 0.1556\n",
      "Epoch 5/100\n",
      "3825/3825 [==============================] - 6s 2ms/step - loss: 1.6596 - accuracy: 0.4363 - val_loss: 1.8713 - val_accuracy: 0.3333\n",
      "Epoch 6/100\n",
      "3825/3825 [==============================] - 7s 2ms/step - loss: 1.5712 - accuracy: 0.4622 - val_loss: 1.6519 - val_accuracy: 0.4207\n",
      "Epoch 7/100\n",
      "3825/3825 [==============================] - 6s 2ms/step - loss: 1.5016 - accuracy: 0.4842 - val_loss: 1.6498 - val_accuracy: 0.3970\n",
      "Epoch 8/100\n",
      "3825/3825 [==============================] - 6s 2ms/step - loss: 1.4303 - accuracy: 0.5067 - val_loss: 1.6981 - val_accuracy: 0.4193\n",
      "Epoch 9/100\n",
      "3825/3825 [==============================] - 6s 2ms/step - loss: 1.3607 - accuracy: 0.5268 - val_loss: 1.5812 - val_accuracy: 0.4578\n",
      "Epoch 10/100\n",
      "3825/3825 [==============================] - 6s 2ms/step - loss: 1.3424 - accuracy: 0.5292 - val_loss: 1.7803 - val_accuracy: 0.4193\n",
      "Epoch 11/100\n",
      "3825/3825 [==============================] - 8s 2ms/step - loss: 1.2909 - accuracy: 0.5475 - val_loss: 1.4261 - val_accuracy: 0.4933\n",
      "Epoch 12/100\n",
      "3825/3825 [==============================] - 7s 2ms/step - loss: 1.2620 - accuracy: 0.5642 - val_loss: 1.4409 - val_accuracy: 0.4919\n",
      "Epoch 13/100\n"
     ]
    },
    {
     "name": "stdout",
     "output_type": "stream",
     "text": [
      "3825/3825 [==============================] - 6s 2ms/step - loss: 1.2214 - accuracy: 0.5812 - val_loss: 1.4007 - val_accuracy: 0.5141\n",
      "Epoch 14/100\n",
      "3825/3825 [==============================] - 6s 1ms/step - loss: 1.1951 - accuracy: 0.5786 - val_loss: 1.4177 - val_accuracy: 0.5141\n",
      "Epoch 15/100\n",
      "3825/3825 [==============================] - 6s 2ms/step - loss: 1.1690 - accuracy: 0.5971 - val_loss: 1.2215 - val_accuracy: 0.5615\n",
      "Epoch 16/100\n",
      "3825/3825 [==============================] - 7s 2ms/step - loss: 1.1474 - accuracy: 0.6170 - val_loss: 1.2902 - val_accuracy: 0.5407\n",
      "Epoch 17/100\n",
      "3825/3825 [==============================] - 7s 2ms/step - loss: 1.1179 - accuracy: 0.6063 - val_loss: 1.5809 - val_accuracy: 0.5022\n",
      "Epoch 18/100\n",
      "3825/3825 [==============================] - 7s 2ms/step - loss: 1.0963 - accuracy: 0.6207 - val_loss: 1.2134 - val_accuracy: 0.5689\n",
      "Epoch 19/100\n",
      "3825/3825 [==============================] - 6s 2ms/step - loss: 1.0854 - accuracy: 0.6201 - val_loss: 1.1872 - val_accuracy: 0.5793\n",
      "Epoch 20/100\n",
      "3825/3825 [==============================] - 5s 1ms/step - loss: 1.0438 - accuracy: 0.6387 - val_loss: 1.2716 - val_accuracy: 0.5585\n",
      "Epoch 21/100\n",
      "3825/3825 [==============================] - 6s 2ms/step - loss: 1.0564 - accuracy: 0.6222 - val_loss: 1.2816 - val_accuracy: 0.5481\n",
      "Epoch 22/100\n",
      "3825/3825 [==============================] - 7s 2ms/step - loss: 1.0292 - accuracy: 0.6314 - val_loss: 1.1935 - val_accuracy: 0.5748\n",
      "Epoch 23/100\n",
      "3825/3825 [==============================] - 6s 1ms/step - loss: 1.0037 - accuracy: 0.6570 - val_loss: 1.4840 - val_accuracy: 0.5067\n",
      "Epoch 24/100\n",
      "3825/3825 [==============================] - 6s 2ms/step - loss: 0.9936 - accuracy: 0.6570 - val_loss: 1.4327 - val_accuracy: 0.5244\n",
      "Epoch 25/100\n",
      "3825/3825 [==============================] - 7s 2ms/step - loss: 0.9906 - accuracy: 0.6570 - val_loss: 1.2099 - val_accuracy: 0.5985\n",
      "Train on 3825 samples, validate on 675 samples\n",
      "Epoch 1/100\n",
      "3825/3825 [==============================] - 9s 2ms/step - loss: 2.4546 - accuracy: 0.2175 - val_loss: 3.3806 - val_accuracy: 0.0681\n",
      "Epoch 2/100\n",
      "3825/3825 [==============================] - 8s 2ms/step - loss: 2.0332 - accuracy: 0.3375 - val_loss: 4.0785 - val_accuracy: 0.0711\n",
      "Epoch 3/100\n",
      "3825/3825 [==============================] - 8s 2ms/step - loss: 1.7491 - accuracy: 0.4272 - val_loss: 3.4578 - val_accuracy: 0.1333\n",
      "Epoch 4/100\n",
      "3825/3825 [==============================] - 7s 2ms/step - loss: 1.5576 - accuracy: 0.4946 - val_loss: 1.9899 - val_accuracy: 0.3007\n",
      "Epoch 5/100\n",
      "3825/3825 [==============================] - 7s 2ms/step - loss: 1.4038 - accuracy: 0.5380 - val_loss: 1.5992 - val_accuracy: 0.4607\n",
      "Epoch 6/100\n",
      "3825/3825 [==============================] - 8s 2ms/step - loss: 1.3024 - accuracy: 0.5731 - val_loss: 1.3083 - val_accuracy: 0.5674\n",
      "Epoch 7/100\n",
      "3825/3825 [==============================] - 7s 2ms/step - loss: 1.1935 - accuracy: 0.6044 - val_loss: 1.3326 - val_accuracy: 0.5644\n",
      "Epoch 8/100\n",
      "3825/3825 [==============================] - 7s 2ms/step - loss: 1.1475 - accuracy: 0.6275 - val_loss: 1.2746 - val_accuracy: 0.5822\n",
      "Epoch 9/100\n",
      "3825/3825 [==============================] - 7s 2ms/step - loss: 1.0824 - accuracy: 0.6303 - val_loss: 1.1307 - val_accuracy: 0.6089\n",
      "Epoch 10/100\n",
      "3825/3825 [==============================] - 7s 2ms/step - loss: 1.0442 - accuracy: 0.6510 - val_loss: 1.1301 - val_accuracy: 0.6119\n",
      "Epoch 11/100\n",
      "3825/3825 [==============================] - 6s 2ms/step - loss: 0.9868 - accuracy: 0.6643 - val_loss: 1.2086 - val_accuracy: 0.6089\n",
      "Epoch 12/100\n",
      "3825/3825 [==============================] - 6s 2ms/step - loss: 0.9453 - accuracy: 0.6758 - val_loss: 1.4121 - val_accuracy: 0.5422\n",
      "Epoch 13/100\n",
      "3825/3825 [==============================] - 7s 2ms/step - loss: 0.9005 - accuracy: 0.6952 - val_loss: 1.0863 - val_accuracy: 0.6459\n",
      "Epoch 14/100\n",
      "3825/3825 [==============================] - 6s 2ms/step - loss: 0.8814 - accuracy: 0.7054 - val_loss: 1.0418 - val_accuracy: 0.6400\n",
      "Epoch 15/100\n",
      "3825/3825 [==============================] - 6s 2ms/step - loss: 0.8644 - accuracy: 0.7014 - val_loss: 1.0257 - val_accuracy: 0.6504\n",
      "Epoch 16/100\n",
      "3825/3825 [==============================] - 7s 2ms/step - loss: 0.8512 - accuracy: 0.7124 - val_loss: 1.2168 - val_accuracy: 0.5941\n",
      "Epoch 17/100\n",
      "3825/3825 [==============================] - 7s 2ms/step - loss: 0.8138 - accuracy: 0.7244 - val_loss: 0.9707 - val_accuracy: 0.6607\n",
      "Epoch 18/100\n",
      "3825/3825 [==============================] - 6s 2ms/step - loss: 0.7749 - accuracy: 0.7305 - val_loss: 0.9495 - val_accuracy: 0.6637\n",
      "Epoch 19/100\n",
      "3825/3825 [==============================] - 9s 2ms/step - loss: 0.7542 - accuracy: 0.7475 - val_loss: 1.1195 - val_accuracy: 0.6430\n",
      "Epoch 20/100\n",
      "3825/3825 [==============================] - 8s 2ms/step - loss: 0.7558 - accuracy: 0.7383 - val_loss: 1.0496 - val_accuracy: 0.6578\n",
      "Epoch 21/100\n",
      "3825/3825 [==============================] - 8s 2ms/step - loss: 0.7019 - accuracy: 0.7595 - val_loss: 1.0116 - val_accuracy: 0.6459\n",
      "Epoch 22/100\n",
      "3825/3825 [==============================] - 6s 1ms/step - loss: 0.7193 - accuracy: 0.7490 - val_loss: 1.4243 - val_accuracy: 0.5778\n",
      "Epoch 23/100\n",
      "3825/3825 [==============================] - 5s 1ms/step - loss: 0.6946 - accuracy: 0.7574 - val_loss: 1.2651 - val_accuracy: 0.5985\n",
      "Epoch 24/100\n",
      "3825/3825 [==============================] - 6s 1ms/step - loss: 0.6708 - accuracy: 0.7702 - val_loss: 0.8929 - val_accuracy: 0.6993\n",
      "Epoch 25/100\n",
      "3825/3825 [==============================] - 6s 1ms/step - loss: 0.6649 - accuracy: 0.7665 - val_loss: 0.9422 - val_accuracy: 0.6696\n",
      "Epoch 26/100\n",
      "3825/3825 [==============================] - 6s 1ms/step - loss: 0.6526 - accuracy: 0.7731 - val_loss: 0.8708 - val_accuracy: 0.7022\n",
      "Epoch 27/100\n",
      "3825/3825 [==============================] - 6s 1ms/step - loss: 0.6494 - accuracy: 0.7882 - val_loss: 0.9839 - val_accuracy: 0.6726\n",
      "Epoch 28/100\n",
      "3825/3825 [==============================] - 6s 1ms/step - loss: 0.6340 - accuracy: 0.7733 - val_loss: 0.9010 - val_accuracy: 0.7037\n",
      "Epoch 29/100\n",
      "3825/3825 [==============================] - 6s 1ms/step - loss: 0.6056 - accuracy: 0.7935 - val_loss: 0.8672 - val_accuracy: 0.7126\n",
      "Epoch 30/100\n",
      "3825/3825 [==============================] - 6s 1ms/step - loss: 0.5988 - accuracy: 0.7950 - val_loss: 0.9197 - val_accuracy: 0.7096\n",
      "Epoch 31/100\n",
      "3825/3825 [==============================] - 6s 1ms/step - loss: 0.5977 - accuracy: 0.7974 - val_loss: 0.9123 - val_accuracy: 0.7052\n",
      "Epoch 32/100\n",
      "3825/3825 [==============================] - 5s 1ms/step - loss: 0.5922 - accuracy: 0.7984 - val_loss: 0.9017 - val_accuracy: 0.6904\n",
      "Epoch 33/100\n",
      "3825/3825 [==============================] - 6s 1ms/step - loss: 0.6014 - accuracy: 0.7945 - val_loss: 1.0043 - val_accuracy: 0.6830\n",
      "Epoch 34/100\n",
      "3825/3825 [==============================] - 6s 1ms/step - loss: 0.5523 - accuracy: 0.8128 - val_loss: 0.8345 - val_accuracy: 0.7304\n",
      "Train on 3825 samples, validate on 675 samples\n",
      "Epoch 1/100\n",
      "3825/3825 [==============================] - 7s 2ms/step - loss: 2.4669 - accuracy: 0.2013 - val_loss: 2.6975 - val_accuracy: 0.1081\n",
      "Epoch 2/100\n",
      "3825/3825 [==============================] - 6s 1ms/step - loss: 2.0506 - accuracy: 0.3493 - val_loss: 3.0647 - val_accuracy: 0.0919\n",
      "Epoch 3/100\n",
      "3825/3825 [==============================] - 6s 2ms/step - loss: 1.7549 - accuracy: 0.4416 - val_loss: 3.0438 - val_accuracy: 0.1215\n",
      "Epoch 4/100\n",
      "3825/3825 [==============================] - 6s 1ms/step - loss: 1.5459 - accuracy: 0.4892 - val_loss: 2.7444 - val_accuracy: 0.1644\n",
      "Epoch 5/100\n",
      "3825/3825 [==============================] - 6s 1ms/step - loss: 1.4102 - accuracy: 0.5292 - val_loss: 1.8394 - val_accuracy: 0.3970\n",
      "Epoch 6/100\n",
      "3825/3825 [==============================] - 5s 1ms/step - loss: 1.3100 - accuracy: 0.5642 - val_loss: 1.4046 - val_accuracy: 0.5230\n",
      "Epoch 7/100\n",
      "3825/3825 [==============================] - 6s 2ms/step - loss: 1.2132 - accuracy: 0.6031 - val_loss: 1.4277 - val_accuracy: 0.5096\n",
      "Epoch 8/100\n",
      "3825/3825 [==============================] - 6s 2ms/step - loss: 1.1480 - accuracy: 0.6225 - val_loss: 1.5048 - val_accuracy: 0.5022\n",
      "Epoch 9/100\n",
      "3825/3825 [==============================] - 5s 1ms/step - loss: 1.1001 - accuracy: 0.6371 - val_loss: 1.8830 - val_accuracy: 0.4193\n"
     ]
    },
    {
     "name": "stdout",
     "output_type": "stream",
     "text": [
      "Epoch 10/100\n",
      "3825/3825 [==============================] - 6s 1ms/step - loss: 1.0654 - accuracy: 0.6416 - val_loss: 1.1558 - val_accuracy: 0.5926\n",
      "Epoch 11/100\n",
      "3825/3825 [==============================] - 6s 1ms/step - loss: 1.0037 - accuracy: 0.6635 - val_loss: 1.1512 - val_accuracy: 0.6104\n",
      "Epoch 12/100\n",
      "3825/3825 [==============================] - 6s 1ms/step - loss: 0.9978 - accuracy: 0.6617 - val_loss: 1.4240 - val_accuracy: 0.5333\n",
      "Epoch 13/100\n",
      "3825/3825 [==============================] - 6s 1ms/step - loss: 0.9419 - accuracy: 0.6839 - val_loss: 1.1444 - val_accuracy: 0.6059\n",
      "Epoch 14/100\n",
      "3825/3825 [==============================] - 6s 1ms/step - loss: 0.8968 - accuracy: 0.6944 - val_loss: 1.1229 - val_accuracy: 0.5956\n",
      "Epoch 15/100\n",
      "3825/3825 [==============================] - 5s 1ms/step - loss: 0.8877 - accuracy: 0.7012 - val_loss: 1.1024 - val_accuracy: 0.6296\n",
      "Epoch 16/100\n",
      "3825/3825 [==============================] - 6s 1ms/step - loss: 0.8501 - accuracy: 0.7174 - val_loss: 1.3340 - val_accuracy: 0.5689\n",
      "Epoch 17/100\n",
      "3825/3825 [==============================] - 6s 1ms/step - loss: 0.8311 - accuracy: 0.7135 - val_loss: 1.0414 - val_accuracy: 0.6296\n",
      "Epoch 18/100\n",
      "3825/3825 [==============================] - 6s 1ms/step - loss: 0.7903 - accuracy: 0.7302 - val_loss: 1.0948 - val_accuracy: 0.6207\n",
      "Epoch 19/100\n",
      "3825/3825 [==============================] - 6s 1ms/step - loss: 0.7869 - accuracy: 0.7234 - val_loss: 1.1401 - val_accuracy: 0.6207\n",
      "Epoch 20/100\n",
      "3825/3825 [==============================] - 6s 1ms/step - loss: 0.7792 - accuracy: 0.7292 - val_loss: 1.1277 - val_accuracy: 0.6237\n",
      "Epoch 21/100\n",
      "3825/3825 [==============================] - 6s 1ms/step - loss: 0.7537 - accuracy: 0.7446 - val_loss: 1.0917 - val_accuracy: 0.6385\n",
      "Epoch 22/100\n",
      "3825/3825 [==============================] - 6s 1ms/step - loss: 0.7451 - accuracy: 0.7407 - val_loss: 0.9995 - val_accuracy: 0.6622\n",
      "Epoch 23/100\n",
      "3825/3825 [==============================] - 6s 1ms/step - loss: 0.6834 - accuracy: 0.7613 - val_loss: 0.9488 - val_accuracy: 0.6711\n",
      "Epoch 24/100\n",
      "3825/3825 [==============================] - 6s 2ms/step - loss: 0.6658 - accuracy: 0.7749 - val_loss: 1.0679 - val_accuracy: 0.6400\n",
      "Epoch 25/100\n",
      "3825/3825 [==============================] - 6s 2ms/step - loss: 0.6906 - accuracy: 0.7605 - val_loss: 0.8771 - val_accuracy: 0.6933\n",
      "Epoch 26/100\n",
      "3825/3825 [==============================] - 7s 2ms/step - loss: 0.6892 - accuracy: 0.7592 - val_loss: 1.0445 - val_accuracy: 0.6370\n",
      "Epoch 27/100\n",
      "3825/3825 [==============================] - 8s 2ms/step - loss: 0.6787 - accuracy: 0.7650 - val_loss: 1.0218 - val_accuracy: 0.6444\n",
      "Epoch 28/100\n",
      "3825/3825 [==============================] - 9s 2ms/step - loss: 0.6588 - accuracy: 0.7723 - val_loss: 1.0684 - val_accuracy: 0.6252\n",
      "Epoch 29/100\n",
      "3825/3825 [==============================] - 8s 2ms/step - loss: 0.6547 - accuracy: 0.7707 - val_loss: 1.0574 - val_accuracy: 0.6326\n",
      "Epoch 30/100\n",
      "3825/3825 [==============================] - 8s 2ms/step - loss: 0.6069 - accuracy: 0.7888 - val_loss: 1.1170 - val_accuracy: 0.6237\n",
      "Epoch 31/100\n",
      "3825/3825 [==============================] - 8s 2ms/step - loss: 0.6129 - accuracy: 0.7822 - val_loss: 1.0556 - val_accuracy: 0.6459\n",
      "Epoch 32/100\n",
      "3825/3825 [==============================] - 8s 2ms/step - loss: 0.6019 - accuracy: 0.7869 - val_loss: 1.1200 - val_accuracy: 0.6326\n",
      "Epoch 33/100\n",
      "3825/3825 [==============================] - 9s 2ms/step - loss: 0.6117 - accuracy: 0.7908 - val_loss: 1.0667 - val_accuracy: 0.6474\n",
      "Epoch 34/100\n",
      "3825/3825 [==============================] - 8s 2ms/step - loss: 0.6046 - accuracy: 0.7942 - val_loss: 0.9195 - val_accuracy: 0.6889\n",
      "Epoch 35/100\n",
      "3825/3825 [==============================] - 7s 2ms/step - loss: 0.5712 - accuracy: 0.7974 - val_loss: 0.8939 - val_accuracy: 0.6889\n"
     ]
    }
   ],
   "source": [
    "pred,pred_vot,val_acc,val,val_loss,loss = ensemble_of_network(cnn_2,10,train_data_aug,train_labels_dummy_aug,test_data_aug)\n"
   ]
  },
  {
   "cell_type": "code",
   "execution_count": 132,
   "metadata": {},
   "outputs": [
    {
     "data": {
      "text/plain": [
       "0.6457844779452819"
      ]
     },
     "execution_count": 132,
     "metadata": {},
     "output_type": "execute_result"
    }
   ],
   "source": [
    "calculate_accuracy(pred,test_labels_aug)"
   ]
  },
  {
   "cell_type": "code",
   "execution_count": 145,
   "metadata": {},
   "outputs": [
    {
     "data": {
      "image/png": "[encoded data removed]",
      "text/plain": [
       "<Figure size 432x288 with 1 Axes>"
      ]
     },
     "metadata": {
      "needs_background": "light"
     },
     "output_type": "display_data"
    }
   ],
   "source": [
    "plt.title(\"validation accuracy\")\n",
    "plt.xlabel(\"epochs\")\n",
    "plt.ylabel(\"accuracy\")\n",
    "for p in val_acc:\n",
    "    plt.plot(p,linewidth=0.5)\n",
    "plt.grid()"
   ]
  },
  {
   "cell_type": "code",
   "execution_count": 147,
   "metadata": {},
   "outputs": [
    {
     "data": {
      "image/png": "[encoded data removed]",
      "text/plain": [
       "<Figure size 432x288 with 1 Axes>"
      ]
     },
     "metadata": {
      "needs_background": "light"
     },
     "output_type": "display_data"
    }
   ],
   "source": [
    "plt.title(\"accuracy\")\n",
    "plt.xlabel(\"epochs\")\n",
    "plt.ylabel(\"accuracy\")\n",
    "for p in val:\n",
    "    plt.plot(p,linewidth=0.5)\n",
    "plt.grid()"
   ]
  },
  {
   "cell_type": "code",
   "execution_count": 148,
   "metadata": {},
   "outputs": [
    {
     "data": {
      "image/png": "[encoded data removed]",
      "text/plain": [
       "<Figure size 432x288 with 1 Axes>"
      ]
     },
     "metadata": {
      "needs_background": "light"
     },
     "output_type": "display_data"
    }
   ],
   "source": [
    "plt.title(\"validation loss\")\n",
    "plt.xlabel(\"epochs\")\n",
    "plt.ylabel(\"val-loss\")\n",
    "for p in val_loss:\n",
    "    plt.plot(p,linewidth=0.5)\n",
    "plt.grid()"
   ]
  },
  {
   "cell_type": "code",
   "execution_count": 149,
   "metadata": {},
   "outputs": [
    {
     "data": {
      "image/png": "[encoded data removed]",
      "text/plain": [
       "<Figure size 432x288 with 1 Axes>"
      ]
     },
     "metadata": {
      "needs_background": "light"
     },
     "output_type": "display_data"
    }
   ],
   "source": [
    "plt.title(\"Loss\")\n",
    "plt.xlabel(\"epochs\")\n",
    "plt.ylabel(\"accuracy\")\n",
    "for p in loss:\n",
    "    plt.plot(p,linewidth=0.5)\n",
    "plt.grid()"
   ]
  },
  {
   "cell_type": "code",
   "execution_count": 137,
   "metadata": {},
   "outputs": [],
   "source": [
    "res = determ_prediction(pred_vot,test_labels_aug)\n"
   ]
  },
  {
   "cell_type": "code",
   "execution_count": 138,
   "metadata": {},
   "outputs": [],
   "source": [
    "acc = calulate_accuracy_with_voting(res,test_labels_aug)\n"
   ]
  },
  {
   "cell_type": "code",
   "execution_count": 139,
   "metadata": {},
   "outputs": [
    {
     "data": {
      "text/plain": [
       "0.6366275823562255"
      ]
     },
     "execution_count": 139,
     "metadata": {},
     "output_type": "execute_result"
    }
   ],
   "source": [
    "acc"
   ]
  },
  {
   "cell_type": "markdown",
   "metadata": {},
   "source": [
    "# play with number of layers"
   ]
  },
  {
   "cell_type": "code",
   "execution_count": null,
   "metadata": {},
   "outputs": [],
   "source": [
    "np.random.seed(9)\n",
    "model_4 = Sequential()\n",
    "#first convolutional layer\n",
    "model_4.add(Conv2D(filters=8,kernel_size=(3,3),strides = 1,padding = 'valid',activation='relu',input_shape=(64,64,1)))\n",
    "model_4.add(BatchNormalization(axis=1))\n",
    "model_4.add(MaxPooling2D(pool_size=2,strides=2))\n",
    "model_4.add(Dropout(0.3))\n",
    "\n",
    "#secondo convolutional layer\n",
    "model_4.add(Conv2D(filters=16,kernel_size=(3,3),strides=1,padding='valid',activation='relu',input_shape=(64,64,1)))\n",
    "model_4.add(BatchNormalization())\n",
    "model_4.add(Dropout(0.3))\n",
    "#third convolutional layer\n",
    "model_4.add(Conv2D(filters=32,kernel_size=(3,3),padding='valid',activation='relu',input_shape=(64,64,1)))\n",
    "model_4.add(BatchNormalization())\n",
    "model_4.add(Dropout(0.3))\n",
    "\n",
    "\n",
    "model_4.add(Conv2D(filters=64,kernel_size=(3,3),padding='valid',activation='relu',input_shape=(64,64,1)))\n",
    "model_4.add(BatchNormalization())\n",
    "model_4.add(MaxPooling2D(pool_size=2,strides=2))\n",
    "model_4.add(Dropout(0.3))\n",
    "\n",
    "#for now I just add another maxpooling\n",
    "model_4.add(Flatten())\n",
    "model_4.add(Dense(15,activation='relu',kernel_initializer=norm,bias_initializer='zeros'))\n",
    "model_4.add(BatchNormalization())\n",
    "model_4.add(Dense(15,activation='softmax'))\n",
    "\n",
    "#classification output\n",
    "model_4.compile(loss='categorical_crossentropy',optimizer= adam,metrics = ['accuracy'])"
   ]
  },
  {
   "cell_type": "code",
   "execution_count": null,
   "metadata": {},
   "outputs": [],
   "source": [
    "plot_model(model_4,show_shapes=True, show_layer_names=True)"
   ]
  },
  {
   "cell_type": "code",
   "execution_count": null,
   "metadata": {},
   "outputs": [],
   "source": []
  }
 ],
 "metadata": {
  "kernelspec": {
   "display_name": "Python 3",
   "language": "python",
   "name": "python3"
  },
  "language_info": {
   "codemirror_mode": {
    "name": "ipython",
    "version": 3
   },
   "file_extension": ".py",
   "mimetype": "text/x-python",
   "name": "python",
   "nbconvert_exporter": "python",
   "pygments_lexer": "ipython3",
   "version": "3.7.3"
  }
 },
 "nbformat": 4,
 "nbformat_minor": 2
}
