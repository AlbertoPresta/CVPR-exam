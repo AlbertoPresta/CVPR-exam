{
 "cells": [
  {
   "cell_type": "code",
   "execution_count": null,
   "metadata": {},
   "outputs": [],
   "source": [
    "import os\n",
    "import numpy as np\n",
    "import pandas as pd\n",
    "import matplotlib.pyplot as plt; \n",
    "\n",
    "\n",
    "from sklearn.metrics import confusion_matrix, accuracy_score\n",
    " \n",
    "\n",
    "from keras.utils import to_categorical #to create dummy variable\n",
    "from keras.utils import np_utils\n",
    "from keras.models import Sequential\n",
    "from keras.applications import VGG16\n",
    "from keras.applications import imagenet_utils\n",
    "from keras.callbacks import ModelCheckpoint\n",
    "from keras.preprocessing.image import load_img\n",
    "from keras.preprocessing.image import img_to_array\n",
    "from keras.layers import Dense, Conv2D, MaxPooling2D\n",
    "from keras.layers import Dropout, Flatten, GlobalAveragePooling2D\n",
    "import time\n",
    "\n",
    "import import_ipynb\n",
    "import utils\n",
    "\n",
    "\n",
    "\n",
    "from sklearn.svm import SVC\n",
    "\n",
    "import warnings\n",
    "warnings.filterwarnings('ignore')"
   ]
  },
  {
   "cell_type": "code",
   "execution_count": null,
   "metadata": {},
   "outputs": [],
   "source": [
    "# SOME IMPORTANT GLOBAL VARIABLE\n",
    "labels = [\"Bedroom\",\"Coast\",\"Forest\",\"HighWay\",\"Industrial\",\"InsideCity\",\"Kitchen\",\"LivingRoom\",\"Mountain\",\"Office\",\"OpenCountry\",\"Store\",\"Street\",\"Suburb\",\"TallBuilding\"]\n",
    "train_dir = '../images/train/'\n",
    "test_dir = '../images/test/'\n"
   ]
  },
  {
   "cell_type": "markdown",
   "metadata": {},
   "source": [
    "# CREATION OF DATA--> test and train \n",
    "\n",
    "As usual we, create our data"
   ]
  },
  {
   "cell_type": "code",
   "execution_count": null,
   "metadata": {},
   "outputs": [],
   "source": [
    "#LIST OF ISTRING WHICH REPRESENT ALL THE IMAGES!\n",
    "list_of_images = utils.list_of_path(labels,train_dir)\n",
    "train_data,train_labels = utils.read_and_process_images(list_of_images,dimension=224)\n",
    "train_labels_dummy  = to_categorical(train_labels,15)"
   ]
  },
  {
   "cell_type": "code",
   "execution_count": null,
   "metadata": {},
   "outputs": [],
   "source": [
    "list_of_images_test = utils.list_of_path(labels,test_dir)\n",
    "test_data,test_labels = utils.read_and_process_images(list_of_images_test,dimension=224)\n",
    "test_labels_dummy  = to_categorical(test_labels,15)"
   ]
  },
  {
   "cell_type": "markdown",
   "metadata": {},
   "source": [
    "#  model choice (VGG16) and feature extraction "
   ]
  },
  {
   "cell_type": "code",
   "execution_count": null,
   "metadata": {},
   "outputs": [],
   "source": [
    "model = VGG16(weights='imagenet', include_top=False)"
   ]
  },
  {
   "cell_type": "code",
   "execution_count": null,
   "metadata": {},
   "outputs": [],
   "source": [
    "model.summary()"
   ]
  },
  {
   "cell_type": "code",
   "execution_count": null,
   "metadata": {},
   "outputs": [],
   "source": [
    "# define a function which extract feature for all my train images\n",
    "\n",
    "def feature_extraction(dataset,pre_model):\n",
    "    \"\"\"\n",
    "    Function which extract feature of a dataset fro the last convolutional layer of the pre_model\n",
    "    \n",
    "    Input dataset= path of the train images\n",
    "    Input pre_model = pre-trained model for extracting feature\n",
    "    \n",
    "    Output  images = images of the dataset\n",
    "    Output feature = feature with shape (7,7,512)\n",
    "    Output feature_flatted = flattened features \n",
    "    \"\"\"\n",
    "    res = []\n",
    "    cont = 0\n",
    "    #viaggio nel dataset\n",
    "    for path in dataset:\n",
    "        \n",
    "        cont = cont+1\n",
    "        im = load_img(path, target_size=(224, 224))\n",
    "        im = img_to_array(im)\n",
    "        im = np.expand_dims(im, axis=0)\n",
    "        im = imagenet_utils.preprocess_input(im)\n",
    "        res.append(im)\n",
    "    images = np.vstack(res)\n",
    "    features = pre_model.predict(images, batch_size=64)\n",
    "    features_flatten = features.reshape((features.shape[0], 7 * 7 * 512))\n",
    "    return images, features, features_flatten     "
   ]
  },
  {
   "cell_type": "code",
   "execution_count": null,
   "metadata": {
    "scrolled": false
   },
   "outputs": [],
   "source": [
    "feat_extr_time = time.time()\n",
    "train_images,feature_matrix,feature_array= feature_extraction(list_of_images,model)\n",
    "feat_extr_time_end = time.time()"
   ]
  },
  {
   "cell_type": "code",
   "execution_count": null,
   "metadata": {},
   "outputs": [],
   "source": [
    "temp_for_feature = utils.convert(feat_extr_time_end-feat_extr_time)\n",
    "temp_for_feature"
   ]
  },
  {
   "cell_type": "code",
   "execution_count": null,
   "metadata": {},
   "outputs": [],
   "source": [
    "test_images,feature_matrix_test,feature_array_test = feature_extraction(list_of_images_test,model)"
   ]
  },
  {
   "cell_type": "code",
   "execution_count": null,
   "metadata": {},
   "outputs": [],
   "source": [
    "def predict_with_linear_SVM(features_array,feature_lab,feature_array_test,test_labels,num_classes = 15):\n",
    "    \"\"\"\n",
    "    Function which exploits linear svm to predict classes of test data \n",
    "    \n",
    "    Input features_array = array with train features (flattened)\n",
    "    Input feature_lab = labels of train features\n",
    "    Input feature_array_test = array with test features (flattened)\n",
    "    Input test_labels = labels of test features\n",
    "    Input num_classes (15) = number of classes\n",
    "    \n",
    "    Output classif = array of svm classidicator\n",
    "    Output prediction = array of prediction of test features\n",
    "    Output acc = accuracy of prediction \n",
    "    \"\"\"\n",
    "    \n",
    "    classif = [SVC(kernel=\"linear\") for _ in range(num_classes)] # array of classifier to be trained\n",
    "    # one-vs-all approach with  \n",
    "    curr_label = 0\n",
    "    for clf in classif:\n",
    "        v = np.array([1 if label==curr_label else 0 for label in feature_lab])\n",
    "        clf = clf.fit(features_array, v)\n",
    "        curr_label = curr_label + 1\n",
    "    # now we want to test \n",
    "    prediction = []\n",
    "    for image in feature_array_test:\n",
    "        pred = np.array([np.dot(clf.coef_,image) + clf.intercept_ for clf in classif])\n",
    "        prediction.append(np.argmax(pred))\n",
    "    prediction = np.asarray(prediction)\n",
    "    #calculate accuracy\n",
    "    cont=0\n",
    "    for i in range(len(prediction)):\n",
    "        if prediction[i]==test_labels[i]:\n",
    "            cont = cont +1\n",
    "        else:\n",
    "            continue\n",
    "        \n",
    "    acc = cont/len(prediction)\n",
    "    \n",
    "    return classif,prediction,acc\n",
    "                    \n",
    "    \n",
    "    "
   ]
  },
  {
   "cell_type": "code",
   "execution_count": null,
   "metadata": {},
   "outputs": [],
   "source": [
    "start_svm = time.time()\n",
    "classifiers,prediction,accuracy = predict_with_linear_SVM(feature_array,train_labels,feature_array_test,test_labels)\n",
    "end_evm = time.time()"
   ]
  },
  {
   "cell_type": "code",
   "execution_count": null,
   "metadata": {},
   "outputs": [],
   "source": [
    "T = utils.convert(end_evm-start_svm)\n",
    "T"
   ]
  },
  {
   "cell_type": "code",
   "execution_count": null,
   "metadata": {},
   "outputs": [],
   "source": [
    "accuracy"
   ]
  },
  {
   "cell_type": "code",
   "execution_count": null,
   "metadata": {},
   "outputs": [],
   "source": [
    "def evaluated_prediction(pred,test_lab,num_classes = 15,lab = labels):\n",
    "    \"\"\"\n",
    "    Function which evaluate quality of prdiction of linear svm, calculating TP,FP,FN,TN\n",
    "    \n",
    "    Input pred = prediction \n",
    "    Input test_lab = labels\n",
    "    Input num_classes(15) = number of classes\n",
    "    Input lab = name of classes\n",
    "    \n",
    "    Output  res = dataframe with all these values\n",
    "    \"\"\"\n",
    "    tp = []\n",
    "    fp = []\n",
    "    fn = []\n",
    "    tn = []\n",
    "    for i in range(num_classes):\n",
    "        tp_temp = 0\n",
    "        fp_temp = 0\n",
    "        fn_temp = 0\n",
    "        tn_temp = 0\n",
    "        for j in range(len(pred)):\n",
    "            if(pred[j]==i and test_lab[j]==i):\n",
    "                tp_temp = tp_temp + 1\n",
    "            if(pred[j]==i and test_lab[j]!=i):\n",
    "                fp_temp = fp_temp + 1\n",
    "            if(pred[j]!=i and test_lab[j]==i):\n",
    "                fn_temp = fn_temp + 1\n",
    "            if(pred[j]!=i and test_lab[j]!=i):\n",
    "                tn_temp = tn_temp +1\n",
    "        tp.append(tp_temp)\n",
    "        fp.append(fp_temp)\n",
    "        fn.append(fn_temp)\n",
    "        tn.append(tn_temp)\n",
    "    data = {'labels':labels , 'True positive':tp,'True negative':tn,'False positive':fp,'False negative':fn}\n",
    "    res = pd.DataFrame(data, columns = ['labels','True positive','True negative','False positive','False negative'])\n",
    "    return res"
   ]
  },
  {
   "cell_type": "code",
   "execution_count": null,
   "metadata": {},
   "outputs": [],
   "source": [
    "prova = evaluated_prediction(prediction,test_labels)"
   ]
  },
  {
   "cell_type": "code",
   "execution_count": null,
   "metadata": {},
   "outputs": [],
   "source": [
    "prova"
   ]
  },
  {
   "cell_type": "code",
   "execution_count": null,
   "metadata": {},
   "outputs": [],
   "source": [
    "prova.loc[4]['labels']"
   ]
  },
  {
   "cell_type": "code",
   "execution_count": null,
   "metadata": {},
   "outputs": [],
   "source": [
    "def build_confusion_matrix(df,pred,test_labels,lab = labels):\n",
    "    \"\"\"\n",
    "    Function tu construct confusion matrix\n",
    "    \"\"\"\n",
    "    num_classes = len(lab)\n",
    "    cm = np.zeros((15,15))\n",
    "    # insert true positive on the diagonal\n",
    "    for i in range(num_classes):\n",
    "        cm[i,i] = df.loc[i]['True positive']\n",
    "    for i in range(num_classes): # lavoro sulle classes true\n",
    "        for j in range(num_classes): #lavoro su classes predicted \n",
    "            temp = 0\n",
    "            for k in range(len(test_labels)):\n",
    "                if(test_labels[k]==i and pred[k]==j):\n",
    "                    temp = temp +1\n",
    "            cm[i,j]=temp\n",
    "    return cm   \n",
    "    "
   ]
  },
  {
   "cell_type": "code",
   "execution_count": null,
   "metadata": {},
   "outputs": [],
   "source": [
    "d = build_confusion_matrix(prova,prediction,test_labels)"
   ]
  },
  {
   "cell_type": "code",
   "execution_count": null,
   "metadata": {},
   "outputs": [],
   "source": [
    "plt.figure(figsize=(12,6))\n",
    "vvv = utils.plot_confusion_matrix(d,labels,\"point_three_linear_SVM\",\"images_point_three/\",normalize=True)"
   ]
  },
  {
   "cell_type": "code",
   "execution_count": null,
   "metadata": {},
   "outputs": [],
   "source": []
  }
 ],
 "metadata": {
  "kernelspec": {
   "display_name": "Python 3",
   "language": "python",
   "name": "python3"
  },
  "language_info": {
   "codemirror_mode": {
    "name": "ipython",
    "version": 3
   },
   "file_extension": ".py",
   "mimetype": "text/x-python",
   "name": "python",
   "nbconvert_exporter": "python",
   "pygments_lexer": "ipython3",
   "version": "3.7.3"
  }
 },
 "nbformat": 4,
 "nbformat_minor": 2
}
