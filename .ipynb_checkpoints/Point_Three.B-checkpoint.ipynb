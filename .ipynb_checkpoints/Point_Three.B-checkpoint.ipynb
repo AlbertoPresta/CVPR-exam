{
 "cells": [
  {
   "cell_type": "code",
   "execution_count": null,
   "metadata": {},
   "outputs": [],
   "source": [
    "import os\n",
    "import numpy as np\n",
    "import pandas as pd\n",
    "import matplotlib.pyplot as plt; \n",
    " \n",
    "# Importing sklearn libraries\n",
    "from sklearn.model_selection import GridSearchCV\n",
    "from sklearn.linear_model import LogisticRegression\n",
    "from sklearn.metrics import confusion_matrix, accuracy_score\n",
    " \n",
    "\n",
    " \n",
    "from keras.utils import to_categorical #to create dummy variable\n",
    "from keras.utils import np_utils\n",
    "from keras.models import Sequential\n",
    "from keras.applications import VGG16\n",
    "from keras.applications import imagenet_utils\n",
    "from keras.callbacks import ModelCheckpoint\n",
    "from keras.preprocessing.image import load_img\n",
    "from keras.preprocessing.image import img_to_array\n",
    "from keras.layers import Dense, Conv2D, MaxPooling2D\n",
    "from keras.layers import Dropout, Flatten, GlobalAveragePooling2D\n",
    "\n",
    "\n",
    "import import_ipynb\n",
    "import utils\n",
    "\n",
    "\n",
    "\n",
    "from sklearn.svm import SVC\n",
    "\n",
    "import warnings\n",
    "warnings.filterwarnings('ignore')"
   ]
  },
  {
   "cell_type": "code",
   "execution_count": null,
   "metadata": {},
   "outputs": [],
   "source": [
    "# SOME IMPORTANT GLOBAL VARIABLE\n",
    "labels = [\"Bedroom\",\"Coast\",\"Forest\",\"HighWay\",\"Industrial\",\"InsideCity\",\"Kitchen\",\"LivingRoom\",\"Mountain\",\"Office\",\"OpenCountry\",\"Store\",\"Street\",\"Suburb\",\"TallBuilding\"]\n",
    "train_dir = '../images/train/'\n",
    "test_dir = '../images/test/'\n"
   ]
  },
  {
   "cell_type": "markdown",
   "metadata": {},
   "source": [
    "# CREATION OF DATA--> test and train \n"
   ]
  },
  {
   "cell_type": "code",
   "execution_count": null,
   "metadata": {},
   "outputs": [],
   "source": [
    "#LIST OF ISTRING WHICH REPRESENT ALL THE IMAGES!\n",
    "list_of_images = utils.list_of_path(labels,train_dir)\n",
    "train_data,train_labels = utils.read_and_process_images(list_of_images,dimension=224)\n",
    "\n",
    "train_labels_dummy  = to_categorical(train_labels,15)"
   ]
  },
  {
   "cell_type": "code",
   "execution_count": null,
   "metadata": {},
   "outputs": [],
   "source": [
    "list_of_images_test = utils.list_of_path(labels,test_dir)\n",
    "test_data,test_labels = utils.read_and_process_images(list_of_images_test,dimension=224)\n",
    "\n",
    "test_labels_dummy  = to_categorical(test_labels,15)\n"
   ]
  },
  {
   "cell_type": "markdown",
   "metadata": {},
   "source": [
    "#  model choice (VGG16) and feature extraction "
   ]
  },
  {
   "cell_type": "code",
   "execution_count": null,
   "metadata": {},
   "outputs": [],
   "source": [
    "model = VGG16(weights='imagenet', include_top=False)\n"
   ]
  },
  {
   "cell_type": "code",
   "execution_count": null,
   "metadata": {},
   "outputs": [],
   "source": [
    "model.summary()"
   ]
  },
  {
   "cell_type": "code",
   "execution_count": null,
   "metadata": {},
   "outputs": [],
   "source": [
    "imagePath =  list_of_images[1]\n",
    "image = load_img(imagePath, target_size=(224, 224))\n",
    "image = img_to_array(image)\n",
    "image = np.expand_dims(image, axis=0)\n",
    "image = imagenet_utils.preprocess_input(image)"
   ]
  },
  {
   "cell_type": "code",
   "execution_count": null,
   "metadata": {},
   "outputs": [],
   "source": [
    "image.shape"
   ]
  },
  {
   "cell_type": "code",
   "execution_count": null,
   "metadata": {},
   "outputs": [],
   "source": [
    "# define a function which extract feature for all my train images\n",
    "\n",
    "def feature_extraction(dataset,pre_model):\n",
    "    res = []\n",
    "    cont = 0\n",
    "    #viaggio nel dataset\n",
    "    for path in dataset:\n",
    "        print(cont)\n",
    "        im = load_img(path, target_size=(224, 224))\n",
    "        im = img_to_array(im)\n",
    "        im = np.expand_dims(im, axis=0)\n",
    "        im = imagenet_utils.preprocess_input(im)\n",
    "        res.append(im)\n",
    "    images = np.vstack(res)\n",
    "    print(\"inizio\")\n",
    "    features = pre_model.predict(images, batch_size=64)\n",
    "    print(\"fine\")\n",
    "    features_flatten = features.reshape((features.shape[0], 7 * 7 * 512))\n",
    "    return images, features, features_flatten     "
   ]
  },
  {
   "cell_type": "code",
   "execution_count": null,
   "metadata": {},
   "outputs": [],
   "source": [
    "train_images,feature_matrix,feature_array= feature_extraction(list_of_images,model)"
   ]
  },
  {
   "cell_type": "code",
   "execution_count": null,
   "metadata": {},
   "outputs": [],
   "source": [
    "test_images,feature_matrix_test,feature_array_test = feature_extraction(list_of_images_test,model)"
   ]
  },
  {
   "cell_type": "code",
   "execution_count": null,
   "metadata": {},
   "outputs": [],
   "source": [
    "def predict_with_linear_SVM(features_array,feature_lab,feature_array_test,test_labels,num_classes = 15):\n",
    "    classif = [SVC(kernel=\"linear\") for _ in range(num_classes)] # array of classifier to be trained\n",
    "    # one-vs-all approach with  \n",
    "    curr_label = 0\n",
    "    for clf in classif:\n",
    "        print(curr_label)\n",
    "        v = np.array([1 if label==curr_label else 0 for label in feature_lab])\n",
    "        clf = clf.fit(features_array, v)\n",
    "        curr_label = curr_label + 1\n",
    "    # now we want to test \n",
    "    prediction = []\n",
    "    for image in feature_array_test:\n",
    "        pred = np.array([np.dot(clf.coef_,image) + clf.intercept_ for clf in classif])\n",
    "        prediction.append(np.argmax(pred))\n",
    "    prediction = np.asarray(prediction)\n",
    "    #calculate accuracy\n",
    "    cont=0\n",
    "    for i in range(len(prediction)):\n",
    "        if prediction[i]==test_labels[i]:\n",
    "            cont = cont +1\n",
    "        else:\n",
    "            continue\n",
    "        \n",
    "    acc = cont/len(prediction)\n",
    "    \n",
    "    return classif,prediction,acc\n",
    "                    \n",
    "    \n",
    "    "
   ]
  },
  {
   "cell_type": "code",
   "execution_count": null,
   "metadata": {},
   "outputs": [],
   "source": [
    "classifiers,prediction,accuracy = predict_with_linear_SVM(feature_array,train_labels,feature_array_test,test_labels)\n"
   ]
  },
  {
   "cell_type": "code",
   "execution_count": null,
   "metadata": {},
   "outputs": [],
   "source": [
    "accuracy"
   ]
  },
  {
   "cell_type": "markdown",
   "metadata": {},
   "source": [
    "# UTILIZZO DAG PER IL MULTICLASS SVM \n"
   ]
  },
  {
   "cell_type": "code",
   "execution_count": null,
   "metadata": {},
   "outputs": [],
   "source": [
    "def predict_with_SVM_with_Dag(features_array,feature_lab,feature_array_test,test_labels,num_classes = 15):\n",
    "    classif = [SVC(kernel=\"linear\") for _ in range(num_classes)] # classificator \n",
    "    curr_label = 0\n",
    "    \n",
    "    res_dict = {}\n",
    "    for clf in classif:\n",
    "        print(curr_label)\n",
    "        v = np.array([1 if label==curr_label else 0 for label in feature_lab])\n",
    "        clf = clf.fit(features_array, v)\n",
    "        curr_label = curr_label + 1\n",
    "    # prediction part\n",
    "    curr_label = 0\n",
    "    for clf in classif:\n",
    "        print(curr_label)\n",
    "        preds = clf.predict(feature_array_test)# ho le predizioni del primo\n",
    "        for i in range(len(feature_array_test)):\n",
    "            if(preds[i]==1 and i not in res_dict):\n",
    "                res_dict[i]=curr_label\n",
    "            else:\n",
    "                continue \n",
    "            curr_label = curr_label + 1\n",
    "    prediction  = np.asarray(list(res_dict.values()))\n",
    "    # calculate accuracy\n",
    "    cont=0\n",
    "    for i in range(len(prediction)):\n",
    "        if prediction[i]==test_labels[i]:\n",
    "            cont = cont +1\n",
    "        else:\n",
    "            continue\n",
    "        \n",
    "    acc = cont/len(prediction)\n",
    "    \n",
    "    return prediction,acc\n",
    "        \n",
    "            \n",
    "\n",
    "        \n",
    "    \n",
    "    \n",
    "    \n",
    "    \n",
    "    \n",
    "    \n",
    "    \n",
    "    \n",
    "    \n",
    "    \n",
    "    \n",
    "    \n",
    "    \n",
    "    \n",
    "    \n",
    "    "
   ]
  }
 ],
 "metadata": {
  "kernelspec": {
   "display_name": "Python 3",
   "language": "python",
   "name": "python3"
  },
  "language_info": {
   "codemirror_mode": {
    "name": "ipython",
    "version": 3
   },
   "file_extension": ".py",
   "mimetype": "text/x-python",
   "name": "python",
   "nbconvert_exporter": "python",
   "pygments_lexer": "ipython3",
   "version": "3.7.3"
  }
 },
 "nbformat": 4,
 "nbformat_minor": 2
}
