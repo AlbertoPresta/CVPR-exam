{
 "cells": [
  {
   "cell_type": "markdown",
   "metadata": {},
   "source": [
    "## FIRST ATTEMPT TO CNN\n",
    "\n",
    "In this framework, I will try to built a first attempt to the neural networ requested by the project, so I try to answer to the first part of the project"
   ]
  },
  {
   "cell_type": "code",
   "execution_count": null,
   "metadata": {},
   "outputs": [],
   "source": [
    "import numpy as np\n",
    "import matplotlib.pyplot as plt\n",
    "import PIL\n",
    "from keras.models import Sequential\n",
    "from keras.layers import Dense\n",
    "import os\n",
    "import cv2\n",
    "\n",
    "\n",
    "from keras.utils import to_categorical #to create dummy variable\n",
    "from keras.layers import Conv2D,Flatten,Dropout, MaxPooling2D,AveragePooling2D"
   ]
  },
  {
   "cell_type": "markdown",
   "metadata": {},
   "source": [
    "## PREPROCESSING DEI  DATI \n",
    "\n",
    "The most popular and de facto standard library in Python for loading and working with image data is Pillow. Pillow is an updated version of the Python Image Library, or PIL, and supports a range of simple and sophisticated image manipulation functionality."
   ]
  },
  {
   "cell_type": "code",
   "execution_count": 2,
   "metadata": {},
   "outputs": [
    {
     "name": "stdout",
     "output_type": "stream",
     "text": [
      "importing Jupyter notebook from utils.ipynb\n",
      "0\n",
      "0\n",
      "***************\n",
      "1\n",
      "1\n",
      "***************\n",
      "2\n",
      "2\n",
      "***************\n",
      "3\n",
      "3\n",
      "***************\n"
     ]
    }
   ],
   "source": [
    "import import_ipynb\n",
    "import utils"
   ]
  },
  {
   "cell_type": "code",
   "execution_count": 3,
   "metadata": {},
   "outputs": [],
   "source": [
    "# SOME IMPORTANT GLOBAL VARIABLE\n",
    "base_dir = '../images/'\n",
    "train_dir=os.path.join(base_dir,'train')\n",
    "test_dir=os.path.join(base_dir,'test')\n",
    "direc = '../images/train/'\n",
    "labels = [\"Bedroom\",\"Coast\",\"Forest\",\"HighWay\",\"Industrial\",\"InsideCity\",\"Kitchen\",\"LivingRoom\",\"Mountain\",\"Office\",\"OpenCountry\",\"Store\",\"Street\",\"Suburb\",\"TallBuilding\"]\n",
    "list_categories = ['../images/train/{}'.format(i) for i in os.listdir(train_dir) if i!='.DS_Store']\n",
    "\n",
    "\n"
   ]
  },
  {
   "cell_type": "code",
   "execution_count": 4,
   "metadata": {},
   "outputs": [],
   "source": [
    "list_of_images = utils.list_of_path(labels,'../images/train/')\n",
    "train_data,train_labels= utils.read_and_process_images(list_of_images)\n",
    "\n",
    "\n"
   ]
  },
  {
   "cell_type": "code",
   "execution_count": 5,
   "metadata": {},
   "outputs": [],
   "source": [
    "list_of_images_test = utils.list_of_path(labels,'../images/test/')\n",
    "test_data,test_labels = utils.read_and_process_images(list_of_images_test)"
   ]
  },
  {
   "cell_type": "code",
   "execution_count": 6,
   "metadata": {},
   "outputs": [],
   "source": [
    "train_data = train_data.reshape(train_data.shape[0],train_data.shape[1],train_data.shape[2],1)\n",
    "test_data = test_data.reshape(test_data.shape[0],test_data.shape[1],test_data.shape[2],1)"
   ]
  },
  {
   "cell_type": "code",
   "execution_count": 7,
   "metadata": {},
   "outputs": [
    {
     "data": {
      "text/plain": [
       "<matplotlib.image.AxesImage at 0x63aa54470>"
      ]
     },
     "execution_count": 7,
     "metadata": {},
     "output_type": "execute_result"
    },
    {
     "data": {
      "image/png": "[encoded data removed]",
      "text/plain": [
       "<Figure size 432x288 with 1 Axes>"
      ]
     },
     "metadata": {
      "needs_background": "light"
     },
     "output_type": "display_data"
    }
   ],
   "source": [
    "plt.imshow(train_data[330,:,:,0])"
   ]
  },
  {
   "cell_type": "code",
   "execution_count": 8,
   "metadata": {},
   "outputs": [],
   "source": [
    "from keras.utils import to_categorical\n",
    "from keras import optimizers"
   ]
  },
  {
   "cell_type": "code",
   "execution_count": 9,
   "metadata": {},
   "outputs": [],
   "source": [
    "train_labels_dummy = to_categorical(train_labels,15)\n",
    "test_labels_dummy = to_categorical(test_labels,15)"
   ]
  },
  {
   "cell_type": "markdown",
   "metadata": {},
   "source": [
    "## DEFINITION OF THE MODEL "
   ]
  },
  {
   "cell_type": "code",
   "execution_count": 10,
   "metadata": {},
   "outputs": [],
   "source": [
    "sgd = optimizers.SGD(momentum=0.9,nesterov=True)"
   ]
  },
  {
   "cell_type": "code",
   "execution_count": 11,
   "metadata": {},
   "outputs": [],
   "source": [
    "from keras import initializers"
   ]
  },
  {
   "cell_type": "code",
   "execution_count": 12,
   "metadata": {},
   "outputs": [],
   "source": [
    "norm = initializers.RandomNormal(mean=0.0, stddev=0.01, seed=None)"
   ]
  },
  {
   "cell_type": "code",
   "execution_count": 13,
   "metadata": {},
   "outputs": [],
   "source": [
    "\n",
    "#adam = optimizers.Adam()\n",
    "model = Sequential()\n",
    "#first convolutional layer\n",
    "model.add(Conv2D(filters=8,kernel_size=3,padding = 'valid',activation='relu',input_shape=(64,64,1)))\n",
    "model.add(MaxPooling2D(pool_size=2,strides=2))\n",
    "\n",
    "#secondo convolutional layer\n",
    "model.add(Conv2D(filters=16,kernel_size=3,strides=2,padding='valid',activation='relu',input_shape=(64,64,1)))\n",
    "model.add(MaxPooling2D(pool_size=2,strides=2))\n",
    "\n",
    "#third convolutional layer\n",
    "model.add(Conv2D(filters=32,kernel_size=3,padding='valid',activation='relu',input_shape=(64,64,1)))\n",
    "model.add(Flatten())\n",
    "model.add(Dense(15,activation='relu',kernel_initializer=norm,bias_initializer='zeros'))\n",
    "model.add(Dense(15,activation='softmax'))\n",
    "\n",
    "#classification output\n",
    "model.compile(loss='categorical_crossentropy',optimizer=sgd,metrics = ['accuracy'])\n",
    "\n",
    "\n"
   ]
  },
  {
   "cell_type": "code",
   "execution_count": 14,
   "metadata": {},
   "outputs": [
    {
     "name": "stdout",
     "output_type": "stream",
     "text": [
      "Train on 1275 samples, validate on 225 samples\n",
      "Epoch 1/100\n",
      "1275/1275 [==============================] - 1s 1ms/step - loss: 2.7102 - accuracy: 0.0690 - val_loss: 2.7075 - val_accuracy: 0.0578\n",
      "Epoch 2/100\n",
      "1275/1275 [==============================] - 1s 896us/step - loss: 2.7064 - accuracy: 0.0675 - val_loss: 2.7056 - val_accuracy: 0.0578\n",
      "Epoch 3/100\n",
      "1275/1275 [==============================] - 1s 847us/step - loss: 2.6994 - accuracy: 0.0784 - val_loss: 2.6992 - val_accuracy: 0.0756\n",
      "Epoch 4/100\n",
      "1275/1275 [==============================] - 1s 865us/step - loss: 2.6859 - accuracy: 0.0886 - val_loss: 2.6900 - val_accuracy: 0.0711\n",
      "Epoch 5/100\n",
      "1275/1275 [==============================] - 1s 935us/step - loss: 2.6687 - accuracy: 0.0933 - val_loss: 2.6689 - val_accuracy: 0.1200\n",
      "Epoch 6/100\n",
      "1275/1275 [==============================] - 1s 1ms/step - loss: 2.6432 - accuracy: 0.1012 - val_loss: 2.6351 - val_accuracy: 0.1822\n",
      "Epoch 7/100\n",
      "1275/1275 [==============================] - 2s 1ms/step - loss: 2.6087 - accuracy: 0.1255 - val_loss: 2.5940 - val_accuracy: 0.1600\n",
      "Epoch 8/100\n",
      "1275/1275 [==============================] - 1s 862us/step - loss: 2.5478 - accuracy: 0.1725 - val_loss: 2.5251 - val_accuracy: 0.2089\n",
      "Epoch 9/100\n",
      "1275/1275 [==============================] - 1s 858us/step - loss: 2.4692 - accuracy: 0.2141 - val_loss: 2.3900 - val_accuracy: 0.2311\n",
      "Epoch 10/100\n",
      "1275/1275 [==============================] - 1s 920us/step - loss: 2.3764 - accuracy: 0.2612 - val_loss: 2.3188 - val_accuracy: 0.2622\n",
      "Epoch 11/100\n",
      "1275/1275 [==============================] - 1s 822us/step - loss: 2.3096 - accuracy: 0.2471 - val_loss: 2.3800 - val_accuracy: 0.2489\n",
      "Epoch 12/100\n",
      "1275/1275 [==============================] - 2s 1ms/step - loss: 2.2792 - accuracy: 0.2706 - val_loss: 2.3456 - val_accuracy: 0.2533\n",
      "Epoch 13/100\n",
      "1275/1275 [==============================] - 1s 999us/step - loss: 2.1836 - accuracy: 0.2996 - val_loss: 2.3157 - val_accuracy: 0.2578\n",
      "Epoch 14/100\n",
      "1275/1275 [==============================] - 1s 937us/step - loss: 2.2230 - accuracy: 0.3043 - val_loss: 2.0997 - val_accuracy: 0.3333\n",
      "Epoch 15/100\n",
      "1275/1275 [==============================] - 1s 1ms/step - loss: 2.1248 - accuracy: 0.3106 - val_loss: 2.1203 - val_accuracy: 0.2756\n",
      "Epoch 16/100\n",
      "1275/1275 [==============================] - 2s 1ms/step - loss: 2.0579 - accuracy: 0.3427 - val_loss: 2.1466 - val_accuracy: 0.2933\n",
      "Epoch 17/100\n",
      "1275/1275 [==============================] - 2s 1ms/step - loss: 2.0491 - accuracy: 0.3396 - val_loss: 2.0698 - val_accuracy: 0.3156\n",
      "Epoch 18/100\n",
      "1275/1275 [==============================] - 2s 1ms/step - loss: 1.9531 - accuracy: 0.3631 - val_loss: 1.9592 - val_accuracy: 0.3378\n",
      "Epoch 19/100\n",
      "1275/1275 [==============================] - 2s 2ms/step - loss: 1.9313 - accuracy: 0.3671 - val_loss: 2.0152 - val_accuracy: 0.3244\n",
      "Epoch 20/100\n",
      "1275/1275 [==============================] - 2s 1ms/step - loss: 1.8679 - accuracy: 0.3812 - val_loss: 1.8701 - val_accuracy: 0.3644\n",
      "Epoch 21/100\n",
      "1275/1275 [==============================] - 2s 1ms/step - loss: 1.8361 - accuracy: 0.4031 - val_loss: 1.8626 - val_accuracy: 0.4044\n",
      "Epoch 22/100\n",
      "1275/1275 [==============================] - 2s 1ms/step - loss: 1.7586 - accuracy: 0.4322 - val_loss: 1.8984 - val_accuracy: 0.3511\n",
      "Epoch 23/100\n",
      "1275/1275 [==============================] - 2s 1ms/step - loss: 1.7132 - accuracy: 0.4431 - val_loss: 1.8279 - val_accuracy: 0.3911\n",
      "Epoch 24/100\n",
      "1275/1275 [==============================] - 2s 1ms/step - loss: 1.6557 - accuracy: 0.4478 - val_loss: 1.7299 - val_accuracy: 0.4000\n",
      "Epoch 25/100\n",
      "1275/1275 [==============================] - 2s 1ms/step - loss: 1.6264 - accuracy: 0.4769 - val_loss: 1.8132 - val_accuracy: 0.3511\n",
      "Epoch 26/100\n",
      "1275/1275 [==============================] - 2s 2ms/step - loss: 1.5854 - accuracy: 0.4769 - val_loss: 1.7292 - val_accuracy: 0.3956\n",
      "Epoch 27/100\n",
      "1275/1275 [==============================] - 2s 1ms/step - loss: 1.5127 - accuracy: 0.4910 - val_loss: 1.6531 - val_accuracy: 0.4267\n",
      "Epoch 28/100\n",
      "1275/1275 [==============================] - 2s 1ms/step - loss: 1.4321 - accuracy: 0.5184 - val_loss: 1.6929 - val_accuracy: 0.4356\n",
      "Epoch 29/100\n",
      "1275/1275 [==============================] - 2s 1ms/step - loss: 1.4658 - accuracy: 0.4988 - val_loss: 1.7569 - val_accuracy: 0.4089\n",
      "Epoch 30/100\n",
      "1275/1275 [==============================] - 2s 1ms/step - loss: 1.4003 - accuracy: 0.5318 - val_loss: 1.6427 - val_accuracy: 0.4622\n",
      "Epoch 31/100\n",
      "1275/1275 [==============================] - 1s 1ms/step - loss: 1.3334 - accuracy: 0.5584 - val_loss: 1.5716 - val_accuracy: 0.4800\n",
      "Epoch 32/100\n",
      "1275/1275 [==============================] - 1s 1ms/step - loss: 1.2932 - accuracy: 0.5655 - val_loss: 1.6429 - val_accuracy: 0.4444\n",
      "Epoch 33/100\n",
      "1275/1275 [==============================] - 1s 1ms/step - loss: 1.2509 - accuracy: 0.5733 - val_loss: 1.5518 - val_accuracy: 0.4800\n",
      "Epoch 34/100\n",
      "1275/1275 [==============================] - 2s 1ms/step - loss: 1.2001 - accuracy: 0.5929 - val_loss: 1.6442 - val_accuracy: 0.4356\n",
      "Epoch 35/100\n",
      "1275/1275 [==============================] - 1s 1ms/step - loss: 1.1404 - accuracy: 0.6055 - val_loss: 2.0140 - val_accuracy: 0.3644\n",
      "Epoch 36/100\n",
      "1275/1275 [==============================] - 1s 1ms/step - loss: 1.1270 - accuracy: 0.6243 - val_loss: 1.7241 - val_accuracy: 0.4089\n",
      "Epoch 37/100\n",
      "1275/1275 [==============================] - 1s 1ms/step - loss: 1.1095 - accuracy: 0.6173 - val_loss: 1.6631 - val_accuracy: 0.4400\n",
      "Epoch 38/100\n",
      "1275/1275 [==============================] - 1s 1ms/step - loss: 0.9942 - accuracy: 0.6800 - val_loss: 1.6840 - val_accuracy: 0.4622\n"
     ]
    },
    {
     "data": {
      "text/plain": [
       "<keras.callbacks.callbacks.History at 0x641f97eb8>"
      ]
     },
     "execution_count": 14,
     "metadata": {},
     "output_type": "execute_result"
    }
   ],
   "source": [
    "from keras.callbacks import EarlyStopping\n",
    "from keras.callbacks import History\n",
    "history = History()\n",
    "earlyStopping = EarlyStopping(min_delta=0.01,patience = 5)\n",
    "\n",
    "\n",
    "model.fit(train_data,train_labels_dummy,batch_size=32,epochs=100,validation_split=0.15,shuffle=True,callbacks=[earlyStopping,history])\n"
   ]
  },
  {
   "cell_type": "code",
   "execution_count": 19,
   "metadata": {},
   "outputs": [
    {
     "name": "stdout",
     "output_type": "stream",
     "text": [
      "2985/2985 [==============================] - 1s 287us/step\n"
     ]
    },
    {
     "data": {
      "text/plain": [
       "[1.829474300914873, 0.41842547059059143]"
      ]
     },
     "execution_count": 19,
     "metadata": {},
     "output_type": "execute_result"
    }
   ],
   "source": [
    "model.evaluate(test_data,test_labels_dummy)"
   ]
  },
  {
   "cell_type": "code",
   "execution_count": 20,
   "metadata": {},
   "outputs": [],
   "source": [
    "from sklearn.metrics import confusion_matrix"
   ]
  },
  {
   "cell_type": "code",
   "execution_count": 21,
   "metadata": {},
   "outputs": [],
   "source": [
    "y_pred = model.predict_classes(test_data)"
   ]
  },
  {
   "cell_type": "code",
   "execution_count": 22,
   "metadata": {},
   "outputs": [],
   "source": [
    "cm = confusion_matrix(test_labels,y_pred)"
   ]
  },
  {
   "cell_type": "code",
   "execution_count": 23,
   "metadata": {},
   "outputs": [],
   "source": [
    "import itertools"
   ]
  },
  {
   "cell_type": "code",
   "execution_count": 24,
   "metadata": {},
   "outputs": [
    {
     "name": "stdout",
     "output_type": "stream",
     "text": [
      "ciao\n",
      "ciao\n",
      "ciao\n",
      "ciao\n",
      "ciao\n",
      "ciao\n",
      "ciao\n",
      "ciao\n",
      "ciao\n",
      "ciao\n",
      "ciao\n",
      "ciao\n",
      "ciao\n",
      "ciao\n",
      "ciao\n",
      "ciao\n",
      "ciao\n",
      "ciao\n",
      "ciao\n",
      "ciao\n",
      "ciao\n",
      "ciao\n",
      "ciao\n",
      "ciao\n",
      "ciao\n",
      "ciao\n",
      "ciao\n",
      "ciao\n",
      "ciao\n",
      "ciao\n",
      "ciao\n",
      "ciao\n",
      "ciao\n",
      "ciao\n",
      "ciao\n",
      "ciao\n",
      "ciao\n",
      "ciao\n",
      "ciao\n",
      "ciao\n",
      "ciao\n",
      "ciao\n",
      "ciao\n",
      "ciao\n",
      "ciao\n",
      "ciao\n",
      "ciao\n",
      "ciao\n",
      "ciao\n",
      "ciao\n",
      "ciao\n",
      "ciao\n",
      "ciao\n",
      "ciao\n",
      "ciao\n",
      "ciao\n",
      "ciao\n",
      "ciao\n",
      "ciao\n",
      "ciao\n",
      "ciao\n",
      "ciao\n",
      "ciao\n",
      "ciao\n",
      "ciao\n",
      "ciao\n",
      "ciao\n",
      "ciao\n",
      "ciao\n",
      "ciao\n",
      "ciao\n",
      "ciao\n",
      "ciao\n",
      "ciao\n",
      "ciao\n",
      "ciao\n",
      "ciao\n",
      "ciao\n",
      "ciao\n",
      "ciao\n",
      "ciao\n",
      "ciao\n",
      "ciao\n",
      "ciao\n",
      "ciao\n",
      "ciao\n",
      "ciao\n",
      "ciao\n",
      "ciao\n",
      "ciao\n",
      "ciao\n",
      "ciao\n",
      "ciao\n",
      "ciao\n",
      "ciao\n",
      "ciao\n",
      "ciao\n",
      "ciao\n",
      "ciao\n",
      "ciao\n",
      "ciao\n",
      "ciao\n",
      "ciao\n",
      "ciao\n",
      "ciao\n",
      "ciao\n",
      "ciao\n",
      "ciao\n",
      "ciao\n",
      "ciao\n",
      "ciao\n",
      "ciao\n",
      "ciao\n",
      "ciao\n",
      "ciao\n",
      "ciao\n",
      "ciao\n",
      "ciao\n",
      "ciao\n",
      "ciao\n",
      "ciao\n",
      "ciao\n",
      "ciao\n",
      "ciao\n",
      "ciao\n",
      "ciao\n",
      "ciao\n",
      "ciao\n",
      "ciao\n",
      "ciao\n",
      "ciao\n",
      "ciao\n",
      "ciao\n",
      "ciao\n",
      "ciao\n",
      "ciao\n",
      "ciao\n",
      "ciao\n",
      "ciao\n",
      "ciao\n",
      "ciao\n",
      "ciao\n",
      "ciao\n",
      "ciao\n",
      "ciao\n",
      "ciao\n",
      "ciao\n",
      "ciao\n",
      "ciao\n",
      "ciao\n",
      "ciao\n",
      "ciao\n",
      "ciao\n",
      "ciao\n",
      "ciao\n",
      "ciao\n",
      "ciao\n",
      "ciao\n",
      "ciao\n",
      "ciao\n",
      "ciao\n",
      "ciao\n",
      "ciao\n",
      "ciao\n",
      "ciao\n",
      "ciao\n",
      "ciao\n",
      "ciao\n",
      "ciao\n",
      "ciao\n",
      "ciao\n",
      "ciao\n",
      "ciao\n",
      "ciao\n",
      "ciao\n",
      "ciao\n",
      "ciao\n",
      "ciao\n",
      "ciao\n",
      "ciao\n",
      "ciao\n",
      "ciao\n",
      "ciao\n",
      "ciao\n",
      "ciao\n",
      "ciao\n",
      "ciao\n",
      "ciao\n",
      "ciao\n",
      "ciao\n",
      "ciao\n",
      "ciao\n",
      "ciao\n",
      "ciao\n",
      "ciao\n",
      "ciao\n",
      "ciao\n",
      "ciao\n",
      "ciao\n",
      "ciao\n",
      "ciao\n",
      "ciao\n",
      "ciao\n",
      "ciao\n",
      "ciao\n",
      "ciao\n",
      "ciao\n",
      "ciao\n",
      "ciao\n",
      "ciao\n"
     ]
    },
    {
     "data": {
      "image/png": "[encoded data removed]",
      "text/plain": [
       "<Figure size 432x288 with 2 Axes>"
      ]
     },
     "metadata": {
      "needs_background": "light"
     },
     "output_type": "display_data"
    }
   ],
   "source": [
    "utils.plot_confusion_matrix(cm,['0','1','2','3','4','5','6','7','8','9','10','11','12','13','14'],normalize=True)\n"
   ]
  },
  {
   "cell_type": "code",
   "execution_count": 25,
   "metadata": {},
   "outputs": [
    {
     "data": {
      "text/plain": [
       "[<matplotlib.lines.Line2D at 0x1a43b15e80>]"
      ]
     },
     "execution_count": 25,
     "metadata": {},
     "output_type": "execute_result"
    },
    {
     "data": {
      "image/png": "[encoded data removed]",
      "text/plain": [
       "<Figure size 432x288 with 1 Axes>"
      ]
     },
     "metadata": {
      "needs_background": "light"
     },
     "output_type": "display_data"
    }
   ],
   "source": [
    "plt.title(\"validation loss\")\n",
    "plt.xlabel(\"epochs\")\n",
    "plt.ylabel(\"log-loss\")\n",
    "plt.plot(history.history['val_loss'])\n"
   ]
  },
  {
   "cell_type": "code",
   "execution_count": 26,
   "metadata": {},
   "outputs": [
    {
     "data": {
      "text/plain": [
       "[<matplotlib.lines.Line2D at 0x104f45ba8>]"
      ]
     },
     "execution_count": 26,
     "metadata": {},
     "output_type": "execute_result"
    },
    {
     "data": {
      "image/png": "[encoded data removed]",
      "text/plain": [
       "<Figure size 432x288 with 1 Axes>"
      ]
     },
     "metadata": {
      "needs_background": "light"
     },
     "output_type": "display_data"
    }
   ],
   "source": [
    "\n",
    "plt.title(\"validation accuracy\")\n",
    "plt.xlabel(\"epochs\")\n",
    "plt.ylabel(\"accuracy\")\n",
    "plt.plot(history.history['val_accuracy'])\n"
   ]
  },
  {
   "cell_type": "code",
   "execution_count": 27,
   "metadata": {},
   "outputs": [
    {
     "data": {
      "text/plain": [
       "[<matplotlib.lines.Line2D at 0x1a43acf438>]"
      ]
     },
     "execution_count": 27,
     "metadata": {},
     "output_type": "execute_result"
    },
    {
     "data": {
      "image/png": "[encoded data removed]",
      "text/plain": [
       "<Figure size 432x288 with 1 Axes>"
      ]
     },
     "metadata": {
      "needs_background": "light"
     },
     "output_type": "display_data"
    }
   ],
   "source": [
    "plt.title(\" accuracy\")\n",
    "plt.xlabel(\"epochs\")\n",
    "plt.ylabel(\"accuracy\")\n",
    "plt.plot(history.history['accuracy'])"
   ]
  },
  {
   "cell_type": "code",
   "execution_count": 28,
   "metadata": {},
   "outputs": [
    {
     "data": {
      "text/plain": [
       "[<matplotlib.lines.Line2D at 0x110ddd6a0>]"
      ]
     },
     "execution_count": 28,
     "metadata": {},
     "output_type": "execute_result"
    },
    {
     "data": {
      "image/png": "[encoded data removed]",
      "text/plain": [
       "<Figure size 432x288 with 1 Axes>"
      ]
     },
     "metadata": {
      "needs_background": "light"
     },
     "output_type": "display_data"
    }
   ],
   "source": [
    "plt.title(\"Log-loss\")\n",
    "plt.xlabel(\"epochs\")\n",
    "plt.ylabel(\"accuracy\")\n",
    "plt.plot(history.history['loss'])"
   ]
  },
  {
   "cell_type": "markdown",
   "metadata": {},
   "source": [
    "## FASE 2 --> CERCARE DI MIGLIORARE LA NOSTRA RETE NEURALE \n",
    "\n",
    "Il test accuracy ora è di circa il 35%, ma lo vogliamo migliorare in qualche modo\n",
    "\n",
    "Già con il Dropout la situazione migliora, anche se non di molto\n",
    "\n",
    "Ora proveremo con il data augmentation, considerando semplicemente le stesse immagini \"\"specchiate\""
   ]
  },
  {
   "cell_type": "code",
   "execution_count": null,
   "metadata": {},
   "outputs": [],
   "source": [
    "#CREAZIONE DEI DATI PER LA NOSTRA NUOVA RETE NEURALE\n",
    "train_data_aug, train_labels_aug = utils.read_and_process_images(list_of_images)\n",
    "train_data_aug,train_labels_aug = utils.data_augmentation(train_data_aug,train_labels_aug)\n",
    "train_data_aug = train_data_aug.reshape(train_data_aug.shape[0],train_data_aug.shape[1],train_data_aug.shape[2],1)\n"
   ]
  },
  {
   "cell_type": "code",
   "execution_count": null,
   "metadata": {},
   "outputs": [],
   "source": [
    "train_labels_dummy_aug = to_categorical(train_labels_aug,15)"
   ]
  },
  {
   "cell_type": "markdown",
   "metadata": {},
   "source": [
    "## DEFINITION OF THE SECOND MODEL, WITH DATA AUGMENTATION \n"
   ]
  },
  {
   "cell_type": "code",
   "execution_count": null,
   "metadata": {},
   "outputs": [],
   "source": [
    "from keras.layers.normalization import BatchNormalization"
   ]
  },
  {
   "cell_type": "code",
   "execution_count": null,
   "metadata": {},
   "outputs": [],
   "source": [
    "#adam = optimizers.Adam()\n",
    "model_aug = Sequential()\n",
    "#first convolutional layer\n",
    "model_aug.add(Conv2D(filters=8,kernel_size=3,padding = 'valid',activation='relu',input_shape=(64,64,1)))\n",
    "model_aug.add(BatchNormalization(axis=1))\n",
    "model_aug.add(MaxPooling2D(pool_size=2,strides=2))\n",
    "model.add(Dropout(0.3))\n",
    "#secondo convolutional layer\n",
    "model_aug.add(Conv2D(filters=16,kernel_size=3,strides=2,padding='valid',activation='relu',input_shape=(64,64,1)))\n",
    "model_aug.add(BatchNormalization(axis=1))\n",
    "model_aug.add(MaxPooling2D(pool_size=2,strides=2))\n",
    "model.add(Dropout(0.3))\n",
    "#third convolutional layer\n",
    "model_aug.add(Conv2D(filters=32,kernel_size=3,padding='valid',activation='relu',input_shape=(64,64,1)))\n",
    "model_aug.add(BatchNormalization(axis=1))\n",
    "model_aug.add(Flatten())\n",
    "model_aug.add(Dense(15,activation='relu',kernel_initializer=norm,bias_initializer='zeros'))\n",
    "model_aug.add(BatchNormalization(axis=1))\n",
    "model_aug.add(Dense(15,activation='softmax'))\n",
    "\n",
    "#classification output\n",
    "model_aug.compile(loss='categorical_crossentropy',optimizer=sgd,metrics = ['accuracy'])"
   ]
  },
  {
   "cell_type": "code",
   "execution_count": null,
   "metadata": {},
   "outputs": [],
   "source": [
    "from keras.callbacks import EarlyStopping\n",
    "from keras.callbacks import History\n",
    "history = History()\n",
    "earlyStopping = EarlyStopping(min_delta=0.0000001,patience = 20)\n",
    "\n",
    "\n",
    "model_aug.fit(train_data_aug,train_labels_dummy_aug,batch_size=32,epochs=50,validation_split=0.15,shuffle=True,callbacks=[history])"
   ]
  },
  {
   "cell_type": "code",
   "execution_count": null,
   "metadata": {},
   "outputs": [],
   "source": [
    "model_aug.evaluate(test_data,test_labels_dummy)"
   ]
  },
  {
   "cell_type": "code",
   "execution_count": null,
   "metadata": {},
   "outputs": [],
   "source": [
    "plt.title(\"validation loss\")\n",
    "plt.xlabel(\"epochs\")\n",
    "plt.ylabel(\"log-loss\")\n",
    "plt.plot(history.history['val_loss'])"
   ]
  },
  {
   "cell_type": "code",
   "execution_count": null,
   "metadata": {},
   "outputs": [],
   "source": [
    "plt.title(\"validation accuracy\")\n",
    "plt.xlabel(\"epochs\")\n",
    "plt.ylabel(\"accuracy\")\n",
    "plt.plot(history.history['val_accuracy'])"
   ]
  },
  {
   "cell_type": "code",
   "execution_count": null,
   "metadata": {},
   "outputs": [],
   "source": [
    "plt.title(\" accuracy\")\n",
    "plt.xlabel(\"epochs\")\n",
    "plt.ylabel(\"accuracy\")\n",
    "plt.plot(history.history['accuracy'])"
   ]
  },
  {
   "cell_type": "code",
   "execution_count": null,
   "metadata": {},
   "outputs": [],
   "source": [
    "plt.title(\"Log-loss\")\n",
    "plt.xlabel(\"epochs\")\n",
    "plt.ylabel(\"accuracy\")\n",
    "plt.plot(history.history['loss'])"
   ]
  },
  {
   "cell_type": "code",
   "execution_count": null,
   "metadata": {},
   "outputs": [],
   "source": []
  }
 ],
 "metadata": {
  "kernelspec": {
   "display_name": "Python 3",
   "language": "python",
   "name": "python3"
  },
  "language_info": {
   "codemirror_mode": {
    "name": "ipython",
    "version": 3
   },
   "file_extension": ".py",
   "mimetype": "text/x-python",
   "name": "python",
   "nbconvert_exporter": "python",
   "pygments_lexer": "ipython3",
   "version": "3.7.3"
  }
 },
 "nbformat": 4,
 "nbformat_minor": 2
}
