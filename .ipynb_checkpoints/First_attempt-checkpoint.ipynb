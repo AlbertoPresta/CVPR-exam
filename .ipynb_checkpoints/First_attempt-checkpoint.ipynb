{
 "cells": [
  {
   "cell_type": "markdown",
   "metadata": {},
   "source": [
    "## FIRST ATTEMPT TO CNN\n",
    "\n",
    "In this framework, I will try to built a first attempt to the neural networ requested by the project, so I try to answer to the first part of the project"
   ]
  },
  {
   "cell_type": "code",
   "execution_count": 1,
   "metadata": {},
   "outputs": [
    {
     "name": "stderr",
     "output_type": "stream",
     "text": [
      "Using TensorFlow backend.\n"
     ]
    }
   ],
   "source": [
    "import numpy as np\n",
    "import matplotlib.pyplot as plt\n",
    "import PIL\n",
    "from keras.models import Sequential\n",
    "from keras.layers import Dense\n",
    "import os\n",
    "import cv2\n",
    "\n",
    "\n",
    "from keras.utils import to_categorical #to create dummy variable\n",
    "from keras.layers import Conv2D,Flatten,Dropout, MaxPooling2D,AveragePooling2D"
   ]
  },
  {
   "cell_type": "markdown",
   "metadata": {},
   "source": [
    "## PREPROCESSING DEI  DATI \n",
    "\n",
    "The most popular and de facto standard library in Python for loading and working with image data is Pillow. Pillow is an updated version of the Python Image Library, or PIL, and supports a range of simple and sophisticated image manipulation functionality."
   ]
  },
  {
   "cell_type": "code",
   "execution_count": 2,
   "metadata": {},
   "outputs": [
    {
     "name": "stdout",
     "output_type": "stream",
     "text": [
      "importing Jupyter notebook from utils.ipynb\n"
     ]
    }
   ],
   "source": [
    "import import_ipynb\n",
    "import utils"
   ]
  },
  {
   "cell_type": "code",
   "execution_count": 3,
   "metadata": {},
   "outputs": [],
   "source": [
    "# SOME IMPORTANT GLOBAL VARIABLE\n",
    "base_dir = '../images/'\n",
    "train_dir=os.path.join(base_dir,'train')\n",
    "test_dir=os.path.join(base_dir,'test')\n",
    "direc = '../images/train/'\n",
    "labels = [\"Bedroom\",\"Coast\",\"Forest\",\"HighWay\",\"Industrial\",\"InsideCity\",\"Kitchen\",\"LivingRoom\",\"Mountain\",\"Office\",\"OpenCountry\",\"Store\",\"Street\",\"Suburb\",\"TallBuilding\"]\n",
    "list_categories = ['../images/train/{}'.format(i) for i in os.listdir(train_dir) if i!='.DS_Store']\n",
    "\n",
    "\n"
   ]
  },
  {
   "cell_type": "code",
   "execution_count": 4,
   "metadata": {},
   "outputs": [],
   "source": [
    "list_of_images = utils.list_of_path(labels,'../images/train/')\n",
    "train_data,train_labels= utils.read_and_process_images(list_of_images)\n",
    "\n"
   ]
  },
  {
   "cell_type": "code",
   "execution_count": 5,
   "metadata": {},
   "outputs": [],
   "source": [
    "# preparo i testa data \n",
    "test_path = '../images/train/'\n",
    "list_of_images_test = utils.list_of_path(labels,'../images/test/')\n",
    "test_data,test_labels = utils.read_and_process_images(list_of_images_test)"
   ]
  },
  {
   "cell_type": "code",
   "execution_count": 6,
   "metadata": {},
   "outputs": [],
   "source": [
    "train_data = train_data.reshape(train_data.shape[0],train_data.shape[1],train_data.shape[2],1)\n",
    "test_data = test_data.reshape(test_data.shape[0],test_data.shape[1],test_data.shape[2],1)"
   ]
  },
  {
   "cell_type": "code",
   "execution_count": 19,
   "metadata": {},
   "outputs": [],
   "source": [
    "validation_data = train_data[:-225]\n",
    "validation_labels = train_labels[:-225]"
   ]
  },
  {
   "cell_type": "code",
   "execution_count": 20,
   "metadata": {},
   "outputs": [],
   "source": [
    "from keras.utils import to_categorical\n",
    "from keras import optimizers"
   ]
  },
  {
   "cell_type": "code",
   "execution_count": 21,
   "metadata": {},
   "outputs": [],
   "source": [
    "train_labels_dummy = to_categorical(train_labels,15)\n",
    "test_labels_dummy = to_categorical(test_labels,15)"
   ]
  },
  {
   "cell_type": "markdown",
   "metadata": {},
   "source": [
    "## DEFINITION OF THE MODEL "
   ]
  },
  {
   "cell_type": "code",
   "execution_count": 22,
   "metadata": {},
   "outputs": [],
   "source": [
    "sgd = optimizers.SGD(momentum=0.9,nesterov=True)"
   ]
  },
  {
   "cell_type": "code",
   "execution_count": 23,
   "metadata": {},
   "outputs": [],
   "source": [
    "from keras import initializers"
   ]
  },
  {
   "cell_type": "code",
   "execution_count": 24,
   "metadata": {},
   "outputs": [],
   "source": [
    "norm = initializers.RandomNormal(mean=0.0, stddev=0.01, seed=None)"
   ]
  },
  {
   "cell_type": "code",
   "execution_count": 12,
   "metadata": {},
   "outputs": [],
   "source": [
    "\n",
    "#adam = optimizers.Adam()\n",
    "model = Sequential()\n",
    "#first convolutional layer\n",
    "model.add(Conv2D(filters=8,kernel_size=3,padding = 'valid',activation='relu',input_shape=(64,64,1)))\n",
    "model.add(MaxPooling2D(pool_size=2,strides=2))\n",
    "#secondo convolutional layer\n",
    "model.add(Conv2D(filters=16,kernel_size=3,strides=2,padding='valid',activation='relu',input_shape=(64,64,1)))\n",
    "model.add(MaxPooling2D(pool_size=2,strides=2))\n",
    "#third convolutional layer\n",
    "model.add(Conv2D(filters=32,kernel_size=3,padding='valid',activation='relu',input_shape=(64,64,1)))\n",
    "model.add(Flatten())\n",
    "model.add(Dense(15,activation='relu',kernel_initializer=norm,bias_initializer='zeros'))\n",
    "model.add(Dense(15,activation='softmax'))\n",
    "\n",
    "#classification output\n",
    "model.compile(loss='categorical_crossentropy',optimizer=sgd,metrics = ['accuracy'])\n",
    "\n",
    "\n"
   ]
  },
  {
   "cell_type": "code",
   "execution_count": 13,
   "metadata": {},
   "outputs": [
    {
     "name": "stdout",
     "output_type": "stream",
     "text": [
      "Train on 1275 samples, validate on 225 samples\n",
      "Epoch 1/100\n",
      "1275/1275 [==============================] - 1s 904us/step - loss: 2.7059 - accuracy: 0.0612 - val_loss: 2.7366 - val_accuracy: 0.0000e+00\n",
      "Epoch 2/100\n",
      "1275/1275 [==============================] - 1s 799us/step - loss: 2.7004 - accuracy: 0.0722 - val_loss: 2.7669 - val_accuracy: 0.0000e+00\n",
      "Epoch 3/100\n",
      "1275/1275 [==============================] - 1s 790us/step - loss: 2.6953 - accuracy: 0.0808 - val_loss: 2.7986 - val_accuracy: 0.0000e+00\n",
      "Epoch 4/100\n",
      "1275/1275 [==============================] - 1s 792us/step - loss: 2.6901 - accuracy: 0.0784 - val_loss: 2.8316 - val_accuracy: 0.0000e+00\n",
      "Epoch 5/100\n",
      "1275/1275 [==============================] - 1s 806us/step - loss: 2.6850 - accuracy: 0.0784 - val_loss: 2.8658 - val_accuracy: 0.0000e+00\n",
      "Epoch 6/100\n",
      "1275/1275 [==============================] - 1s 795us/step - loss: 2.6798 - accuracy: 0.0792 - val_loss: 2.9030 - val_accuracy: 0.0000e+00\n",
      "Epoch 7/100\n",
      "1275/1275 [==============================] - 1s 815us/step - loss: 2.6744 - accuracy: 0.0784 - val_loss: 2.9450 - val_accuracy: 0.0000e+00\n",
      "Epoch 8/100\n",
      "1275/1275 [==============================] - 1s 828us/step - loss: 2.6684 - accuracy: 0.0784 - val_loss: 2.9972 - val_accuracy: 0.0000e+00\n",
      "Epoch 9/100\n",
      "1275/1275 [==============================] - 1s 829us/step - loss: 2.6611 - accuracy: 0.0784 - val_loss: 3.0689 - val_accuracy: 0.0000e+00\n",
      "Epoch 10/100\n",
      "1275/1275 [==============================] - 1s 847us/step - loss: 2.6520 - accuracy: 0.0863 - val_loss: 3.1683 - val_accuracy: 0.0000e+00\n",
      "Epoch 11/100\n",
      "1275/1275 [==============================] - 1s 845us/step - loss: 2.6410 - accuracy: 0.0792 - val_loss: 3.3096 - val_accuracy: 0.0000e+00\n",
      "Epoch 12/100\n",
      "1275/1275 [==============================] - 1s 856us/step - loss: 2.6279 - accuracy: 0.0886 - val_loss: 3.5120 - val_accuracy: 0.0000e+00\n",
      "Epoch 13/100\n",
      "1275/1275 [==============================] - 1s 829us/step - loss: 2.6140 - accuracy: 0.0996 - val_loss: 3.7623 - val_accuracy: 0.0000e+00\n",
      "Epoch 14/100\n",
      "1275/1275 [==============================] - 1s 837us/step - loss: 2.6005 - accuracy: 0.0973 - val_loss: 4.0698 - val_accuracy: 0.0000e+00\n",
      "Epoch 15/100\n",
      "1275/1275 [==============================] - 1s 826us/step - loss: 2.5884 - accuracy: 0.0980 - val_loss: 4.3595 - val_accuracy: 0.0000e+00\n",
      "Epoch 16/100\n",
      "1275/1275 [==============================] - 1s 838us/step - loss: 2.5768 - accuracy: 0.0965 - val_loss: 4.6680 - val_accuracy: 0.0000e+00\n",
      "Epoch 17/100\n",
      "1275/1275 [==============================] - 1s 819us/step - loss: 2.5684 - accuracy: 0.0847 - val_loss: 4.9978 - val_accuracy: 0.0000e+00\n",
      "Epoch 18/100\n",
      "1275/1275 [==============================] - 1s 840us/step - loss: 2.5594 - accuracy: 0.0925 - val_loss: 5.3045 - val_accuracy: 0.0000e+00\n",
      "Epoch 19/100\n",
      "1275/1275 [==============================] - 1s 834us/step - loss: 2.5508 - accuracy: 0.0996 - val_loss: 5.6115 - val_accuracy: 0.0000e+00\n",
      "Epoch 20/100\n",
      "1275/1275 [==============================] - 1s 834us/step - loss: 2.5425 - accuracy: 0.0902 - val_loss: 6.0014 - val_accuracy: 0.0000e+00\n",
      "Epoch 21/100\n",
      "1275/1275 [==============================] - 1s 823us/step - loss: 2.5393 - accuracy: 0.0933 - val_loss: 6.2056 - val_accuracy: 0.0000e+00\n",
      "Epoch 22/100\n",
      "1275/1275 [==============================] - 1s 830us/step - loss: 2.5319 - accuracy: 0.1075 - val_loss: 6.4342 - val_accuracy: 0.0000e+00\n",
      "Epoch 23/100\n",
      "1275/1275 [==============================] - 1s 853us/step - loss: 2.5239 - accuracy: 0.0933 - val_loss: 6.6501 - val_accuracy: 0.0000e+00\n",
      "Epoch 24/100\n",
      "1275/1275 [==============================] - 1s 839us/step - loss: 2.5176 - accuracy: 0.1114 - val_loss: 6.7647 - val_accuracy: 0.0000e+00\n",
      "Epoch 25/100\n",
      "1275/1275 [==============================] - 1s 854us/step - loss: 2.5153 - accuracy: 0.1106 - val_loss: 6.8775 - val_accuracy: 0.0000e+00\n",
      "Epoch 26/100\n",
      "1275/1275 [==============================] - 1s 835us/step - loss: 2.5140 - accuracy: 0.1098 - val_loss: 6.9302 - val_accuracy: 0.0089\n",
      "Epoch 27/100\n",
      "1275/1275 [==============================] - 1s 868us/step - loss: 2.5139 - accuracy: 0.1067 - val_loss: 6.9249 - val_accuracy: 0.0000e+00\n",
      "Epoch 28/100\n",
      "1275/1275 [==============================] - 1s 945us/step - loss: 2.5028 - accuracy: 0.1153 - val_loss: 6.9913 - val_accuracy: 0.0044\n",
      "Epoch 29/100\n",
      "1275/1275 [==============================] - 1s 1ms/step - loss: 2.5007 - accuracy: 0.1169 - val_loss: 6.8982 - val_accuracy: 0.0800\n",
      "Epoch 30/100\n",
      "1275/1275 [==============================] - 1s 994us/step - loss: 2.4931 - accuracy: 0.1318 - val_loss: 7.2328 - val_accuracy: 0.0000e+00\n",
      "Epoch 31/100\n",
      "1275/1275 [==============================] - 1s 852us/step - loss: 2.4914 - accuracy: 0.1278 - val_loss: 7.0899 - val_accuracy: 0.0711\n",
      "Epoch 32/100\n",
      "1275/1275 [==============================] - 1s 852us/step - loss: 2.4910 - accuracy: 0.1396 - val_loss: 7.0905 - val_accuracy: 0.0711\n",
      "Epoch 33/100\n",
      "1275/1275 [==============================] - 1s 957us/step - loss: 2.4829 - accuracy: 0.1333 - val_loss: 7.2210 - val_accuracy: 0.0222\n",
      "Epoch 34/100\n",
      "1275/1275 [==============================] - 1s 875us/step - loss: 2.4813 - accuracy: 0.1357 - val_loss: 7.3670 - val_accuracy: 0.0000e+00\n",
      "Epoch 35/100\n",
      "1275/1275 [==============================] - 1s 914us/step - loss: 2.4853 - accuracy: 0.1333 - val_loss: 7.1292 - val_accuracy: 0.0267\n",
      "Epoch 36/100\n",
      "1275/1275 [==============================] - 2s 1ms/step - loss: 2.4737 - accuracy: 0.1420 - val_loss: 7.0694 - val_accuracy: 0.0756\n",
      "Epoch 37/100\n",
      "1275/1275 [==============================] - 1s 1ms/step - loss: 2.4716 - accuracy: 0.1349 - val_loss: 7.1362 - val_accuracy: 0.0756\n",
      "Epoch 38/100\n",
      "1275/1275 [==============================] - 1s 835us/step - loss: 2.4664 - accuracy: 0.1373 - val_loss: 7.1422 - val_accuracy: 0.0622\n",
      "Epoch 39/100\n",
      "1275/1275 [==============================] - 2s 1ms/step - loss: 2.4652 - accuracy: 0.1522 - val_loss: 7.0210 - val_accuracy: 0.0800\n",
      "Epoch 40/100\n",
      "1275/1275 [==============================] - 2s 1ms/step - loss: 2.4575 - accuracy: 0.1404 - val_loss: 7.2326 - val_accuracy: 0.0489\n",
      "Epoch 41/100\n",
      "1275/1275 [==============================] - 1s 981us/step - loss: 2.4568 - accuracy: 0.1584 - val_loss: 7.1919 - val_accuracy: 0.0444\n",
      "Epoch 42/100\n",
      "1275/1275 [==============================] - 1s 1ms/step - loss: 2.4508 - accuracy: 0.1647 - val_loss: 7.1530 - val_accuracy: 0.0444\n",
      "Epoch 43/100\n",
      "1275/1275 [==============================] - 1s 978us/step - loss: 2.4421 - accuracy: 0.1608 - val_loss: 7.1649 - val_accuracy: 0.0844\n",
      "Epoch 44/100\n",
      "1275/1275 [==============================] - 1s 1ms/step - loss: 2.4389 - accuracy: 0.1569 - val_loss: 7.1419 - val_accuracy: 0.0711\n",
      "Epoch 45/100\n",
      "1275/1275 [==============================] - 1s 839us/step - loss: 2.4332 - accuracy: 0.1655 - val_loss: 7.3011 - val_accuracy: 0.0533\n",
      "Epoch 46/100\n",
      "1275/1275 [==============================] - 1s 746us/step - loss: 2.4306 - accuracy: 0.1686 - val_loss: 7.2073 - val_accuracy: 0.0622\n",
      "Epoch 47/100\n",
      "1275/1275 [==============================] - 1s 716us/step - loss: 2.4219 - accuracy: 0.1741 - val_loss: 7.2167 - val_accuracy: 0.0667\n",
      "Epoch 48/100\n",
      "1275/1275 [==============================] - 1s 998us/step - loss: 2.4086 - accuracy: 0.1867 - val_loss: 7.2434 - val_accuracy: 0.0667\n",
      "Epoch 49/100\n",
      "1275/1275 [==============================] - 1s 770us/step - loss: 2.4016 - accuracy: 0.1686 - val_loss: 7.3183 - val_accuracy: 0.0667\n",
      "Epoch 50/100\n",
      "1275/1275 [==============================] - 1s 902us/step - loss: 2.3948 - accuracy: 0.1898 - val_loss: 7.2469 - val_accuracy: 0.0844\n",
      "Epoch 51/100\n",
      "1275/1275 [==============================] - 1s 773us/step - loss: 2.3934 - accuracy: 0.1835 - val_loss: 7.3995 - val_accuracy: 0.0667\n",
      "Epoch 52/100\n",
      "1275/1275 [==============================] - 1s 975us/step - loss: 2.3787 - accuracy: 0.1922 - val_loss: 7.4590 - val_accuracy: 0.0711\n",
      "Epoch 53/100\n",
      "1275/1275 [==============================] - 1s 878us/step - loss: 2.3744 - accuracy: 0.1945 - val_loss: 7.3846 - val_accuracy: 0.0800\n",
      "Epoch 54/100\n",
      "1275/1275 [==============================] - 1s 751us/step - loss: 2.3711 - accuracy: 0.2071 - val_loss: 7.4396 - val_accuracy: 0.0578\n",
      "Epoch 55/100\n"
     ]
    },
    {
     "name": "stdout",
     "output_type": "stream",
     "text": [
      "1275/1275 [==============================] - 1s 729us/step - loss: 2.3504 - accuracy: 0.2188 - val_loss: 7.5213 - val_accuracy: 0.0622\n",
      "Epoch 56/100\n",
      "1275/1275 [==============================] - 1s 871us/step - loss: 2.3484 - accuracy: 0.2149 - val_loss: 7.3500 - val_accuracy: 0.0844\n",
      "Epoch 57/100\n",
      "1275/1275 [==============================] - 1s 854us/step - loss: 2.3318 - accuracy: 0.2180 - val_loss: 7.5028 - val_accuracy: 0.0711\n",
      "Epoch 58/100\n",
      "1275/1275 [==============================] - 1s 774us/step - loss: 2.3161 - accuracy: 0.2290 - val_loss: 7.5808 - val_accuracy: 0.0756\n",
      "Epoch 59/100\n",
      "1275/1275 [==============================] - 1s 812us/step - loss: 2.3045 - accuracy: 0.2416 - val_loss: 7.3148 - val_accuracy: 0.0844\n",
      "Epoch 60/100\n",
      "1275/1275 [==============================] - 1s 1ms/step - loss: 2.2879 - accuracy: 0.2361 - val_loss: 7.6319 - val_accuracy: 0.0667\n",
      "Epoch 61/100\n",
      "1275/1275 [==============================] - 1s 764us/step - loss: 2.2708 - accuracy: 0.2525 - val_loss: 7.7241 - val_accuracy: 0.0711\n",
      "Epoch 62/100\n",
      "1275/1275 [==============================] - 1s 724us/step - loss: 2.2588 - accuracy: 0.2447 - val_loss: 7.3127 - val_accuracy: 0.0756\n",
      "Epoch 63/100\n",
      "1275/1275 [==============================] - 1s 730us/step - loss: 2.2415 - accuracy: 0.2698 - val_loss: 7.4391 - val_accuracy: 0.0667\n",
      "Epoch 64/100\n",
      "1275/1275 [==============================] - 1s 725us/step - loss: 2.2198 - accuracy: 0.2808 - val_loss: 7.6985 - val_accuracy: 0.0711\n",
      "Epoch 65/100\n",
      "1275/1275 [==============================] - 1s 740us/step - loss: 2.2180 - accuracy: 0.2776 - val_loss: 7.8243 - val_accuracy: 0.0578\n",
      "Epoch 66/100\n",
      "1275/1275 [==============================] - 1s 811us/step - loss: 2.1983 - accuracy: 0.2871 - val_loss: 7.8709 - val_accuracy: 0.0711\n",
      "Epoch 67/100\n",
      "1275/1275 [==============================] - 1s 717us/step - loss: 2.1594 - accuracy: 0.3027 - val_loss: 7.8219 - val_accuracy: 0.0711\n",
      "Epoch 68/100\n",
      "1275/1275 [==============================] - 1s 1ms/step - loss: 2.1628 - accuracy: 0.3012 - val_loss: 7.2395 - val_accuracy: 0.0756\n",
      "Epoch 69/100\n",
      "1275/1275 [==============================] - 1s 811us/step - loss: 2.1327 - accuracy: 0.2980 - val_loss: 7.7090 - val_accuracy: 0.0711\n",
      "Epoch 70/100\n",
      "1275/1275 [==============================] - 1s 1ms/step - loss: 2.0799 - accuracy: 0.3208 - val_loss: 8.0398 - val_accuracy: 0.0756\n",
      "Epoch 71/100\n",
      "1275/1275 [==============================] - 1s 1ms/step - loss: 2.1035 - accuracy: 0.3090 - val_loss: 7.2736 - val_accuracy: 0.0711\n",
      "Epoch 72/100\n",
      "1275/1275 [==============================] - 1s 1ms/step - loss: 2.0440 - accuracy: 0.3231 - val_loss: 7.7329 - val_accuracy: 0.0667\n",
      "Epoch 73/100\n",
      "1275/1275 [==============================] - 1s 935us/step - loss: 2.0708 - accuracy: 0.3051 - val_loss: 7.5396 - val_accuracy: 0.0667\n",
      "Epoch 74/100\n",
      "1275/1275 [==============================] - 1s 973us/step - loss: 2.0379 - accuracy: 0.3278 - val_loss: 7.5490 - val_accuracy: 0.0711\n",
      "Epoch 75/100\n",
      "1275/1275 [==============================] - 1s 971us/step - loss: 2.0380 - accuracy: 0.3294 - val_loss: 6.9351 - val_accuracy: 0.0756\n",
      "Epoch 76/100\n",
      "1275/1275 [==============================] - 1s 871us/step - loss: 1.9700 - accuracy: 0.3482 - val_loss: 8.1191 - val_accuracy: 0.0711\n",
      "Epoch 77/100\n",
      "1275/1275 [==============================] - 1s 864us/step - loss: 2.0210 - accuracy: 0.3216 - val_loss: 7.8931 - val_accuracy: 0.0711\n",
      "Epoch 78/100\n",
      "1275/1275 [==============================] - 1s 876us/step - loss: 1.9652 - accuracy: 0.3490 - val_loss: 8.2765 - val_accuracy: 0.0711\n",
      "Epoch 79/100\n",
      "1275/1275 [==============================] - 1s 868us/step - loss: 1.9232 - accuracy: 0.3506 - val_loss: 8.3698 - val_accuracy: 0.0667\n",
      "Epoch 80/100\n",
      "1275/1275 [==============================] - 1s 914us/step - loss: 1.9170 - accuracy: 0.3498 - val_loss: 8.0301 - val_accuracy: 0.0667\n",
      "Epoch 81/100\n",
      "1275/1275 [==============================] - 1s 906us/step - loss: 1.9115 - accuracy: 0.3671 - val_loss: 7.9392 - val_accuracy: 0.0667\n",
      "Epoch 82/100\n",
      "1275/1275 [==============================] - 1s 845us/step - loss: 1.8827 - accuracy: 0.3655 - val_loss: 7.9797 - val_accuracy: 0.0667\n",
      "Epoch 83/100\n",
      "1275/1275 [==============================] - 1s 870us/step - loss: 1.8450 - accuracy: 0.3898 - val_loss: 8.1532 - val_accuracy: 0.0756\n",
      "Epoch 84/100\n",
      "1275/1275 [==============================] - 1s 963us/step - loss: 1.8138 - accuracy: 0.3741 - val_loss: 8.4978 - val_accuracy: 0.0622\n",
      "Epoch 85/100\n",
      "1275/1275 [==============================] - 1s 867us/step - loss: 1.8455 - accuracy: 0.3827 - val_loss: 8.2138 - val_accuracy: 0.0844\n",
      "Epoch 86/100\n",
      "1275/1275 [==============================] - 1s 955us/step - loss: 1.7966 - accuracy: 0.4031 - val_loss: 8.6801 - val_accuracy: 0.0711\n",
      "Epoch 87/100\n",
      "1275/1275 [==============================] - 1s 987us/step - loss: 1.8110 - accuracy: 0.3875 - val_loss: 8.1369 - val_accuracy: 0.0756\n",
      "Epoch 88/100\n",
      "1275/1275 [==============================] - 1s 933us/step - loss: 1.7738 - accuracy: 0.3906 - val_loss: 8.4103 - val_accuracy: 0.0622\n",
      "Epoch 89/100\n",
      "1275/1275 [==============================] - 1s 856us/step - loss: 1.7230 - accuracy: 0.4259 - val_loss: 9.3407 - val_accuracy: 0.0622\n",
      "Epoch 90/100\n",
      "1275/1275 [==============================] - 1s 870us/step - loss: 1.7290 - accuracy: 0.4173 - val_loss: 8.7652 - val_accuracy: 0.0667\n",
      "Epoch 91/100\n",
      "1275/1275 [==============================] - 1s 959us/step - loss: 1.6772 - accuracy: 0.4322 - val_loss: 9.3816 - val_accuracy: 0.0667\n",
      "Epoch 92/100\n",
      "1275/1275 [==============================] - 1s 1ms/step - loss: 1.7097 - accuracy: 0.4235 - val_loss: 8.5520 - val_accuracy: 0.0800\n",
      "Epoch 93/100\n",
      "1275/1275 [==============================] - 1s 968us/step - loss: 1.6538 - accuracy: 0.4392 - val_loss: 9.0439 - val_accuracy: 0.0756\n",
      "Epoch 94/100\n",
      "1275/1275 [==============================] - 1s 935us/step - loss: 1.6628 - accuracy: 0.4329 - val_loss: 7.6110 - val_accuracy: 0.0800\n",
      "Epoch 95/100\n",
      "1275/1275 [==============================] - 1s 938us/step - loss: 1.6115 - accuracy: 0.4690 - val_loss: 8.5641 - val_accuracy: 0.0756\n",
      "Epoch 96/100\n",
      "1275/1275 [==============================] - 1s 918us/step - loss: 1.6119 - accuracy: 0.4635 - val_loss: 9.4746 - val_accuracy: 0.0578\n",
      "Epoch 97/100\n",
      "1275/1275 [==============================] - 1s 932us/step - loss: 1.5809 - accuracy: 0.4737 - val_loss: 8.9473 - val_accuracy: 0.0711\n",
      "Epoch 98/100\n",
      "1275/1275 [==============================] - 1s 909us/step - loss: 1.5939 - accuracy: 0.4604 - val_loss: 8.7478 - val_accuracy: 0.0800\n",
      "Epoch 99/100\n",
      "1275/1275 [==============================] - 1s 934us/step - loss: 1.5277 - accuracy: 0.4831 - val_loss: 9.2638 - val_accuracy: 0.0756\n",
      "Epoch 100/100\n",
      "1275/1275 [==============================] - 1s 931us/step - loss: 1.5417 - accuracy: 0.4784 - val_loss: 10.1249 - val_accuracy: 0.0800\n"
     ]
    },
    {
     "data": {
      "text/plain": [
       "<keras.callbacks.callbacks.History at 0x64584ff60>"
      ]
     },
     "execution_count": 13,
     "metadata": {},
     "output_type": "execute_result"
    }
   ],
   "source": [
    "from keras.callbacks import EarlyStopping\n",
    "\n",
    "\n",
    "model.fit(train_data,train_labels_dummy,batch_size=32,epochs=100,validation_split=0.15,shuffle=True)\n"
   ]
  },
  {
   "cell_type": "code",
   "execution_count": 14,
   "metadata": {},
   "outputs": [
    {
     "name": "stdout",
     "output_type": "stream",
     "text": [
      "2985/2985 [==============================] - 1s 285us/step\n"
     ]
    },
    {
     "data": {
      "text/plain": [
       "[3.3518498780140327, 0.27839195728302]"
      ]
     },
     "execution_count": 14,
     "metadata": {},
     "output_type": "execute_result"
    }
   ],
   "source": [
    "model.evaluate(test_data,test_labels_dummy)"
   ]
  },
  {
   "cell_type": "code",
   "execution_count": 27,
   "metadata": {},
   "outputs": [],
   "source": [
    "from sklearn.metrics import confusion_matrix"
   ]
  },
  {
   "cell_type": "code",
   "execution_count": 28,
   "metadata": {},
   "outputs": [],
   "source": [
    "y_pred = model.predict_classes(test_data)"
   ]
  },
  {
   "cell_type": "code",
   "execution_count": 29,
   "metadata": {},
   "outputs": [],
   "source": [
    "cm = confusion_matrix(test_labels,y_pred)"
   ]
  },
  {
   "cell_type": "code",
   "execution_count": 35,
   "metadata": {},
   "outputs": [
    {
     "data": {
      "text/plain": [
       "<matplotlib.image.AxesImage at 0x639606630>"
      ]
     },
     "execution_count": 35,
     "metadata": {},
     "output_type": "execute_result"
    },
    {
     "data": {
      "image/png": "[encoded data removed]",
      "text/plain": [
       "<Figure size 432x288 with 1 Axes>"
      ]
     },
     "metadata": {
      "needs_background": "light"
     },
     "output_type": "display_data"
    }
   ],
   "source": [
    "plt.imshow(cm, cmap='binary')\n"
   ]
  },
  {
   "cell_type": "code",
   "execution_count": null,
   "metadata": {},
   "outputs": [],
   "source": []
  }
 ],
 "metadata": {
  "kernelspec": {
   "display_name": "Python 3",
   "language": "python",
   "name": "python3"
  },
  "language_info": {
   "codemirror_mode": {
    "name": "ipython",
    "version": 3
   },
   "file_extension": ".py",
   "mimetype": "text/x-python",
   "name": "python",
   "nbconvert_exporter": "python",
   "pygments_lexer": "ipython3",
   "version": "3.7.3"
  }
 },
 "nbformat": 4,
 "nbformat_minor": 2
}
