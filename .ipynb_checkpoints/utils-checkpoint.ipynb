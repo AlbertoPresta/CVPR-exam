{
 "cells": [
  {
   "cell_type": "code",
   "execution_count": 1,
   "metadata": {},
   "outputs": [],
   "source": [
    "import numpy as np\n",
    "import matplotlib.pyplot as plt\n",
    "import PIL\n",
    "import os\n",
    "import cv2\n",
    "from random import shuffle"
   ]
  },
  {
   "cell_type": "code",
   "execution_count": 2,
   "metadata": {},
   "outputs": [],
   "source": [
    "def read_and_process_images(list_of_images):\n",
    "    x = [] #array of images\n",
    "    y = [] #array of labels\n",
    "    for image in list_of_images:\n",
    "        x.append(cv2.resize(cv2.imread(image,cv2.IMREAD_GRAYSCALE),(250,250),interpolation=cv2.INTER_CUBIC))\n",
    "        if 'Bedroom' in image:\n",
    "            y.append(0)\n",
    "        if 'Coast' in image:\n",
    "            y.append(1)\n",
    "        if 'Forest' in image:\n",
    "            y.append(2)\n",
    "        if 'HighWay' in image:\n",
    "            y.append(3)\n",
    "        if 'Industrial' in image:\n",
    "            y.append(4)\n",
    "        if 'InsideCity' in image:\n",
    "            y.append(5)\n",
    "        if 'Kitchen' in image:\n",
    "            y.append(6)\n",
    "        if 'LivingRoom' in image:\n",
    "            y.append(7)\n",
    "        if 'Mountain' in image:\n",
    "            y.append(8)\n",
    "        if 'Office' in image:\n",
    "            y.append(9)\n",
    "        if 'OpenCountry' in image:\n",
    "            y.append(10)\n",
    "        if 'Store' in image:\n",
    "            y.append(11)\n",
    "        if 'Street' in image:\n",
    "            y.append(12)\n",
    "        if 'Suburb' in image:\n",
    "            y.append(13)\n",
    "        if 'TallBuilding' in image:\n",
    "            y.append(14)\n",
    "    x = np.asarray(x)\n",
    "    y = np.asarray(y)\n",
    "    return x,y\n",
    "\n",
    "\n",
    "    "
   ]
  },
  {
   "cell_type": "code",
   "execution_count": 3,
   "metadata": {},
   "outputs": [],
   "source": [
    "def list_of_path(lab,path='../images/train/' ):\n",
    "    x = []\n",
    "    for i in lab:\n",
    "        s = path+i+'/{}'\n",
    "        temp = [s.format(i) for i in os.listdir(path+i+'/')]\n",
    "        x = x + temp\n",
    "    np.random.permutation(x) \n",
    "    return x\n",
    "    "
   ]
  },
  {
   "cell_type": "code",
   "execution_count": null,
   "metadata": {},
   "outputs": [],
   "source": []
  },
  {
   "cell_type": "code",
   "execution_count": null,
   "metadata": {},
   "outputs": [],
   "source": []
  },
  {
   "cell_type": "code",
   "execution_count": null,
   "metadata": {},
   "outputs": [],
   "source": []
  },
  {
   "cell_type": "code",
   "execution_count": null,
   "metadata": {},
   "outputs": [],
   "source": []
  },
  {
   "cell_type": "code",
   "execution_count": null,
   "metadata": {},
   "outputs": [],
   "source": []
  },
  {
   "cell_type": "code",
   "execution_count": null,
   "metadata": {},
   "outputs": [],
   "source": []
  }
 ],
 "metadata": {
  "kernelspec": {
   "display_name": "Python 3",
   "language": "python",
   "name": "python3"
  },
  "language_info": {
   "codemirror_mode": {
    "name": "ipython",
    "version": 3
   },
   "file_extension": ".py",
   "mimetype": "text/x-python",
   "name": "python",
   "nbconvert_exporter": "python",
   "pygments_lexer": "ipython3",
   "version": "3.7.3"
  }
 },
 "nbformat": 4,
 "nbformat_minor": 2
}
