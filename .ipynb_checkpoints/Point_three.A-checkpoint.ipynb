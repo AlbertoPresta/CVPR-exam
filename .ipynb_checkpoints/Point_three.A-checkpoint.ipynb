{
 "cells": [
  {
   "cell_type": "code",
   "execution_count": 36,
   "metadata": {},
   "outputs": [],
   "source": [
    "#CELL DEDICATED TO IMPORT PACKAGES USEFULL FOR OUR PURPOSES\n",
    "import numpy as np\n",
    "import pandas as pd\n",
    "import matplotlib.pyplot as plt\n",
    "from keras.utils import to_categorical\n",
    "from keras import optimizers\n",
    "from keras import initializers\n",
    "from keras.callbacks import EarlyStopping\n",
    "from keras.callbacks import History\n",
    "from keras.applications.vgg16 import VGG16\n",
    "from sklearn.metrics import confusion_matrix\n",
    "from keras.models import Model\n",
    "from keras.preprocessing import image\n",
    "from keras.layers import Conv2D,Flatten,Dropout, MaxPooling2D,AveragePooling2D\n",
    "from keras.applications.vgg16 import preprocess_input\n",
    "\n",
    "\n",
    "import import_ipynb\n",
    "import utils\n"
   ]
  },
  {
   "cell_type": "code",
   "execution_count": 37,
   "metadata": {},
   "outputs": [],
   "source": [
    "# SOME IMPORTANT GLOBAL VARIABLE\n",
    "labels = [\"Bedroom\",\"Coast\",\"Forest\",\"HighWay\",\"Industrial\",\"InsideCity\",\"Kitchen\",\"LivingRoom\",\"Mountain\",\"Office\",\"OpenCountry\",\"Store\",\"Street\",\"Suburb\",\"TallBuilding\"]\n",
    "train_dir = '../images/train/'\n",
    "test_dir = '../images/test/'\n",
    "from keras.preprocessing import image"
   ]
  },
  {
   "cell_type": "markdown",
   "metadata": {},
   "source": [
    "# CREATION OF TRAINING DATA"
   ]
  },
  {
   "cell_type": "code",
   "execution_count": 42,
   "metadata": {},
   "outputs": [],
   "source": [
    "from sklearn.preprocessing import LabelEncoder\n",
    "le = LabelEncoder()"
   ]
  },
  {
   "cell_type": "code",
   "execution_count": 43,
   "metadata": {},
   "outputs": [],
   "source": [
    "list_of_images = utils.list_of_path(labels,train_dir)\n",
    "train_data,train_labels = utils.read_and_process_images(list_of_images,dimension=224)\n"
   ]
  },
  {
   "cell_type": "code",
   "execution_count": 45,
   "metadata": {
    "scrolled": false
   },
   "outputs": [],
   "source": [
    "\n",
    "train_images =  []\n",
    "for im in list_of_images:\n",
    "    temp_img=image.load_img(im,target_size=(224,224))\n",
    "    temp_img=image.img_to_array(temp_img)\n",
    "    train_images.append(temp_img)\n",
    "\n",
    "    \n",
    "\n",
    "train_images=np.array(train_images)\n",
    "train_img=(train_images)\n",
    "\n",
    "\n",
    "train_labels = le.fit_transform(train_labels)\n",
    "train_labels_dummy=to_categorical(train_labels,15)\n",
    "\n"
   ]
  },
  {
   "cell_type": "code",
   "execution_count": 48,
   "metadata": {},
   "outputs": [
    {
     "data": {
      "text/plain": [
       "array([[[[False,  True, False],\n",
       "         [False,  True, False],\n",
       "         [False,  True, False],\n",
       "         ...,\n",
       "         [False,  True, False],\n",
       "         [False,  True, False],\n",
       "         [False,  True, False]],\n",
       "\n",
       "        [[False,  True, False],\n",
       "         [False,  True, False],\n",
       "         [False,  True, False],\n",
       "         ...,\n",
       "         [False,  True, False],\n",
       "         [False,  True, False],\n",
       "         [False,  True, False]],\n",
       "\n",
       "        [[False,  True, False],\n",
       "         [False,  True, False],\n",
       "         [False,  True, False],\n",
       "         ...,\n",
       "         [False,  True, False],\n",
       "         [False,  True, False],\n",
       "         [False,  True, False]],\n",
       "\n",
       "        ...,\n",
       "\n",
       "        [[False,  True, False],\n",
       "         [False,  True, False],\n",
       "         [False,  True, False],\n",
       "         ...,\n",
       "         [False,  True, False],\n",
       "         [False,  True, False],\n",
       "         [False,  True, False]],\n",
       "\n",
       "        [[False,  True, False],\n",
       "         [False,  True, False],\n",
       "         [False,  True, False],\n",
       "         ...,\n",
       "         [False,  True, False],\n",
       "         [False,  True, False],\n",
       "         [False,  True, False]],\n",
       "\n",
       "        [[False,  True, False],\n",
       "         [False,  True, False],\n",
       "         [False,  True, False],\n",
       "         ...,\n",
       "         [False,  True, False],\n",
       "         [False,  True, False],\n",
       "         [False,  True, False]]],\n",
       "\n",
       "\n",
       "       [[[False,  True, False],\n",
       "         [False,  True, False],\n",
       "         [False,  True, False],\n",
       "         ...,\n",
       "         [False,  True, False],\n",
       "         [False,  True, False],\n",
       "         [False,  True, False]],\n",
       "\n",
       "        [[False,  True, False],\n",
       "         [False,  True, False],\n",
       "         [False,  True, False],\n",
       "         ...,\n",
       "         [False,  True, False],\n",
       "         [False,  True, False],\n",
       "         [False,  True, False]],\n",
       "\n",
       "        [[False,  True, False],\n",
       "         [False,  True, False],\n",
       "         [False,  True, False],\n",
       "         ...,\n",
       "         [False,  True, False],\n",
       "         [False,  True, False],\n",
       "         [False,  True, False]],\n",
       "\n",
       "        ...,\n",
       "\n",
       "        [[False,  True, False],\n",
       "         [False,  True, False],\n",
       "         [False,  True, False],\n",
       "         ...,\n",
       "         [False,  True, False],\n",
       "         [False,  True, False],\n",
       "         [False,  True, False]],\n",
       "\n",
       "        [[False,  True, False],\n",
       "         [False,  True, False],\n",
       "         [False,  True, False],\n",
       "         ...,\n",
       "         [False,  True, False],\n",
       "         [False,  True, False],\n",
       "         [False,  True, False]],\n",
       "\n",
       "        [[False,  True, False],\n",
       "         [False,  True, False],\n",
       "         [False,  True, False],\n",
       "         ...,\n",
       "         [False,  True, False],\n",
       "         [False,  True, False],\n",
       "         [False,  True, False]]],\n",
       "\n",
       "\n",
       "       [[[False,  True, False],\n",
       "         [False,  True, False],\n",
       "         [False,  True, False],\n",
       "         ...,\n",
       "         [False,  True, False],\n",
       "         [False,  True, False],\n",
       "         [False,  True, False]],\n",
       "\n",
       "        [[False,  True, False],\n",
       "         [False,  True, False],\n",
       "         [False,  True, False],\n",
       "         ...,\n",
       "         [False,  True, False],\n",
       "         [False,  True, False],\n",
       "         [False,  True, False]],\n",
       "\n",
       "        [[False,  True, False],\n",
       "         [False,  True, False],\n",
       "         [False,  True, False],\n",
       "         ...,\n",
       "         [False,  True, False],\n",
       "         [False,  True, False],\n",
       "         [False,  True, False]],\n",
       "\n",
       "        ...,\n",
       "\n",
       "        [[False,  True, False],\n",
       "         [False,  True, False],\n",
       "         [False,  True, False],\n",
       "         ...,\n",
       "         [False,  True, False],\n",
       "         [False,  True, False],\n",
       "         [False,  True, False]],\n",
       "\n",
       "        [[False,  True, False],\n",
       "         [False,  True, False],\n",
       "         [False,  True, False],\n",
       "         ...,\n",
       "         [False,  True, False],\n",
       "         [False,  True, False],\n",
       "         [False,  True, False]],\n",
       "\n",
       "        [[False,  True, False],\n",
       "         [False,  True, False],\n",
       "         [False,  True, False],\n",
       "         ...,\n",
       "         [False,  True, False],\n",
       "         [False,  True, False],\n",
       "         [False,  True, False]]],\n",
       "\n",
       "\n",
       "       ...,\n",
       "\n",
       "\n",
       "       [[[False,  True, False],\n",
       "         [False,  True, False],\n",
       "         [False,  True, False],\n",
       "         ...,\n",
       "         [False,  True, False],\n",
       "         [False,  True, False],\n",
       "         [False,  True, False]],\n",
       "\n",
       "        [[False,  True, False],\n",
       "         [False,  True, False],\n",
       "         [False,  True, False],\n",
       "         ...,\n",
       "         [False,  True, False],\n",
       "         [False,  True, False],\n",
       "         [False,  True, False]],\n",
       "\n",
       "        [[False,  True, False],\n",
       "         [False,  True, False],\n",
       "         [False,  True, False],\n",
       "         ...,\n",
       "         [False,  True, False],\n",
       "         [False,  True, False],\n",
       "         [False,  True, False]],\n",
       "\n",
       "        ...,\n",
       "\n",
       "        [[False,  True, False],\n",
       "         [False,  True, False],\n",
       "         [False,  True, False],\n",
       "         ...,\n",
       "         [False,  True, False],\n",
       "         [False,  True, False],\n",
       "         [False,  True, False]],\n",
       "\n",
       "        [[False,  True, False],\n",
       "         [False,  True, False],\n",
       "         [False,  True, False],\n",
       "         ...,\n",
       "         [False,  True, False],\n",
       "         [False,  True, False],\n",
       "         [False,  True, False]],\n",
       "\n",
       "        [[False,  True, False],\n",
       "         [False,  True, False],\n",
       "         [False,  True, False],\n",
       "         ...,\n",
       "         [False,  True, False],\n",
       "         [False,  True, False],\n",
       "         [False,  True, False]]],\n",
       "\n",
       "\n",
       "       [[[False,  True, False],\n",
       "         [False,  True, False],\n",
       "         [False,  True, False],\n",
       "         ...,\n",
       "         [False,  True, False],\n",
       "         [False,  True, False],\n",
       "         [False,  True, False]],\n",
       "\n",
       "        [[False,  True, False],\n",
       "         [False,  True, False],\n",
       "         [False,  True, False],\n",
       "         ...,\n",
       "         [False,  True, False],\n",
       "         [False,  True, False],\n",
       "         [False,  True, False]],\n",
       "\n",
       "        [[False,  True, False],\n",
       "         [False,  True, False],\n",
       "         [False,  True, False],\n",
       "         ...,\n",
       "         [False,  True, False],\n",
       "         [False,  True, False],\n",
       "         [False,  True, False]],\n",
       "\n",
       "        ...,\n",
       "\n",
       "        [[False,  True, False],\n",
       "         [False,  True, False],\n",
       "         [False,  True, False],\n",
       "         ...,\n",
       "         [False,  True, False],\n",
       "         [False,  True, False],\n",
       "         [False,  True, False]],\n",
       "\n",
       "        [[False,  True, False],\n",
       "         [False,  True, False],\n",
       "         [False,  True, False],\n",
       "         ...,\n",
       "         [False,  True, False],\n",
       "         [False,  True, False],\n",
       "         [False,  True, False]],\n",
       "\n",
       "        [[False,  True, False],\n",
       "         [False,  True, False],\n",
       "         [False,  True, False],\n",
       "         ...,\n",
       "         [False,  True, False],\n",
       "         [False,  True, False],\n",
       "         [False,  True, False]]],\n",
       "\n",
       "\n",
       "       [[[False,  True, False],\n",
       "         [False,  True, False],\n",
       "         [False,  True, False],\n",
       "         ...,\n",
       "         [False,  True, False],\n",
       "         [False,  True, False],\n",
       "         [False,  True, False]],\n",
       "\n",
       "        [[False,  True, False],\n",
       "         [False,  True, False],\n",
       "         [False,  True, False],\n",
       "         ...,\n",
       "         [False,  True, False],\n",
       "         [False,  True, False],\n",
       "         [False,  True, False]],\n",
       "\n",
       "        [[False,  True, False],\n",
       "         [False,  True, False],\n",
       "         [False,  True, False],\n",
       "         ...,\n",
       "         [False,  True, False],\n",
       "         [False,  True, False],\n",
       "         [False,  True, False]],\n",
       "\n",
       "        ...,\n",
       "\n",
       "        [[False,  True, False],\n",
       "         [False,  True, False],\n",
       "         [False,  True, False],\n",
       "         ...,\n",
       "         [False,  True, False],\n",
       "         [False,  True, False],\n",
       "         [False,  True, False]],\n",
       "\n",
       "        [[False,  True, False],\n",
       "         [False,  True, False],\n",
       "         [False,  True, False],\n",
       "         ...,\n",
       "         [False,  True, False],\n",
       "         [False,  True, False],\n",
       "         [False,  True, False]],\n",
       "\n",
       "        [[False,  True, False],\n",
       "         [False,  True, False],\n",
       "         [False,  True, False],\n",
       "         ...,\n",
       "         [False,  True, False],\n",
       "         [False,  True, False],\n",
       "         [False,  True, False]]]])"
      ]
     },
     "execution_count": 48,
     "metadata": {},
     "output_type": "execute_result"
    }
   ],
   "source": []
  },
  {
   "cell_type": "markdown",
   "metadata": {},
   "source": [
    "# CREATION OF TEST DATA"
   ]
  },
  {
   "cell_type": "code",
   "execution_count": 13,
   "metadata": {},
   "outputs": [],
   "source": [
    "list_of_images = utils.list_of_path(labels,test_dir)\n",
    "test_data,test_labels = utils.read_and_process_images(list_of_images,dimension=224)\n",
    "\n",
    "\n",
    "\n",
    "\n",
    "from keras.applications.vgg16 import preprocess_input\n",
    "test_images =  []\n",
    "\n",
    "for im in list_of_images:\n",
    "    temp_img=image.load_img(im,target_size=(224,224))\n",
    "    temp_img=image.img_to_array(temp_img)\n",
    "    test_images.append(temp_img)\n",
    "\n",
    "    \n",
    "test_images=np.array(test_images)\n",
    "test_img=preprocess_input(test_images)\n",
    "\n",
    "\n",
    "\n",
    "\n",
    "test_labels=le.fit_transform(test_labels)\n",
    "test_labelsdummy=to_categorical(test_labels,15)"
   ]
  },
  {
   "cell_type": "code",
   "execution_count": 14,
   "metadata": {},
   "outputs": [],
   "source": [
    "def vgg16_model(img_rows, img_cols, channel=1, num_classes=None):\n",
    "    adam = optimizers.Adam()\n",
    "    model = VGG16(weights='imagenet', include_top=True)\n",
    "    model_res = Sequential()\n",
    "    for layer in model.layers[:-1]: # just exclude last layer from copying\n",
    "        model_res.add(layer)\n",
    "    \n",
    "    model_res.add(Dense(15,activation='softmax'))\n",
    "    for layer in model_res.layers[:-1]:\n",
    "\n",
    "        layer.trainable = False\n",
    "    model_res.compile(optimizer=adam, loss='categorical_crossentropy', metrics=['accuracy'])\n",
    "    return model_res"
   ]
  },
  {
   "cell_type": "code",
   "execution_count": 15,
   "metadata": {},
   "outputs": [],
   "source": [
    "model = vgg16_model(224, 224, 3, 15)"
   ]
  },
  {
   "cell_type": "code",
   "execution_count": 16,
   "metadata": {},
   "outputs": [
    {
     "name": "stdout",
     "output_type": "stream",
     "text": [
      "Model: \"sequential_1\"\n",
      "_________________________________________________________________\n",
      "Layer (type)                 Output Shape              Param #   \n",
      "=================================================================\n",
      "block1_conv1 (Conv2D)        (None, 224, 224, 64)      1792      \n",
      "_________________________________________________________________\n",
      "block1_conv2 (Conv2D)        (None, 224, 224, 64)      36928     \n",
      "_________________________________________________________________\n",
      "block1_pool (MaxPooling2D)   (None, 112, 112, 64)      0         \n",
      "_________________________________________________________________\n",
      "block2_conv1 (Conv2D)        (None, 112, 112, 128)     73856     \n",
      "_________________________________________________________________\n",
      "block2_conv2 (Conv2D)        (None, 112, 112, 128)     147584    \n",
      "_________________________________________________________________\n",
      "block2_pool (MaxPooling2D)   (None, 56, 56, 128)       0         \n",
      "_________________________________________________________________\n",
      "block3_conv1 (Conv2D)        (None, 56, 56, 256)       295168    \n",
      "_________________________________________________________________\n",
      "block3_conv2 (Conv2D)        (None, 56, 56, 256)       590080    \n",
      "_________________________________________________________________\n",
      "block3_conv3 (Conv2D)        (None, 56, 56, 256)       590080    \n",
      "_________________________________________________________________\n",
      "block3_pool (MaxPooling2D)   (None, 28, 28, 256)       0         \n",
      "_________________________________________________________________\n",
      "block4_conv1 (Conv2D)        (None, 28, 28, 512)       1180160   \n",
      "_________________________________________________________________\n",
      "block4_conv2 (Conv2D)        (None, 28, 28, 512)       2359808   \n",
      "_________________________________________________________________\n",
      "block4_conv3 (Conv2D)        (None, 28, 28, 512)       2359808   \n",
      "_________________________________________________________________\n",
      "block4_pool (MaxPooling2D)   (None, 14, 14, 512)       0         \n",
      "_________________________________________________________________\n",
      "block5_conv1 (Conv2D)        (None, 14, 14, 512)       2359808   \n",
      "_________________________________________________________________\n",
      "block5_conv2 (Conv2D)        (None, 14, 14, 512)       2359808   \n",
      "_________________________________________________________________\n",
      "block5_conv3 (Conv2D)        (None, 14, 14, 512)       2359808   \n",
      "_________________________________________________________________\n",
      "block5_pool (MaxPooling2D)   (None, 7, 7, 512)         0         \n",
      "_________________________________________________________________\n",
      "flatten (Flatten)            (None, 25088)             0         \n",
      "_________________________________________________________________\n",
      "fc1 (Dense)                  (None, 4096)              102764544 \n",
      "_________________________________________________________________\n",
      "fc2 (Dense)                  (None, 4096)              16781312  \n",
      "_________________________________________________________________\n",
      "dense_1 (Dense)              (None, 15)                61455     \n",
      "=================================================================\n",
      "Total params: 134,321,999\n",
      "Trainable params: 61,455\n",
      "Non-trainable params: 134,260,544\n",
      "_________________________________________________________________\n"
     ]
    }
   ],
   "source": [
    "model.summary()"
   ]
  },
  {
   "cell_type": "code",
   "execution_count": 17,
   "metadata": {},
   "outputs": [
    {
     "name": "stdout",
     "output_type": "stream",
     "text": [
      "Train on 1275 samples, validate on 225 samples\n",
      "Epoch 1/10\n",
      "1275/1275 [==============================] - 489s 384ms/step - loss: 1.0437 - accuracy: 0.6478 - val_loss: 0.4348 - val_accuracy: 0.8489\n",
      "Epoch 2/10\n",
      "1275/1275 [==============================] - 475s 373ms/step - loss: 0.2703 - accuracy: 0.9035 - val_loss: 0.3296 - val_accuracy: 0.8667\n",
      "Epoch 3/10\n",
      "1275/1275 [==============================] - 1559s 1s/step - loss: 0.1551 - accuracy: 0.9522 - val_loss: 0.3050 - val_accuracy: 0.8933\n",
      "Epoch 4/10\n",
      "1275/1275 [==============================] - 1030s 808ms/step - loss: 0.0906 - accuracy: 0.9796 - val_loss: 0.3289 - val_accuracy: 0.8711\n",
      "Epoch 5/10\n",
      "1275/1275 [==============================] - 609s 478ms/step - loss: 0.0577 - accuracy: 0.9914 - val_loss: 0.3234 - val_accuracy: 0.8889\n",
      "Epoch 6/10\n",
      "1275/1275 [==============================] - 465s 365ms/step - loss: 0.0413 - accuracy: 0.9961 - val_loss: 0.3201 - val_accuracy: 0.8711\n",
      "Epoch 7/10\n",
      "1275/1275 [==============================] - 517s 405ms/step - loss: 0.0313 - accuracy: 0.9992 - val_loss: 0.3186 - val_accuracy: 0.8756\n",
      "Epoch 8/10\n",
      "1275/1275 [==============================] - 498s 391ms/step - loss: 0.0262 - accuracy: 1.0000 - val_loss: 0.3265 - val_accuracy: 0.8711\n",
      "Epoch 9/10\n",
      "1275/1275 [==============================] - 500s 392ms/step - loss: 0.0222 - accuracy: 0.9992 - val_loss: 0.3152 - val_accuracy: 0.8800\n",
      "Epoch 10/10\n",
      "1275/1275 [==============================] - 530s 416ms/step - loss: 0.0191 - accuracy: 1.0000 - val_loss: 0.3139 - val_accuracy: 0.8756\n"
     ]
    },
    {
     "data": {
      "text/plain": [
       "<keras.callbacks.callbacks.History at 0x1a3ff37ef0>"
      ]
     },
     "execution_count": 17,
     "metadata": {},
     "output_type": "execute_result"
    }
   ],
   "source": [
    "history = History()\n",
    "model.fit(train_img,train_labels_dummy,batch_size=64,epochs=10,validation_split=0.15,shuffle=True,callbacks=[history])"
   ]
  },
  {
   "cell_type": "code",
   "execution_count": 18,
   "metadata": {},
   "outputs": [
    {
     "name": "stdout",
     "output_type": "stream",
     "text": [
      "2985/2985 [==============================] - 1869s 626ms/step\n"
     ]
    },
    {
     "data": {
      "text/plain": [
       "[0.37291230101331796, 0.8793969750404358]"
      ]
     },
     "execution_count": 18,
     "metadata": {},
     "output_type": "execute_result"
    }
   ],
   "source": [
    "model.evaluate(test_img,test_labelsdummy)"
   ]
  },
  {
   "cell_type": "code",
   "execution_count": 28,
   "metadata": {},
   "outputs": [
    {
     "data": {
      "text/plain": [
       "(1500, 15)"
      ]
     },
     "execution_count": 28,
     "metadata": {},
     "output_type": "execute_result"
    }
   ],
   "source": [
    "train_labels_dummy.shape"
   ]
  },
  {
   "cell_type": "code",
   "execution_count": 29,
   "metadata": {},
   "outputs": [],
   "source": [
    "# I predict classes of my test_data in order to build my confusion matrix \n",
    "y_pred = model.predict_classes(test_img)"
   ]
  },
  {
   "cell_type": "code",
   "execution_count": 30,
   "metadata": {},
   "outputs": [],
   "source": [
    "cm = confusion_matrix(test_labels,y_pred)"
   ]
  },
  {
   "cell_type": "code",
   "execution_count": 31,
   "metadata": {},
   "outputs": [
    {
     "data": {
      "image/png": "[encoded data removed]",
      "text/plain": [
       "<Figure size 432x288 with 2 Axes>"
      ]
     },
     "metadata": {
      "needs_background": "light"
     },
     "output_type": "display_data"
    }
   ],
   "source": [
    "utils.plot_confusion_matrix(cm,labels,\"point_three\",\"images_point_three/\",normalize=True)"
   ]
  },
  {
   "cell_type": "code",
   "execution_count": 49,
   "metadata": {},
   "outputs": [
    {
     "data": {
      "image/png": "[encoded data removed]",
      "text/plain": [
       "<Figure size 432x288 with 1 Axes>"
      ]
     },
     "metadata": {
      "needs_background": "light"
     },
     "output_type": "display_data"
    }
   ],
   "source": [
    "plt.title(\"validation loss\")\n",
    "plt.xlabel(\"epochs\")\n",
    "plt.ylabel(\"val-loss\")\n",
    "plt.plot(history.history['val_loss'])\n",
    "plt.grid()\n",
    "plt.savefig(\"images_point_three/validation_loss_3.jpg\")\n"
   ]
  },
  {
   "cell_type": "code",
   "execution_count": 50,
   "metadata": {},
   "outputs": [
    {
     "data": {
      "image/png": "[encoded data removed]",
      "text/plain": [
       "<Figure size 432x288 with 1 Axes>"
      ]
     },
     "metadata": {
      "needs_background": "light"
     },
     "output_type": "display_data"
    }
   ],
   "source": [
    "plt.title(\"validation accuracy\")\n",
    "plt.xlabel(\"epochs\")\n",
    "plt.ylabel(\"accuracy\")\n",
    "plt.plot(history.history['val_accuracy'])\n",
    "plt.grid()\n",
    "plt.savefig(\"images_point_three/validation_accuracy_3.jpg\")\n"
   ]
  },
  {
   "cell_type": "code",
   "execution_count": 51,
   "metadata": {},
   "outputs": [
    {
     "data": {
      "image/png": "[encoded data removed]",
      "text/plain": [
       "<Figure size 432x288 with 1 Axes>"
      ]
     },
     "metadata": {
      "needs_background": "light"
     },
     "output_type": "display_data"
    }
   ],
   "source": [
    "plt.title(\" accuracy\")\n",
    "plt.xlabel(\"epochs\")\n",
    "plt.ylabel(\"accuracy\")\n",
    "plt.plot(history.history['accuracy'])\n",
    "plt.grid()\n",
    "plt.savefig(\"images_point_three/accuracy_3.jpg\")"
   ]
  },
  {
   "cell_type": "code",
   "execution_count": 52,
   "metadata": {},
   "outputs": [
    {
     "data": {
      "image/png": "[encoded data removed]",
      "text/plain": [
       "<Figure size 432x288 with 1 Axes>"
      ]
     },
     "metadata": {
      "needs_background": "light"
     },
     "output_type": "display_data"
    }
   ],
   "source": [
    "plt.title(\"Loss\")\n",
    "plt.xlabel(\"epochs\")\n",
    "plt.ylabel(\"accuracy\")\n",
    "plt.plot(history.history['loss'])\n",
    "plt.grid()\n",
    "plt.savefig(\"images_point_three/loss_3.jpg\")"
   ]
  },
  {
   "cell_type": "code",
   "execution_count": null,
   "metadata": {},
   "outputs": [],
   "source": []
  }
 ],
 "metadata": {
  "kernelspec": {
   "display_name": "Python 3",
   "language": "python",
   "name": "python3"
  },
  "language_info": {
   "codemirror_mode": {
    "name": "ipython",
    "version": 3
   },
   "file_extension": ".py",
   "mimetype": "text/x-python",
   "name": "python",
   "nbconvert_exporter": "python",
   "pygments_lexer": "ipython3",
   "version": "3.7.3"
  }
 },
 "nbformat": 4,
 "nbformat_minor": 2
}
